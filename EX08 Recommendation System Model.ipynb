{
 "cells": [
  {
   "cell_type": "markdown",
   "id": "steady-median",
   "metadata": {},
   "source": [
    "# Exploration_SSAC 08 Movielens 영화 추천"
   ]
  },
  {
   "cell_type": "markdown",
   "id": "alert-tuesday",
   "metadata": {},
   "source": [
    "**Keyword** : 추천시스템 알고리즘, 협업 필터링/콘텐츠 기반 필터링, Matrix Factorization(MF), CSR(Compressed Sparse Row) Matrix"
   ]
  },
  {
   "cell_type": "markdown",
   "id": "laughing-mandate",
   "metadata": {},
   "source": [
    "##### Project Process  \n",
    "\n",
    "1) 데이터 준비와 전처리  \n",
    "2) 데이터 분석  \n",
    "3) CSR Matrix 생성  \n",
    "4) AlternatingLeastSquares Model 생성  \n",
    "5) 모델 예측  \n",
    "6) 모델 활용"
   ]
  },
  {
   "cell_type": "markdown",
   "id": "trying-defendant",
   "metadata": {},
   "source": [
    "##### Project Preview  \n",
    "* Dataset : MovieLens 1M Dataset  \n",
    "* rating.dat 파일에는 이미 인덱싱이 완료된 사용자-영화-평점 데이터 정제 완료\n",
    "* Explicit 데이터지만 Implicit 데이터로 간주하고 테스트  \n",
    "* Explicit (별점 데이터)를 '시청횟수'로 해석하여 진행  \n",
    "* 데이터 value 가 3점 미만 (별점)이면, 사용자가 선호하지 않은 것이라 가정 (제외 데이터)"
   ]
  },
  {
   "cell_type": "markdown",
   "id": "swiss-possession",
   "metadata": {},
   "source": [
    "##### 필요한 모듈 import"
   ]
  },
  {
   "cell_type": "code",
   "execution_count": 62,
   "id": "civil-engagement",
   "metadata": {},
   "outputs": [],
   "source": [
    "import os\n",
    "import pandas as pd\n",
    "import numpy as np\n",
    "from scipy.sparse import csr_matrix\n",
    "from implicit.als import AlternatingLeastSquares"
   ]
  },
  {
   "cell_type": "code",
   "execution_count": null,
   "id": "tight-lotus",
   "metadata": {},
   "outputs": [],
   "source": []
  },
  {
   "cell_type": "markdown",
   "id": "minor-knowing",
   "metadata": {},
   "source": [
    "## 1) 데이터 준비와 전처리"
   ]
  },
  {
   "cell_type": "markdown",
   "id": "pressing-ministry",
   "metadata": {},
   "source": [
    "* .dat 파일 형식이 무엇인지 몰랐는데, 직접 파일을 열어보니 Dataframe 형태가 아닌 텍스트와 부호로 이루어진 파일이었다.   \n",
    "* DAT 파일에 포함된 정보는 일반적으로 일반 텍스트 또는 이진이라고 한다.  \n",
    "* 따라서, 데이터프레임 형태로 만들어 주기 위해, 직접 컬럼명을 지정해 준다."
   ]
  },
  {
   "cell_type": "code",
   "execution_count": 2,
   "id": "automated-boxing",
   "metadata": {},
   "outputs": [
    {
     "data": {
      "text/html": [
       "<div>\n",
       "<style scoped>\n",
       "    .dataframe tbody tr th:only-of-type {\n",
       "        vertical-align: middle;\n",
       "    }\n",
       "\n",
       "    .dataframe tbody tr th {\n",
       "        vertical-align: top;\n",
       "    }\n",
       "\n",
       "    .dataframe thead th {\n",
       "        text-align: right;\n",
       "    }\n",
       "</style>\n",
       "<table border=\"1\" class=\"dataframe\">\n",
       "  <thead>\n",
       "    <tr style=\"text-align: right;\">\n",
       "      <th></th>\n",
       "      <th>user_id</th>\n",
       "      <th>movie_id</th>\n",
       "      <th>rating</th>\n",
       "      <th>timestamp</th>\n",
       "    </tr>\n",
       "  </thead>\n",
       "  <tbody>\n",
       "    <tr>\n",
       "      <th>0</th>\n",
       "      <td>1</td>\n",
       "      <td>1193</td>\n",
       "      <td>5</td>\n",
       "      <td>978300760</td>\n",
       "    </tr>\n",
       "    <tr>\n",
       "      <th>1</th>\n",
       "      <td>1</td>\n",
       "      <td>661</td>\n",
       "      <td>3</td>\n",
       "      <td>978302109</td>\n",
       "    </tr>\n",
       "    <tr>\n",
       "      <th>2</th>\n",
       "      <td>1</td>\n",
       "      <td>914</td>\n",
       "      <td>3</td>\n",
       "      <td>978301968</td>\n",
       "    </tr>\n",
       "    <tr>\n",
       "      <th>3</th>\n",
       "      <td>1</td>\n",
       "      <td>3408</td>\n",
       "      <td>4</td>\n",
       "      <td>978300275</td>\n",
       "    </tr>\n",
       "    <tr>\n",
       "      <th>4</th>\n",
       "      <td>1</td>\n",
       "      <td>2355</td>\n",
       "      <td>5</td>\n",
       "      <td>978824291</td>\n",
       "    </tr>\n",
       "  </tbody>\n",
       "</table>\n",
       "</div>"
      ],
      "text/plain": [
       "   user_id  movie_id  rating  timestamp\n",
       "0        1      1193       5  978300760\n",
       "1        1       661       3  978302109\n",
       "2        1       914       3  978301968\n",
       "3        1      3408       4  978300275\n",
       "4        1      2355       5  978824291"
      ]
     },
     "execution_count": 2,
     "metadata": {},
     "output_type": "execute_result"
    }
   ],
   "source": [
    "rating_file_path=os.getenv('HOME') + '/aiffel/recommendata_iu/data/ml-1m/ratings.dat'\n",
    "ratings_cols = ['user_id', 'movie_id', 'rating', 'timestamp'] # 컬럼명 지정\n",
    "# 본래 .dat 파일이기 때문에, sep, engine의 파라미터 활용하여 변환\n",
    "ratings = pd.read_csv(rating_file_path, sep='::', names=ratings_cols, engine='python')\n",
    "orginal_data_size = len(ratings) # 1000209\n",
    "ratings.head()"
   ]
  },
  {
   "cell_type": "code",
   "execution_count": 3,
   "id": "living-lying",
   "metadata": {},
   "outputs": [
    {
     "data": {
      "text/plain": [
       "(1000209, 4)"
      ]
     },
     "execution_count": 3,
     "metadata": {},
     "output_type": "execute_result"
    }
   ],
   "source": [
    "ratings.shape"
   ]
  },
  {
   "cell_type": "code",
   "execution_count": 4,
   "id": "biological-recipe",
   "metadata": {},
   "outputs": [
    {
     "name": "stdout",
     "output_type": "stream",
     "text": [
      "orginal_data_size: 1000209, filtered_data_size: 836478\n",
      "Ratio of Remaining Data is 83.63%\n"
     ]
    }
   ],
   "source": [
    "# 3점 이상만 남깁니다. 위에서 가정한대로 적용\n",
    "ratings = ratings[ratings['rating']>=3]\n",
    "filtered_data_size = len(ratings) # 836478\n",
    "\n",
    "print(f'orginal_data_size: {orginal_data_size}, filtered_data_size: {filtered_data_size}')\n",
    "print(f'Ratio of Remaining Data is {filtered_data_size / orginal_data_size:.2%}')"
   ]
  },
  {
   "cell_type": "code",
   "execution_count": 5,
   "id": "thermal-portfolio",
   "metadata": {},
   "outputs": [],
   "source": [
    "# 모델 생성시, '별점'이 아닌 영화 '시청 횟수'로 가정하고 진행하기 위해 컬럼명 수정\n",
    "ratings.rename(columns={'rating':'count'}, inplace=True)"
   ]
  },
  {
   "cell_type": "code",
   "execution_count": 6,
   "id": "deadly-vitamin",
   "metadata": {},
   "outputs": [
    {
     "data": {
      "text/plain": [
       "0          5\n",
       "1          3\n",
       "2          3\n",
       "3          4\n",
       "4          5\n",
       "          ..\n",
       "1000203    3\n",
       "1000205    5\n",
       "1000206    5\n",
       "1000207    4\n",
       "1000208    4\n",
       "Name: count, Length: 836478, dtype: int64"
      ]
     },
     "execution_count": 6,
     "metadata": {},
     "output_type": "execute_result"
    }
   ],
   "source": [
    "ratings['count']"
   ]
  },
  {
   "cell_type": "code",
   "execution_count": 7,
   "id": "numerical-cigarette",
   "metadata": {},
   "outputs": [
    {
     "data": {
      "text/html": [
       "<div>\n",
       "<style scoped>\n",
       "    .dataframe tbody tr th:only-of-type {\n",
       "        vertical-align: middle;\n",
       "    }\n",
       "\n",
       "    .dataframe tbody tr th {\n",
       "        vertical-align: top;\n",
       "    }\n",
       "\n",
       "    .dataframe thead th {\n",
       "        text-align: right;\n",
       "    }\n",
       "</style>\n",
       "<table border=\"1\" class=\"dataframe\">\n",
       "  <thead>\n",
       "    <tr style=\"text-align: right;\">\n",
       "      <th></th>\n",
       "      <th>movie_id</th>\n",
       "      <th>title</th>\n",
       "      <th>genre</th>\n",
       "    </tr>\n",
       "  </thead>\n",
       "  <tbody>\n",
       "    <tr>\n",
       "      <th>0</th>\n",
       "      <td>1</td>\n",
       "      <td>Toy Story (1995)</td>\n",
       "      <td>Animation|Children's|Comedy</td>\n",
       "    </tr>\n",
       "    <tr>\n",
       "      <th>1</th>\n",
       "      <td>2</td>\n",
       "      <td>Jumanji (1995)</td>\n",
       "      <td>Adventure|Children's|Fantasy</td>\n",
       "    </tr>\n",
       "    <tr>\n",
       "      <th>2</th>\n",
       "      <td>3</td>\n",
       "      <td>Grumpier Old Men (1995)</td>\n",
       "      <td>Comedy|Romance</td>\n",
       "    </tr>\n",
       "    <tr>\n",
       "      <th>3</th>\n",
       "      <td>4</td>\n",
       "      <td>Waiting to Exhale (1995)</td>\n",
       "      <td>Comedy|Drama</td>\n",
       "    </tr>\n",
       "    <tr>\n",
       "      <th>4</th>\n",
       "      <td>5</td>\n",
       "      <td>Father of the Bride Part II (1995)</td>\n",
       "      <td>Comedy</td>\n",
       "    </tr>\n",
       "  </tbody>\n",
       "</table>\n",
       "</div>"
      ],
      "text/plain": [
       "   movie_id                               title                         genre\n",
       "0         1                    Toy Story (1995)   Animation|Children's|Comedy\n",
       "1         2                      Jumanji (1995)  Adventure|Children's|Fantasy\n",
       "2         3             Grumpier Old Men (1995)                Comedy|Romance\n",
       "3         4            Waiting to Exhale (1995)                  Comedy|Drama\n",
       "4         5  Father of the Bride Part II (1995)                        Comedy"
      ]
     },
     "execution_count": 7,
     "metadata": {},
     "output_type": "execute_result"
    }
   ],
   "source": [
    "# 영화 제목을 보기 위해 메타 데이터 로딩\n",
    "movie_file_path=os.getenv('HOME') + '/aiffel/recommendata_iu/data/ml-1m/movies.dat'\n",
    "cols = ['movie_id', 'title', 'genre'] \n",
    "movies = pd.read_csv(movie_file_path, sep='::', names=cols, engine='python')\n",
    "movies.head()"
   ]
  },
  {
   "cell_type": "code",
   "execution_count": 8,
   "id": "brown-michigan",
   "metadata": {},
   "outputs": [
    {
     "data": {
      "text/plain": [
       "(3883, 3)"
      ]
     },
     "execution_count": 8,
     "metadata": {},
     "output_type": "execute_result"
    }
   ],
   "source": [
    "movies.shape"
   ]
  },
  {
   "cell_type": "code",
   "execution_count": 9,
   "id": "bizarre-honor",
   "metadata": {},
   "outputs": [
    {
     "data": {
      "text/html": [
       "<div>\n",
       "<style scoped>\n",
       "    .dataframe tbody tr th:only-of-type {\n",
       "        vertical-align: middle;\n",
       "    }\n",
       "\n",
       "    .dataframe tbody tr th {\n",
       "        vertical-align: top;\n",
       "    }\n",
       "\n",
       "    .dataframe thead th {\n",
       "        text-align: right;\n",
       "    }\n",
       "</style>\n",
       "<table border=\"1\" class=\"dataframe\">\n",
       "  <thead>\n",
       "    <tr style=\"text-align: right;\">\n",
       "      <th></th>\n",
       "      <th>movie_id</th>\n",
       "      <th>title</th>\n",
       "      <th>genre</th>\n",
       "    </tr>\n",
       "  </thead>\n",
       "  <tbody>\n",
       "    <tr>\n",
       "      <th>0</th>\n",
       "      <td>1</td>\n",
       "      <td>toy story (1995)</td>\n",
       "      <td>Animation|Children's|Comedy</td>\n",
       "    </tr>\n",
       "    <tr>\n",
       "      <th>1</th>\n",
       "      <td>2</td>\n",
       "      <td>jumanji (1995)</td>\n",
       "      <td>Adventure|Children's|Fantasy</td>\n",
       "    </tr>\n",
       "    <tr>\n",
       "      <th>2</th>\n",
       "      <td>3</td>\n",
       "      <td>grumpier old men (1995)</td>\n",
       "      <td>Comedy|Romance</td>\n",
       "    </tr>\n",
       "    <tr>\n",
       "      <th>3</th>\n",
       "      <td>4</td>\n",
       "      <td>waiting to exhale (1995)</td>\n",
       "      <td>Comedy|Drama</td>\n",
       "    </tr>\n",
       "    <tr>\n",
       "      <th>4</th>\n",
       "      <td>5</td>\n",
       "      <td>father of the bride part ii (1995)</td>\n",
       "      <td>Comedy</td>\n",
       "    </tr>\n",
       "  </tbody>\n",
       "</table>\n",
       "</div>"
      ],
      "text/plain": [
       "   movie_id                               title                         genre\n",
       "0         1                    toy story (1995)   Animation|Children's|Comedy\n",
       "1         2                      jumanji (1995)  Adventure|Children's|Fantasy\n",
       "2         3             grumpier old men (1995)                Comedy|Romance\n",
       "3         4            waiting to exhale (1995)                  Comedy|Drama\n",
       "4         5  father of the bride part ii (1995)                        Comedy"
      ]
     },
     "execution_count": 9,
     "metadata": {},
     "output_type": "execute_result"
    }
   ],
   "source": [
    "# 모델 학습 후, 검증하는 단계에서 쉬운 검색을 위해 모두 소문자로 변경\n",
    "movies['title'] = movies['title'].str.lower()\n",
    "movies.head(5)"
   ]
  },
  {
   "cell_type": "code",
   "execution_count": 129,
   "id": "phantom-yellow",
   "metadata": {},
   "outputs": [
    {
     "data": {
      "text/plain": [
       "2    grumpier old men (1995)\n",
       "Name: title, dtype: object"
      ]
     },
     "execution_count": 129,
     "metadata": {},
     "output_type": "execute_result"
    }
   ],
   "source": [
    "movies[movies['movie_id'] == 3]['title']"
   ]
  },
  {
   "cell_type": "code",
   "execution_count": null,
   "id": "advanced-technician",
   "metadata": {},
   "outputs": [],
   "source": []
  },
  {
   "cell_type": "markdown",
   "id": "macro-seeker",
   "metadata": {},
   "source": [
    "## 2) 데이터 분석\n",
    "\n",
    "* ratings에 있는 유니크한 영화 개수  \n",
    "* ratings에 있는 유니크한 사용자 수   \n",
    "* 가장 인기 있는 영화 30개 (인기수) -> 시청 횟수 평균이 가장 높은 영화 (?)"
   ]
  },
  {
   "cell_type": "markdown",
   "id": "moderate-calcium",
   "metadata": {},
   "source": [
    "**1) ratings에 있는 유니크한 영화 개수 :: 3628개의 영화 기준**"
   ]
  },
  {
   "cell_type": "code",
   "execution_count": 10,
   "id": "widespread-infrared",
   "metadata": {},
   "outputs": [
    {
     "data": {
      "text/plain": [
       "3628"
      ]
     },
     "execution_count": 10,
     "metadata": {},
     "output_type": "execute_result"
    }
   ],
   "source": [
    "ratings['movie_id'].nunique()"
   ]
  },
  {
   "cell_type": "markdown",
   "id": "attempted-mount",
   "metadata": {},
   "source": [
    "**2) ratings에 있는 유니크한 사용자수 :: 6039명의 사용자 대상**"
   ]
  },
  {
   "cell_type": "code",
   "execution_count": 11,
   "id": "indie-ensemble",
   "metadata": {},
   "outputs": [
    {
     "data": {
      "text/plain": [
       "6039"
      ]
     },
     "execution_count": 11,
     "metadata": {},
     "output_type": "execute_result"
    }
   ],
   "source": [
    "ratings['user_id'].nunique()"
   ]
  },
  {
   "cell_type": "code",
   "execution_count": 12,
   "id": "relevant-memorial",
   "metadata": {},
   "outputs": [
    {
     "data": {
      "text/plain": [
       "array([   1,    2,    3, ..., 6038, 6039, 6040])"
      ]
     },
     "execution_count": 12,
     "metadata": {},
     "output_type": "execute_result"
    }
   ],
   "source": [
    "ratings['user_id'].unique()"
   ]
  },
  {
   "cell_type": "markdown",
   "id": "competent-stations",
   "metadata": {},
   "source": [
    "**3) 가장 인기 있는 영화 30개 (인기수)**"
   ]
  },
  {
   "cell_type": "code",
   "execution_count": 13,
   "id": "charged-progressive",
   "metadata": {
    "scrolled": true
   },
   "outputs": [
    {
     "data": {
      "text/html": [
       "<div>\n",
       "<style scoped>\n",
       "    .dataframe tbody tr th:only-of-type {\n",
       "        vertical-align: middle;\n",
       "    }\n",
       "\n",
       "    .dataframe tbody tr th {\n",
       "        vertical-align: top;\n",
       "    }\n",
       "\n",
       "    .dataframe thead th {\n",
       "        text-align: right;\n",
       "    }\n",
       "</style>\n",
       "<table border=\"1\" class=\"dataframe\">\n",
       "  <thead>\n",
       "    <tr style=\"text-align: right;\">\n",
       "      <th></th>\n",
       "      <th>user_id</th>\n",
       "    </tr>\n",
       "    <tr>\n",
       "      <th>movie_id</th>\n",
       "      <th></th>\n",
       "    </tr>\n",
       "  </thead>\n",
       "  <tbody>\n",
       "    <tr>\n",
       "      <th>2858</th>\n",
       "      <td>3211</td>\n",
       "    </tr>\n",
       "    <tr>\n",
       "      <th>260</th>\n",
       "      <td>2910</td>\n",
       "    </tr>\n",
       "    <tr>\n",
       "      <th>1196</th>\n",
       "      <td>2885</td>\n",
       "    </tr>\n",
       "    <tr>\n",
       "      <th>1210</th>\n",
       "      <td>2716</td>\n",
       "    </tr>\n",
       "    <tr>\n",
       "      <th>2028</th>\n",
       "      <td>2561</td>\n",
       "    </tr>\n",
       "    <tr>\n",
       "      <th>589</th>\n",
       "      <td>2509</td>\n",
       "    </tr>\n",
       "    <tr>\n",
       "      <th>593</th>\n",
       "      <td>2498</td>\n",
       "    </tr>\n",
       "    <tr>\n",
       "      <th>1198</th>\n",
       "      <td>2473</td>\n",
       "    </tr>\n",
       "    <tr>\n",
       "      <th>1270</th>\n",
       "      <td>2460</td>\n",
       "    </tr>\n",
       "    <tr>\n",
       "      <th>2571</th>\n",
       "      <td>2434</td>\n",
       "    </tr>\n",
       "    <tr>\n",
       "      <th>480</th>\n",
       "      <td>2413</td>\n",
       "    </tr>\n",
       "    <tr>\n",
       "      <th>2762</th>\n",
       "      <td>2385</td>\n",
       "    </tr>\n",
       "    <tr>\n",
       "      <th>608</th>\n",
       "      <td>2371</td>\n",
       "    </tr>\n",
       "    <tr>\n",
       "      <th>110</th>\n",
       "      <td>2314</td>\n",
       "    </tr>\n",
       "    <tr>\n",
       "      <th>1580</th>\n",
       "      <td>2297</td>\n",
       "    </tr>\n",
       "    <tr>\n",
       "      <th>527</th>\n",
       "      <td>2257</td>\n",
       "    </tr>\n",
       "    <tr>\n",
       "      <th>1197</th>\n",
       "      <td>2252</td>\n",
       "    </tr>\n",
       "    <tr>\n",
       "      <th>2396</th>\n",
       "      <td>2213</td>\n",
       "    </tr>\n",
       "    <tr>\n",
       "      <th>1617</th>\n",
       "      <td>2210</td>\n",
       "    </tr>\n",
       "    <tr>\n",
       "      <th>318</th>\n",
       "      <td>2194</td>\n",
       "    </tr>\n",
       "    <tr>\n",
       "      <th>858</th>\n",
       "      <td>2167</td>\n",
       "    </tr>\n",
       "    <tr>\n",
       "      <th>1265</th>\n",
       "      <td>2121</td>\n",
       "    </tr>\n",
       "    <tr>\n",
       "      <th>1097</th>\n",
       "      <td>2102</td>\n",
       "    </tr>\n",
       "    <tr>\n",
       "      <th>2997</th>\n",
       "      <td>2066</td>\n",
       "    </tr>\n",
       "    <tr>\n",
       "      <th>2716</th>\n",
       "      <td>2051</td>\n",
       "    </tr>\n",
       "    <tr>\n",
       "      <th>296</th>\n",
       "      <td>2030</td>\n",
       "    </tr>\n",
       "    <tr>\n",
       "      <th>356</th>\n",
       "      <td>2022</td>\n",
       "    </tr>\n",
       "    <tr>\n",
       "      <th>1240</th>\n",
       "      <td>2019</td>\n",
       "    </tr>\n",
       "    <tr>\n",
       "      <th>1</th>\n",
       "      <td>2000</td>\n",
       "    </tr>\n",
       "    <tr>\n",
       "      <th>457</th>\n",
       "      <td>1941</td>\n",
       "    </tr>\n",
       "  </tbody>\n",
       "</table>\n",
       "</div>"
      ],
      "text/plain": [
       "          user_id\n",
       "movie_id         \n",
       "2858         3211\n",
       "260          2910\n",
       "1196         2885\n",
       "1210         2716\n",
       "2028         2561\n",
       "589          2509\n",
       "593          2498\n",
       "1198         2473\n",
       "1270         2460\n",
       "2571         2434\n",
       "480          2413\n",
       "2762         2385\n",
       "608          2371\n",
       "110          2314\n",
       "1580         2297\n",
       "527          2257\n",
       "1197         2252\n",
       "2396         2213\n",
       "1617         2210\n",
       "318          2194\n",
       "858          2167\n",
       "1265         2121\n",
       "1097         2102\n",
       "2997         2066\n",
       "2716         2051\n",
       "296          2030\n",
       "356          2022\n",
       "1240         2019\n",
       "1            2000\n",
       "457          1941"
      ]
     },
     "execution_count": 13,
     "metadata": {},
     "output_type": "execute_result"
    }
   ],
   "source": [
    "movie_count = ratings.groupby('movie_id')['user_id'].count()\n",
    "pd.DataFrame(movie_count.sort_values(ascending=False)).head(30)"
   ]
  },
  {
   "cell_type": "markdown",
   "id": "legislative-leader",
   "metadata": {},
   "source": [
    "**4) 사용자별 몇 개의 영화를 봤는지**"
   ]
  },
  {
   "cell_type": "code",
   "execution_count": 14,
   "id": "permanent-clothing",
   "metadata": {
    "scrolled": true
   },
   "outputs": [
    {
     "data": {
      "text/plain": [
       "count    6039.000000\n",
       "mean      138.512668\n",
       "std       156.241599\n",
       "min         1.000000\n",
       "25%        38.000000\n",
       "50%        81.000000\n",
       "75%       177.000000\n",
       "max      1968.000000\n",
       "Name: movie_id, dtype: float64"
      ]
     },
     "execution_count": 14,
     "metadata": {},
     "output_type": "execute_result"
    }
   ],
   "source": [
    "user_count = ratings.groupby('user_id')['movie_id'].count()\n",
    "user_count.describe()"
   ]
  },
  {
   "cell_type": "markdown",
   "id": "norwegian-philippines",
   "metadata": {},
   "source": [
    "* 전체 사용자는 6039명  \n",
    "* 사용자의 시청한 영화 개수 평균 : 138편의 영화  \n",
    "* 가장 많은 영화를 시청한 사용자의 영화 수 : 3628편 중 1968평 시청"
   ]
  },
  {
   "cell_type": "markdown",
   "id": "surgical-findings",
   "metadata": {},
   "source": [
    "**5) movie_id와 title를 한번에 볼 수 있도록 merge table 생성**"
   ]
  },
  {
   "cell_type": "code",
   "execution_count": 15,
   "id": "explicit-array",
   "metadata": {},
   "outputs": [
    {
     "data": {
      "text/html": [
       "<div>\n",
       "<style scoped>\n",
       "    .dataframe tbody tr th:only-of-type {\n",
       "        vertical-align: middle;\n",
       "    }\n",
       "\n",
       "    .dataframe tbody tr th {\n",
       "        vertical-align: top;\n",
       "    }\n",
       "\n",
       "    .dataframe thead th {\n",
       "        text-align: right;\n",
       "    }\n",
       "</style>\n",
       "<table border=\"1\" class=\"dataframe\">\n",
       "  <thead>\n",
       "    <tr style=\"text-align: right;\">\n",
       "      <th></th>\n",
       "      <th>user_id</th>\n",
       "      <th>movie_id</th>\n",
       "      <th>count</th>\n",
       "      <th>timestamp</th>\n",
       "    </tr>\n",
       "  </thead>\n",
       "  <tbody>\n",
       "    <tr>\n",
       "      <th>0</th>\n",
       "      <td>1</td>\n",
       "      <td>1193</td>\n",
       "      <td>5</td>\n",
       "      <td>978300760</td>\n",
       "    </tr>\n",
       "    <tr>\n",
       "      <th>1</th>\n",
       "      <td>1</td>\n",
       "      <td>661</td>\n",
       "      <td>3</td>\n",
       "      <td>978302109</td>\n",
       "    </tr>\n",
       "    <tr>\n",
       "      <th>2</th>\n",
       "      <td>1</td>\n",
       "      <td>914</td>\n",
       "      <td>3</td>\n",
       "      <td>978301968</td>\n",
       "    </tr>\n",
       "    <tr>\n",
       "      <th>3</th>\n",
       "      <td>1</td>\n",
       "      <td>3408</td>\n",
       "      <td>4</td>\n",
       "      <td>978300275</td>\n",
       "    </tr>\n",
       "    <tr>\n",
       "      <th>4</th>\n",
       "      <td>1</td>\n",
       "      <td>2355</td>\n",
       "      <td>5</td>\n",
       "      <td>978824291</td>\n",
       "    </tr>\n",
       "  </tbody>\n",
       "</table>\n",
       "</div>"
      ],
      "text/plain": [
       "   user_id  movie_id  count  timestamp\n",
       "0        1      1193      5  978300760\n",
       "1        1       661      3  978302109\n",
       "2        1       914      3  978301968\n",
       "3        1      3408      4  978300275\n",
       "4        1      2355      5  978824291"
      ]
     },
     "execution_count": 15,
     "metadata": {},
     "output_type": "execute_result"
    }
   ],
   "source": [
    "ratings.head()"
   ]
  },
  {
   "cell_type": "code",
   "execution_count": 17,
   "id": "daily-thought",
   "metadata": {},
   "outputs": [
    {
     "data": {
      "text/html": [
       "<div>\n",
       "<style scoped>\n",
       "    .dataframe tbody tr th:only-of-type {\n",
       "        vertical-align: middle;\n",
       "    }\n",
       "\n",
       "    .dataframe tbody tr th {\n",
       "        vertical-align: top;\n",
       "    }\n",
       "\n",
       "    .dataframe thead th {\n",
       "        text-align: right;\n",
       "    }\n",
       "</style>\n",
       "<table border=\"1\" class=\"dataframe\">\n",
       "  <thead>\n",
       "    <tr style=\"text-align: right;\">\n",
       "      <th></th>\n",
       "      <th>user_id</th>\n",
       "      <th>movie_id</th>\n",
       "      <th>count</th>\n",
       "      <th>timestamp</th>\n",
       "    </tr>\n",
       "  </thead>\n",
       "  <tbody>\n",
       "    <tr>\n",
       "      <th>1000203</th>\n",
       "      <td>6040</td>\n",
       "      <td>1090</td>\n",
       "      <td>3</td>\n",
       "      <td>956715518</td>\n",
       "    </tr>\n",
       "    <tr>\n",
       "      <th>1000205</th>\n",
       "      <td>6040</td>\n",
       "      <td>1094</td>\n",
       "      <td>5</td>\n",
       "      <td>956704887</td>\n",
       "    </tr>\n",
       "    <tr>\n",
       "      <th>1000206</th>\n",
       "      <td>6040</td>\n",
       "      <td>562</td>\n",
       "      <td>5</td>\n",
       "      <td>956704746</td>\n",
       "    </tr>\n",
       "    <tr>\n",
       "      <th>1000207</th>\n",
       "      <td>6040</td>\n",
       "      <td>1096</td>\n",
       "      <td>4</td>\n",
       "      <td>956715648</td>\n",
       "    </tr>\n",
       "    <tr>\n",
       "      <th>1000208</th>\n",
       "      <td>6040</td>\n",
       "      <td>1097</td>\n",
       "      <td>4</td>\n",
       "      <td>956715569</td>\n",
       "    </tr>\n",
       "  </tbody>\n",
       "</table>\n",
       "</div>"
      ],
      "text/plain": [
       "         user_id  movie_id  count  timestamp\n",
       "1000203     6040      1090      3  956715518\n",
       "1000205     6040      1094      5  956704887\n",
       "1000206     6040       562      5  956704746\n",
       "1000207     6040      1096      4  956715648\n",
       "1000208     6040      1097      4  956715569"
      ]
     },
     "execution_count": 17,
     "metadata": {},
     "output_type": "execute_result"
    }
   ],
   "source": [
    "ratings.tail()"
   ]
  },
  {
   "cell_type": "code",
   "execution_count": 19,
   "id": "applied-optimum",
   "metadata": {},
   "outputs": [
    {
     "data": {
      "text/plain": [
       "user_id      int64\n",
       "movie_id     int64\n",
       "count        int64\n",
       "timestamp    int64\n",
       "dtype: object"
      ]
     },
     "execution_count": 19,
     "metadata": {},
     "output_type": "execute_result"
    }
   ],
   "source": [
    "ratings.dtypes"
   ]
  },
  {
   "cell_type": "code",
   "execution_count": 16,
   "id": "universal-holder",
   "metadata": {},
   "outputs": [
    {
     "data": {
      "text/html": [
       "<div>\n",
       "<style scoped>\n",
       "    .dataframe tbody tr th:only-of-type {\n",
       "        vertical-align: middle;\n",
       "    }\n",
       "\n",
       "    .dataframe tbody tr th {\n",
       "        vertical-align: top;\n",
       "    }\n",
       "\n",
       "    .dataframe thead th {\n",
       "        text-align: right;\n",
       "    }\n",
       "</style>\n",
       "<table border=\"1\" class=\"dataframe\">\n",
       "  <thead>\n",
       "    <tr style=\"text-align: right;\">\n",
       "      <th></th>\n",
       "      <th>movie_id</th>\n",
       "      <th>title</th>\n",
       "      <th>genre</th>\n",
       "    </tr>\n",
       "  </thead>\n",
       "  <tbody>\n",
       "    <tr>\n",
       "      <th>0</th>\n",
       "      <td>1</td>\n",
       "      <td>toy story (1995)</td>\n",
       "      <td>Animation|Children's|Comedy</td>\n",
       "    </tr>\n",
       "    <tr>\n",
       "      <th>1</th>\n",
       "      <td>2</td>\n",
       "      <td>jumanji (1995)</td>\n",
       "      <td>Adventure|Children's|Fantasy</td>\n",
       "    </tr>\n",
       "    <tr>\n",
       "      <th>2</th>\n",
       "      <td>3</td>\n",
       "      <td>grumpier old men (1995)</td>\n",
       "      <td>Comedy|Romance</td>\n",
       "    </tr>\n",
       "    <tr>\n",
       "      <th>3</th>\n",
       "      <td>4</td>\n",
       "      <td>waiting to exhale (1995)</td>\n",
       "      <td>Comedy|Drama</td>\n",
       "    </tr>\n",
       "    <tr>\n",
       "      <th>4</th>\n",
       "      <td>5</td>\n",
       "      <td>father of the bride part ii (1995)</td>\n",
       "      <td>Comedy</td>\n",
       "    </tr>\n",
       "  </tbody>\n",
       "</table>\n",
       "</div>"
      ],
      "text/plain": [
       "   movie_id                               title                         genre\n",
       "0         1                    toy story (1995)   Animation|Children's|Comedy\n",
       "1         2                      jumanji (1995)  Adventure|Children's|Fantasy\n",
       "2         3             grumpier old men (1995)                Comedy|Romance\n",
       "3         4            waiting to exhale (1995)                  Comedy|Drama\n",
       "4         5  father of the bride part ii (1995)                        Comedy"
      ]
     },
     "execution_count": 16,
     "metadata": {},
     "output_type": "execute_result"
    }
   ],
   "source": [
    "movies.head()"
   ]
  },
  {
   "cell_type": "markdown",
   "id": "suburban-formation",
   "metadata": {},
   "source": [
    "서로 공통된 열이름 (movie_id)을 기준으로 inner(교집합) 조인을 하게 된다."
   ]
  },
  {
   "cell_type": "code",
   "execution_count": 20,
   "id": "economic-continuity",
   "metadata": {},
   "outputs": [
    {
     "data": {
      "text/html": [
       "<div>\n",
       "<style scoped>\n",
       "    .dataframe tbody tr th:only-of-type {\n",
       "        vertical-align: middle;\n",
       "    }\n",
       "\n",
       "    .dataframe tbody tr th {\n",
       "        vertical-align: top;\n",
       "    }\n",
       "\n",
       "    .dataframe thead th {\n",
       "        text-align: right;\n",
       "    }\n",
       "</style>\n",
       "<table border=\"1\" class=\"dataframe\">\n",
       "  <thead>\n",
       "    <tr style=\"text-align: right;\">\n",
       "      <th></th>\n",
       "      <th>user_id</th>\n",
       "      <th>movie_id</th>\n",
       "      <th>count</th>\n",
       "      <th>timestamp</th>\n",
       "      <th>title</th>\n",
       "      <th>genre</th>\n",
       "    </tr>\n",
       "  </thead>\n",
       "  <tbody>\n",
       "    <tr>\n",
       "      <th>0</th>\n",
       "      <td>1</td>\n",
       "      <td>1193</td>\n",
       "      <td>5</td>\n",
       "      <td>978300760</td>\n",
       "      <td>one flew over the cuckoo's nest (1975)</td>\n",
       "      <td>Drama</td>\n",
       "    </tr>\n",
       "    <tr>\n",
       "      <th>1</th>\n",
       "      <td>2</td>\n",
       "      <td>1193</td>\n",
       "      <td>5</td>\n",
       "      <td>978298413</td>\n",
       "      <td>one flew over the cuckoo's nest (1975)</td>\n",
       "      <td>Drama</td>\n",
       "    </tr>\n",
       "    <tr>\n",
       "      <th>2</th>\n",
       "      <td>12</td>\n",
       "      <td>1193</td>\n",
       "      <td>4</td>\n",
       "      <td>978220179</td>\n",
       "      <td>one flew over the cuckoo's nest (1975)</td>\n",
       "      <td>Drama</td>\n",
       "    </tr>\n",
       "    <tr>\n",
       "      <th>3</th>\n",
       "      <td>15</td>\n",
       "      <td>1193</td>\n",
       "      <td>4</td>\n",
       "      <td>978199279</td>\n",
       "      <td>one flew over the cuckoo's nest (1975)</td>\n",
       "      <td>Drama</td>\n",
       "    </tr>\n",
       "    <tr>\n",
       "      <th>4</th>\n",
       "      <td>17</td>\n",
       "      <td>1193</td>\n",
       "      <td>5</td>\n",
       "      <td>978158471</td>\n",
       "      <td>one flew over the cuckoo's nest (1975)</td>\n",
       "      <td>Drama</td>\n",
       "    </tr>\n",
       "  </tbody>\n",
       "</table>\n",
       "</div>"
      ],
      "text/plain": [
       "   user_id  movie_id  count  timestamp  \\\n",
       "0        1      1193      5  978300760   \n",
       "1        2      1193      5  978298413   \n",
       "2       12      1193      4  978220179   \n",
       "3       15      1193      4  978199279   \n",
       "4       17      1193      5  978158471   \n",
       "\n",
       "                                    title  genre  \n",
       "0  one flew over the cuckoo's nest (1975)  Drama  \n",
       "1  one flew over the cuckoo's nest (1975)  Drama  \n",
       "2  one flew over the cuckoo's nest (1975)  Drama  \n",
       "3  one flew over the cuckoo's nest (1975)  Drama  \n",
       "4  one flew over the cuckoo's nest (1975)  Drama  "
      ]
     },
     "execution_count": 20,
     "metadata": {},
     "output_type": "execute_result"
    }
   ],
   "source": [
    "merge_ratings = pd.merge(ratings, movies)\n",
    "merge_ratings.head()"
   ]
  },
  {
   "cell_type": "code",
   "execution_count": 21,
   "id": "artistic-corrections",
   "metadata": {},
   "outputs": [
    {
     "data": {
      "text/plain": [
       "array(['toy story (1995)', 'jumanji (1995)', 'grumpier old men (1995)',\n",
       "       ..., 'tigerland (2000)', 'two family house (2000)',\n",
       "       'contender, the (2000)'], dtype=object)"
      ]
     },
     "execution_count": 21,
     "metadata": {},
     "output_type": "execute_result"
    }
   ],
   "source": [
    "movies.title.unique()"
   ]
  },
  {
   "cell_type": "code",
   "execution_count": 22,
   "id": "supposed-objective",
   "metadata": {},
   "outputs": [
    {
     "data": {
      "text/html": [
       "<div>\n",
       "<style scoped>\n",
       "    .dataframe tbody tr th:only-of-type {\n",
       "        vertical-align: middle;\n",
       "    }\n",
       "\n",
       "    .dataframe tbody tr th {\n",
       "        vertical-align: top;\n",
       "    }\n",
       "\n",
       "    .dataframe thead th {\n",
       "        text-align: right;\n",
       "    }\n",
       "</style>\n",
       "<table border=\"1\" class=\"dataframe\">\n",
       "  <thead>\n",
       "    <tr style=\"text-align: right;\">\n",
       "      <th></th>\n",
       "      <th>movie_id</th>\n",
       "      <th>title</th>\n",
       "      <th>genre</th>\n",
       "    </tr>\n",
       "  </thead>\n",
       "  <tbody>\n",
       "    <tr>\n",
       "      <th>2166</th>\n",
       "      <td>2235</td>\n",
       "      <td>one man's hero (1999)</td>\n",
       "      <td>Drama|War</td>\n",
       "    </tr>\n",
       "    <tr>\n",
       "      <th>2367</th>\n",
       "      <td>2436</td>\n",
       "      <td>tea with mussolini (1999)</td>\n",
       "      <td>Comedy</td>\n",
       "    </tr>\n",
       "    <tr>\n",
       "      <th>2376</th>\n",
       "      <td>2445</td>\n",
       "      <td>at first sight (1999)</td>\n",
       "      <td>Drama</td>\n",
       "    </tr>\n",
       "    <tr>\n",
       "      <th>2377</th>\n",
       "      <td>2446</td>\n",
       "      <td>in dreams (1999)</td>\n",
       "      <td>Thriller</td>\n",
       "    </tr>\n",
       "    <tr>\n",
       "      <th>2378</th>\n",
       "      <td>2447</td>\n",
       "      <td>varsity blues (1999)</td>\n",
       "      <td>Comedy|Drama</td>\n",
       "    </tr>\n",
       "    <tr>\n",
       "      <th>...</th>\n",
       "      <td>...</td>\n",
       "      <td>...</td>\n",
       "      <td>...</td>\n",
       "    </tr>\n",
       "    <tr>\n",
       "      <th>3797</th>\n",
       "      <td>3867</td>\n",
       "      <td>all the rage (a.k.a. it's the rage) (1999)</td>\n",
       "      <td>Drama</td>\n",
       "    </tr>\n",
       "    <tr>\n",
       "      <th>3824</th>\n",
       "      <td>3894</td>\n",
       "      <td>solas (1999)</td>\n",
       "      <td>Drama</td>\n",
       "    </tr>\n",
       "    <tr>\n",
       "      <th>3832</th>\n",
       "      <td>3902</td>\n",
       "      <td>goya in bordeaux (goya en bodeos) (1999)</td>\n",
       "      <td>Drama</td>\n",
       "    </tr>\n",
       "    <tr>\n",
       "      <th>3837</th>\n",
       "      <td>3907</td>\n",
       "      <td>prince of central park, the (1999)</td>\n",
       "      <td>Drama</td>\n",
       "    </tr>\n",
       "    <tr>\n",
       "      <th>3843</th>\n",
       "      <td>3913</td>\n",
       "      <td>barenaked in america (1999)</td>\n",
       "      <td>Documentary</td>\n",
       "    </tr>\n",
       "  </tbody>\n",
       "</table>\n",
       "<p>283 rows × 3 columns</p>\n",
       "</div>"
      ],
      "text/plain": [
       "      movie_id                                       title         genre\n",
       "2166      2235                       one man's hero (1999)     Drama|War\n",
       "2367      2436                   tea with mussolini (1999)        Comedy\n",
       "2376      2445                       at first sight (1999)         Drama\n",
       "2377      2446                            in dreams (1999)      Thriller\n",
       "2378      2447                        varsity blues (1999)  Comedy|Drama\n",
       "...        ...                                         ...           ...\n",
       "3797      3867  all the rage (a.k.a. it's the rage) (1999)         Drama\n",
       "3824      3894                                solas (1999)         Drama\n",
       "3832      3902    goya in bordeaux (goya en bodeos) (1999)         Drama\n",
       "3837      3907          prince of central park, the (1999)         Drama\n",
       "3843      3913                 barenaked in america (1999)   Documentary\n",
       "\n",
       "[283 rows x 3 columns]"
      ]
     },
     "execution_count": 22,
     "metadata": {},
     "output_type": "execute_result"
    }
   ],
   "source": [
    "# 모델 검증을 위한 사용자 정보 세팅을 하기 위해 최근에 나온 영화가 리스트에 있는지 확인하려 했지만\n",
    "# 2000년 까지의 영화만 있는 것을 확인\n",
    "movies[movies['title'].str.contains('1999')]"
   ]
  },
  {
   "cell_type": "markdown",
   "id": "checked-boundary",
   "metadata": {},
   "source": [
    "##### 모델 검증을 위한 사용자 초기 정보 세팅"
   ]
  },
  {
   "cell_type": "markdown",
   "id": "polar-example",
   "metadata": {},
   "source": [
    "{선호하는 영화 리스트}\n",
    "\n",
    "3225 down to you (2000)    \n",
    "3190 supernova (2000)    \n",
    "1 toy story (1995)    \n",
    "2 jumanji (1995)    \n",
    "2445 at first sight (1999)"
   ]
  },
  {
   "cell_type": "code",
   "execution_count": 24,
   "id": "subjective-consultancy",
   "metadata": {},
   "outputs": [
    {
     "data": {
      "text/html": [
       "<div>\n",
       "<style scoped>\n",
       "    .dataframe tbody tr th:only-of-type {\n",
       "        vertical-align: middle;\n",
       "    }\n",
       "\n",
       "    .dataframe tbody tr th {\n",
       "        vertical-align: top;\n",
       "    }\n",
       "\n",
       "    .dataframe thead th {\n",
       "        text-align: right;\n",
       "    }\n",
       "</style>\n",
       "<table border=\"1\" class=\"dataframe\">\n",
       "  <thead>\n",
       "    <tr style=\"text-align: right;\">\n",
       "      <th></th>\n",
       "      <th>user_id</th>\n",
       "      <th>movie_id</th>\n",
       "      <th>count</th>\n",
       "      <th>timestamp</th>\n",
       "    </tr>\n",
       "  </thead>\n",
       "  <tbody>\n",
       "    <tr>\n",
       "      <th>1000203</th>\n",
       "      <td>6040</td>\n",
       "      <td>1090</td>\n",
       "      <td>3</td>\n",
       "      <td>956715518</td>\n",
       "    </tr>\n",
       "    <tr>\n",
       "      <th>1000205</th>\n",
       "      <td>6040</td>\n",
       "      <td>1094</td>\n",
       "      <td>5</td>\n",
       "      <td>956704887</td>\n",
       "    </tr>\n",
       "    <tr>\n",
       "      <th>1000206</th>\n",
       "      <td>6040</td>\n",
       "      <td>562</td>\n",
       "      <td>5</td>\n",
       "      <td>956704746</td>\n",
       "    </tr>\n",
       "    <tr>\n",
       "      <th>1000207</th>\n",
       "      <td>6040</td>\n",
       "      <td>1096</td>\n",
       "      <td>4</td>\n",
       "      <td>956715648</td>\n",
       "    </tr>\n",
       "    <tr>\n",
       "      <th>1000208</th>\n",
       "      <td>6040</td>\n",
       "      <td>1097</td>\n",
       "      <td>4</td>\n",
       "      <td>956715569</td>\n",
       "    </tr>\n",
       "  </tbody>\n",
       "</table>\n",
       "</div>"
      ],
      "text/plain": [
       "         user_id  movie_id  count  timestamp\n",
       "1000203     6040      1090      3  956715518\n",
       "1000205     6040      1094      5  956704887\n",
       "1000206     6040       562      5  956704746\n",
       "1000207     6040      1096      4  956715648\n",
       "1000208     6040      1097      4  956715569"
      ]
     },
     "execution_count": 24,
     "metadata": {},
     "output_type": "execute_result"
    }
   ],
   "source": [
    "ratings.tail()"
   ]
  },
  {
   "cell_type": "code",
   "execution_count": 26,
   "id": "negative-representation",
   "metadata": {},
   "outputs": [
    {
     "data": {
      "text/html": [
       "<div>\n",
       "<style scoped>\n",
       "    .dataframe tbody tr th:only-of-type {\n",
       "        vertical-align: middle;\n",
       "    }\n",
       "\n",
       "    .dataframe tbody tr th {\n",
       "        vertical-align: top;\n",
       "    }\n",
       "\n",
       "    .dataframe thead th {\n",
       "        text-align: right;\n",
       "    }\n",
       "</style>\n",
       "<table border=\"1\" class=\"dataframe\">\n",
       "  <thead>\n",
       "    <tr style=\"text-align: right;\">\n",
       "      <th></th>\n",
       "      <th>user_id</th>\n",
       "      <th>movie_id</th>\n",
       "      <th>count</th>\n",
       "      <th>timestamp</th>\n",
       "    </tr>\n",
       "  </thead>\n",
       "  <tbody>\n",
       "    <tr>\n",
       "      <th>1000203</th>\n",
       "      <td>6040</td>\n",
       "      <td>1090</td>\n",
       "      <td>3</td>\n",
       "      <td>956715518.0</td>\n",
       "    </tr>\n",
       "    <tr>\n",
       "      <th>1000205</th>\n",
       "      <td>6040</td>\n",
       "      <td>1094</td>\n",
       "      <td>5</td>\n",
       "      <td>956704887.0</td>\n",
       "    </tr>\n",
       "    <tr>\n",
       "      <th>1000206</th>\n",
       "      <td>6040</td>\n",
       "      <td>562</td>\n",
       "      <td>5</td>\n",
       "      <td>956704746.0</td>\n",
       "    </tr>\n",
       "    <tr>\n",
       "      <th>1000207</th>\n",
       "      <td>6040</td>\n",
       "      <td>1096</td>\n",
       "      <td>4</td>\n",
       "      <td>956715648.0</td>\n",
       "    </tr>\n",
       "    <tr>\n",
       "      <th>1000208</th>\n",
       "      <td>6040</td>\n",
       "      <td>1097</td>\n",
       "      <td>4</td>\n",
       "      <td>956715569.0</td>\n",
       "    </tr>\n",
       "    <tr>\n",
       "      <th>0</th>\n",
       "      <td>6041</td>\n",
       "      <td>3225</td>\n",
       "      <td>5</td>\n",
       "      <td>NaN</td>\n",
       "    </tr>\n",
       "    <tr>\n",
       "      <th>1</th>\n",
       "      <td>6041</td>\n",
       "      <td>3190</td>\n",
       "      <td>5</td>\n",
       "      <td>NaN</td>\n",
       "    </tr>\n",
       "    <tr>\n",
       "      <th>2</th>\n",
       "      <td>6041</td>\n",
       "      <td>1</td>\n",
       "      <td>5</td>\n",
       "      <td>NaN</td>\n",
       "    </tr>\n",
       "    <tr>\n",
       "      <th>3</th>\n",
       "      <td>6041</td>\n",
       "      <td>2</td>\n",
       "      <td>5</td>\n",
       "      <td>NaN</td>\n",
       "    </tr>\n",
       "    <tr>\n",
       "      <th>4</th>\n",
       "      <td>6041</td>\n",
       "      <td>2445</td>\n",
       "      <td>5</td>\n",
       "      <td>NaN</td>\n",
       "    </tr>\n",
       "  </tbody>\n",
       "</table>\n",
       "</div>"
      ],
      "text/plain": [
       "         user_id  movie_id  count    timestamp\n",
       "1000203     6040      1090      3  956715518.0\n",
       "1000205     6040      1094      5  956704887.0\n",
       "1000206     6040       562      5  956704746.0\n",
       "1000207     6040      1096      4  956715648.0\n",
       "1000208     6040      1097      4  956715569.0\n",
       "0           6041      3225      5          NaN\n",
       "1           6041      3190      5          NaN\n",
       "2           6041         1      5          NaN\n",
       "3           6041         2      5          NaN\n",
       "4           6041      2445      5          NaN"
      ]
     },
     "execution_count": 26,
     "metadata": {},
     "output_type": "execute_result"
    }
   ],
   "source": [
    "my_favorite = [3225 , 3190 ,1 ,2 ,2445]\n",
    "\n",
    "# '6041'(== my user_id)이라는 user_id가 위 영화를 5회씩(count) 봤다고 가정\n",
    "my_movie = pd.DataFrame({'user_id': [6041]*5, 'movie_id': my_favorite, 'count':5})\n",
    "\n",
    "if not ratings.isin({'user_id':[6041]})['user_id'].any():  # user_id에 '6041'이라는 데이터가 없다면\n",
    "    ratings = ratings.append(my_movie)                       # 위에 임의로 만든 my_favorite 데이터를 추가\n",
    "\n",
    "ratings.tail(10)"
   ]
  },
  {
   "cell_type": "code",
   "execution_count": 28,
   "id": "acting-gospel",
   "metadata": {},
   "outputs": [
    {
     "data": {
      "text/plain": [
       "user_id        int64\n",
       "movie_id       int64\n",
       "count          int64\n",
       "timestamp    float64\n",
       "dtype: object"
      ]
     },
     "execution_count": 28,
     "metadata": {},
     "output_type": "execute_result"
    }
   ],
   "source": [
    "ratings.dtypes"
   ]
  },
  {
   "cell_type": "code",
   "execution_count": 36,
   "id": "dangerous-maximum",
   "metadata": {},
   "outputs": [
    {
     "data": {
      "text/plain": [
       "3952"
      ]
     },
     "execution_count": 36,
     "metadata": {},
     "output_type": "execute_result"
    }
   ],
   "source": [
    "ratings.movie_id.max()"
   ]
  },
  {
   "cell_type": "code",
   "execution_count": 29,
   "id": "retained-housing",
   "metadata": {},
   "outputs": [],
   "source": [
    "# 고유한 유저, 영화를 찾아내는 코드\n",
    "user_unique = ratings['user_id'].unique()\n",
    "movie_unique = ratings['movie_id'].unique()\n",
    "\n",
    "# 유저, 아티스트 indexing 하는 코드 idx는 index의 약자입니다.\n",
    "user_to_idx = {v:k for k,v in enumerate(user_unique)}\n",
    "movie_to_idx = {v:k for k,v in enumerate(movie_unique)}"
   ]
  },
  {
   "cell_type": "code",
   "execution_count": 45,
   "id": "large-facility",
   "metadata": {},
   "outputs": [
    {
     "name": "stdout",
     "output_type": "stream",
     "text": [
      "6039\n",
      "1318\n"
     ]
    }
   ],
   "source": [
    "print(user_to_idx[6041])    \n",
    "print(movie_to_idx[3949])"
   ]
  },
  {
   "cell_type": "code",
   "execution_count": 52,
   "id": "formed-selection",
   "metadata": {},
   "outputs": [
    {
     "name": "stdout",
     "output_type": "stream",
     "text": [
      "(6040,)\n"
     ]
    }
   ],
   "source": [
    "print(user_unique.shape)"
   ]
  },
  {
   "cell_type": "code",
   "execution_count": 47,
   "id": "median-prague",
   "metadata": {},
   "outputs": [
    {
     "data": {
      "text/plain": [
       "user_id        int64\n",
       "movie_id       int64\n",
       "count          int64\n",
       "timestamp    float64\n",
       "dtype: object"
      ]
     },
     "execution_count": 47,
     "metadata": {},
     "output_type": "execute_result"
    }
   ],
   "source": [
    "ratings.dtypes"
   ]
  },
  {
   "cell_type": "code",
   "execution_count": 56,
   "id": "adequate-enough",
   "metadata": {},
   "outputs": [
    {
     "name": "stdout",
     "output_type": "stream",
     "text": [
      "user_id column indexing Fail!!\n",
      "movie column indexing OK!!\n"
     ]
    },
    {
     "data": {
      "text/html": [
       "<div>\n",
       "<style scoped>\n",
       "    .dataframe tbody tr th:only-of-type {\n",
       "        vertical-align: middle;\n",
       "    }\n",
       "\n",
       "    .dataframe tbody tr th {\n",
       "        vertical-align: top;\n",
       "    }\n",
       "\n",
       "    .dataframe thead th {\n",
       "        text-align: right;\n",
       "    }\n",
       "</style>\n",
       "<table border=\"1\" class=\"dataframe\">\n",
       "  <thead>\n",
       "    <tr style=\"text-align: right;\">\n",
       "      <th></th>\n",
       "      <th>user_id</th>\n",
       "      <th>movie_id</th>\n",
       "      <th>count</th>\n",
       "      <th>timestamp</th>\n",
       "    </tr>\n",
       "  </thead>\n",
       "  <tbody>\n",
       "    <tr>\n",
       "      <th>0</th>\n",
       "      <td>0</td>\n",
       "      <td>0</td>\n",
       "      <td>5</td>\n",
       "      <td>978300760.0</td>\n",
       "    </tr>\n",
       "    <tr>\n",
       "      <th>1</th>\n",
       "      <td>0</td>\n",
       "      <td>1</td>\n",
       "      <td>3</td>\n",
       "      <td>978302109.0</td>\n",
       "    </tr>\n",
       "    <tr>\n",
       "      <th>2</th>\n",
       "      <td>0</td>\n",
       "      <td>2</td>\n",
       "      <td>3</td>\n",
       "      <td>978301968.0</td>\n",
       "    </tr>\n",
       "    <tr>\n",
       "      <th>3</th>\n",
       "      <td>0</td>\n",
       "      <td>3</td>\n",
       "      <td>4</td>\n",
       "      <td>978300275.0</td>\n",
       "    </tr>\n",
       "    <tr>\n",
       "      <th>4</th>\n",
       "      <td>0</td>\n",
       "      <td>4</td>\n",
       "      <td>5</td>\n",
       "      <td>978824291.0</td>\n",
       "    </tr>\n",
       "    <tr>\n",
       "      <th>...</th>\n",
       "      <td>...</td>\n",
       "      <td>...</td>\n",
       "      <td>...</td>\n",
       "      <td>...</td>\n",
       "    </tr>\n",
       "    <tr>\n",
       "      <th>0</th>\n",
       "      <td>6039</td>\n",
       "      <td>2850</td>\n",
       "      <td>5</td>\n",
       "      <td>NaN</td>\n",
       "    </tr>\n",
       "    <tr>\n",
       "      <th>1</th>\n",
       "      <td>6039</td>\n",
       "      <td>2133</td>\n",
       "      <td>5</td>\n",
       "      <td>NaN</td>\n",
       "    </tr>\n",
       "    <tr>\n",
       "      <th>2</th>\n",
       "      <td>6039</td>\n",
       "      <td>40</td>\n",
       "      <td>5</td>\n",
       "      <td>NaN</td>\n",
       "    </tr>\n",
       "    <tr>\n",
       "      <th>3</th>\n",
       "      <td>6039</td>\n",
       "      <td>513</td>\n",
       "      <td>5</td>\n",
       "      <td>NaN</td>\n",
       "    </tr>\n",
       "    <tr>\n",
       "      <th>4</th>\n",
       "      <td>6039</td>\n",
       "      <td>2667</td>\n",
       "      <td>5</td>\n",
       "      <td>NaN</td>\n",
       "    </tr>\n",
       "  </tbody>\n",
       "</table>\n",
       "<p>836483 rows × 4 columns</p>\n",
       "</div>"
      ],
      "text/plain": [
       "    user_id  movie_id  count    timestamp\n",
       "0         0         0      5  978300760.0\n",
       "1         0         1      3  978302109.0\n",
       "2         0         2      3  978301968.0\n",
       "3         0         3      4  978300275.0\n",
       "4         0         4      5  978824291.0\n",
       "..      ...       ...    ...          ...\n",
       "0      6039      2850      5          NaN\n",
       "1      6039      2133      5          NaN\n",
       "2      6039        40      5          NaN\n",
       "3      6039       513      5          NaN\n",
       "4      6039      2667      5          NaN\n",
       "\n",
       "[836483 rows x 4 columns]"
      ]
     },
     "execution_count": 56,
     "metadata": {},
     "output_type": "execute_result"
    }
   ],
   "source": [
    "# indexing을 통해 데이터 컬럼 내 값을 바꾸는 코드\n",
    "# user_to_idx.get을 통해 user_id 컬럼의 모든 값을 인덱싱한 Series를 구해 봅시다. \n",
    "# 혹시 정상적으로 인덱싱되지 않은 row가 있다면 인덱스가 NaN이 될 테니 dropna()로 제거합니다. \n",
    "temp_user_data = ratings['user_id'].map(user_to_idx.get).dropna()\n",
    "if len(temp_user_data) == len(ratings):   # 모든 row가 정상적으로 인덱싱되었다면\n",
    "    print('user_id column indexing OK!!')\n",
    "    ratings['user_id'] = temp_user_data   # data['user_id']을 인덱싱된 Series로 교체해 줍니다. \n",
    "else:\n",
    "    print('user_id column indexing Fail!!')\n",
    "\n",
    "# artist_to_idx을 통해 artist 컬럼도 동일한 방식으로 인덱싱해 줍니다. \n",
    "temp_artist_data = ratings['movie_id'].map(movie_to_idx.get).dropna()\n",
    "if len(temp_artist_data) == len(ratings):\n",
    "    print('movie column indexing OK!!')\n",
    "    ratings['movie_id'] = temp_artist_data\n",
    "else:\n",
    "    print('movie column indexing Fail!!')\n",
    "\n",
    "ratings"
   ]
  },
  {
   "cell_type": "code",
   "execution_count": null,
   "id": "incomplete-perth",
   "metadata": {},
   "outputs": [],
   "source": []
  },
  {
   "cell_type": "markdown",
   "id": "judicial-cherry",
   "metadata": {},
   "source": [
    "## 3) CSR Matrix 생성"
   ]
  },
  {
   "cell_type": "code",
   "execution_count": 58,
   "id": "whole-initial",
   "metadata": {},
   "outputs": [
    {
     "data": {
      "text/plain": [
       "<6040x3628 sparse matrix of type '<class 'numpy.longlong'>'\n",
       "\twith 836483 stored elements in Compressed Sparse Row format>"
      ]
     },
     "execution_count": 58,
     "metadata": {},
     "output_type": "execute_result"
    }
   ],
   "source": [
    "num_user = ratings['user_id'].nunique()\n",
    "num_movie = ratings['movie_id'].nunique()\n",
    "\n",
    "csr_data = csr_matrix((ratings['count'], (ratings.user_id, ratings.movie_id)), shape= (num_user, num_movie))\n",
    "csr_data"
   ]
  },
  {
   "cell_type": "code",
   "execution_count": null,
   "id": "handy-circle",
   "metadata": {},
   "outputs": [],
   "source": []
  },
  {
   "cell_type": "markdown",
   "id": "approved-consumption",
   "metadata": {},
   "source": [
    "## 4) AlternatingLeastSquares Model 생성"
   ]
  },
  {
   "cell_type": "code",
   "execution_count": 60,
   "id": "vertical-northeast",
   "metadata": {},
   "outputs": [],
   "source": [
    "# implicit 라이브러리에서 권장하고 있는 부분\n",
    "os.environ['OPENBLAS_NUM_THREADS']='1'\n",
    "os.environ['KMP_DUPLICATE_LIB_OK']='True'\n",
    "os.environ['MKL_NUM_THREADS']='1'"
   ]
  },
  {
   "cell_type": "code",
   "execution_count": 85,
   "id": "beginning-replacement",
   "metadata": {},
   "outputs": [],
   "source": [
    "# Implicit AlternatingLeastSquares 모델의 선언\n",
    "als_model = AlternatingLeastSquares(factors=1000, regularization=0.01, use_gpu=False, iterations=70, dtype=np.float32)"
   ]
  },
  {
   "cell_type": "code",
   "execution_count": 86,
   "id": "accessible-boring",
   "metadata": {},
   "outputs": [
    {
     "data": {
      "text/plain": [
       "<3628x6040 sparse matrix of type '<class 'numpy.longlong'>'\n",
       "\twith 836483 stored elements in Compressed Sparse Column format>"
      ]
     },
     "execution_count": 86,
     "metadata": {},
     "output_type": "execute_result"
    }
   ],
   "source": [
    "# als 모델은 input으로 (item X user 꼴의 matrix를 받기 때문에 Transpose해줍니다.)\n",
    "csr_data_transpose = csr_data.T\n",
    "csr_data_transpose"
   ]
  },
  {
   "cell_type": "code",
   "execution_count": 87,
   "id": "extensive-judges",
   "metadata": {},
   "outputs": [
    {
     "data": {
      "application/vnd.jupyter.widget-view+json": {
       "model_id": "3405e8f99bf544199b34ede04a44245e",
       "version_major": 2,
       "version_minor": 0
      },
      "text/plain": [
       "  0%|          | 0/70 [00:00<?, ?it/s]"
      ]
     },
     "metadata": {},
     "output_type": "display_data"
    }
   ],
   "source": [
    "# 모델 훈련\n",
    "als_model.fit(csr_data_transpose)"
   ]
  },
  {
   "cell_type": "code",
   "execution_count": null,
   "id": "remarkable-acceptance",
   "metadata": {},
   "outputs": [],
   "source": []
  },
  {
   "cell_type": "markdown",
   "id": "julian-selection",
   "metadata": {},
   "source": [
    "## 5) 모델 예측"
   ]
  },
  {
   "cell_type": "markdown",
   "id": "unauthorized-function",
   "metadata": {},
   "source": [
    "##### 모델이 벡터를 어떻게 생성하고 있는지 확인"
   ]
  },
  {
   "cell_type": "code",
   "execution_count": 88,
   "id": "competent-belief",
   "metadata": {},
   "outputs": [
    {
     "name": "stdout",
     "output_type": "stream",
     "text": [
      "슝=3\n"
     ]
    }
   ],
   "source": [
    "mymine, at_first_sight = user_to_idx[6041], movie_to_idx[2445]\n",
    "mymine_vector, at_first_sight_vector = als_model.user_factors[mymine], als_model.item_factors[at_first_sight]\n",
    "\n",
    "print('슝=3')"
   ]
  },
  {
   "cell_type": "code",
   "execution_count": 89,
   "id": "entitled-arnold",
   "metadata": {},
   "outputs": [
    {
     "data": {
      "text/plain": [
       "array([-2.46210992e-01,  6.58463612e-02,  2.46189106e-02, -2.43816022e-02,\n",
       "        2.24307507e-01,  9.78744216e-03,  9.88938361e-02, -3.69759463e-03,\n",
       "       -2.80699909e-01,  1.99847836e-02, -2.34608958e-03, -3.01979424e-04,\n",
       "       -8.05562586e-02,  1.53151795e-01, -1.76968835e-02,  1.60615444e-02,\n",
       "       -5.59441186e-02, -6.52416348e-02,  1.70916989e-01,  3.13425250e-02,\n",
       "       -4.99401726e-02, -2.30524644e-01, -1.69873863e-01, -6.30855784e-02,\n",
       "        2.15385899e-01, -1.19875215e-01,  1.00071520e-01,  4.43314873e-02,\n",
       "        1.39471618e-02, -1.33278817e-01,  3.31550449e-01,  2.31234118e-01,\n",
       "        1.98473316e-02,  8.94462690e-02, -2.42526889e-01, -2.44034916e-01,\n",
       "        1.27116684e-02,  2.12468833e-01,  8.57852250e-02,  1.20561369e-01,\n",
       "        2.16722280e-01, -3.24218392e-01, -7.55669326e-02, -1.11721039e-01,\n",
       "       -1.05748817e-01,  1.12994939e-01,  4.08040807e-02,  1.08139083e-01,\n",
       "       -6.39612786e-03,  1.08152069e-01,  1.61990285e-01,  4.39628847e-02,\n",
       "       -1.33359507e-01,  1.25017345e-01,  1.12054914e-01,  2.10695744e-01,\n",
       "       -2.42161658e-02, -2.30590086e-02, -2.60667533e-01,  4.03391309e-02,\n",
       "       -1.58109039e-01,  2.18674466e-01, -2.12785244e-01,  6.48412704e-02,\n",
       "       -1.43799543e-01,  1.20411618e-02, -1.80589259e-01,  6.16987273e-02,\n",
       "       -2.63179183e-01, -8.60574320e-02,  6.04929775e-02,  7.18149170e-02,\n",
       "        8.52003098e-02, -6.55070767e-02,  7.82174710e-03, -1.01457193e-01,\n",
       "        1.26941606e-01,  2.22315505e-01, -1.12980492e-01,  1.42643765e-01,\n",
       "       -1.28851801e-01, -2.18212917e-01,  2.40350544e-01, -1.46631628e-01,\n",
       "        3.13828319e-01, -4.51462656e-01,  1.96056869e-02, -6.83758548e-03,\n",
       "        9.61672366e-02,  3.42448838e-02, -2.53273636e-01, -7.20032528e-02,\n",
       "       -2.18884442e-02, -2.85874866e-02, -2.37685405e-02,  9.24161971e-02,\n",
       "        2.58476790e-02,  6.63696975e-02, -1.08491674e-01, -1.06733821e-01,\n",
       "       -1.80315956e-01, -8.66507441e-02,  2.53232926e-01,  2.22317606e-01,\n",
       "        2.08900213e-01, -1.04976989e-01,  2.69062370e-01,  1.64110973e-01,\n",
       "        8.48272294e-02, -1.58783242e-01,  2.18918230e-02, -8.82790610e-02,\n",
       "        1.24451585e-01, -1.28677741e-01,  1.68958157e-01, -1.85587227e-01,\n",
       "       -4.84040789e-02,  7.95361623e-02, -2.54021466e-01,  9.24907997e-02,\n",
       "       -1.80424318e-01, -1.70857441e-02,  5.50182089e-02, -4.64057401e-02,\n",
       "        3.55763244e-04, -9.16537121e-02,  1.32088065e-01,  9.92513373e-02,\n",
       "        8.09932314e-03,  5.28080687e-02,  1.59269124e-01,  8.84501636e-02,\n",
       "       -1.16492406e-01, -2.13978946e-01,  1.64005801e-01, -3.21570486e-01,\n",
       "        5.47802597e-02,  5.52948713e-02, -4.68144380e-02,  1.52950287e-01,\n",
       "       -1.39261514e-01,  1.83563549e-02,  5.64685702e-01,  7.28964657e-02,\n",
       "        8.31058770e-02,  8.31851661e-02, -9.20776278e-03, -9.92440879e-02,\n",
       "       -1.03907779e-01,  1.06484890e-01,  8.73582363e-02, -5.24855256e-02,\n",
       "        7.53768906e-02, -1.15018621e-01,  7.28048682e-02,  2.23583192e-01,\n",
       "       -3.14187072e-02,  1.57222137e-01,  3.11615974e-01, -1.84260458e-01,\n",
       "       -3.01777065e-01,  3.15282851e-01,  2.72918232e-02, -1.85292929e-01,\n",
       "       -9.48339179e-02,  1.17876872e-01, -2.28181213e-01, -3.75506163e-01,\n",
       "        7.30949417e-02,  1.35818690e-01, -2.77047485e-01,  1.60680607e-01,\n",
       "       -6.52886182e-02,  2.40440041e-01, -9.50697809e-02,  2.03154255e-02,\n",
       "        2.42870394e-03, -8.77572373e-02, -1.90497041e-02, -1.02342227e-02,\n",
       "       -1.89961061e-01,  1.06287757e-02, -1.54119015e-01, -1.21271104e-01,\n",
       "        6.22225832e-03, -2.09365413e-01,  2.94759776e-02, -1.29946321e-01,\n",
       "       -1.94237262e-01,  1.70175374e-01, -1.50910497e-01,  1.01251267e-01,\n",
       "        3.17556746e-02,  2.54025042e-01,  9.37129036e-02,  2.75426656e-01,\n",
       "        1.78496838e-01,  1.66158319e-01, -7.66096413e-02, -4.92424294e-02,\n",
       "       -1.29407689e-01, -1.69009835e-01, -2.17852056e-01,  4.85556666e-03,\n",
       "       -2.38890648e-01, -1.96495205e-01, -3.71219739e-02, -1.88523233e-01,\n",
       "        1.52056992e-01, -1.00011110e-01,  1.66408107e-01,  8.34115818e-02,\n",
       "       -5.62384687e-02,  2.05706894e-01, -3.78278121e-02,  1.74037978e-01,\n",
       "       -5.55493822e-03, -1.23292468e-01,  6.73017055e-02,  2.91124433e-01,\n",
       "       -1.15893409e-01, -1.29853085e-01,  2.76114941e-01, -5.38192987e-02,\n",
       "        1.43082023e-01,  1.33216053e-01,  4.59668459e-03, -1.96647555e-01,\n",
       "       -6.18634000e-02,  1.40568808e-01,  8.38404000e-02,  6.37360215e-02,\n",
       "        1.90927535e-01, -8.94393250e-02, -1.63781002e-01, -1.18666664e-02,\n",
       "       -1.44143432e-01, -4.59386110e-02, -1.94888636e-02,  2.57653117e-01,\n",
       "        1.07086804e-02,  2.61285156e-02,  2.55957335e-01, -4.77839857e-02,\n",
       "        7.28935301e-02, -1.74551606e-01,  2.01148018e-01,  2.48745799e-01,\n",
       "        2.56816655e-01, -2.42694095e-02, -2.37294361e-01, -2.62742490e-01,\n",
       "        3.68758179e-02,  3.53707485e-02, -1.37293205e-01,  7.20923543e-02,\n",
       "       -8.56921822e-02, -1.76441431e-01,  3.26777287e-02,  2.02099726e-01,\n",
       "       -6.60426989e-02, -1.53919831e-01,  2.19342321e-01,  1.62868187e-01,\n",
       "       -2.09315568e-02,  3.08046304e-02,  3.86849530e-02,  2.43511885e-01,\n",
       "       -1.36880308e-01,  1.17166683e-01,  1.11100480e-01, -1.97185457e-01,\n",
       "       -9.44358185e-02,  3.69037092e-02,  6.51263520e-02,  2.84643937e-02,\n",
       "        8.03859532e-02,  8.59166831e-02,  1.01341799e-01, -3.18007618e-02,\n",
       "        7.36699104e-02,  1.80265516e-01, -6.74470738e-02,  1.45696551e-01,\n",
       "        6.82235807e-02,  1.65610477e-01,  2.16559410e-01, -9.15538222e-02,\n",
       "       -1.98270559e-01, -2.15003807e-02, -1.69714063e-01, -2.16745257e-01,\n",
       "        1.01416679e-02, -2.40373597e-01, -5.45051806e-02,  9.86018255e-02,\n",
       "        5.27765378e-02,  9.49461162e-02,  2.48572260e-01, -1.51620686e-01,\n",
       "       -2.70234048e-01, -9.63652506e-02, -9.92406681e-02,  2.45833188e-01,\n",
       "        2.65416235e-01, -1.43064708e-02, -2.90582050e-02, -4.20657247e-02,\n",
       "       -1.56745747e-01, -3.82384732e-02,  2.61097014e-01,  4.28330824e-02,\n",
       "        2.74754256e-01, -3.19998339e-02,  8.21825787e-02,  9.88754816e-03,\n",
       "        6.69859350e-02,  6.83320612e-02,  1.20648764e-01, -1.36230901e-01,\n",
       "        1.89566072e-02,  1.14916794e-01,  3.96205559e-02, -2.88931102e-01,\n",
       "       -3.23365033e-02, -2.17681706e-01,  3.59947644e-02, -1.15084082e-01,\n",
       "       -2.08756655e-01, -1.25901476e-01,  6.44637123e-02,  7.72415027e-02,\n",
       "        2.08811253e-01, -2.64915049e-01,  1.81113839e-01, -3.60912345e-02,\n",
       "       -1.25554189e-01,  5.89073896e-02,  1.06428988e-01, -4.28280197e-02,\n",
       "       -5.56676686e-02, -3.57179940e-02,  1.55701926e-02,  1.65524885e-01,\n",
       "       -4.53184843e-02, -4.00452651e-02, -2.00161431e-02,  6.70610517e-02,\n",
       "        1.81826055e-01, -1.11684300e-01, -4.51506115e-02, -3.34160849e-02,\n",
       "        1.63948029e-01,  1.18162885e-01,  1.17931075e-01, -7.53723234e-02,\n",
       "        6.99033812e-02, -1.49677262e-01,  1.33605555e-01,  6.35098293e-02,\n",
       "       -1.11262821e-01,  1.44574583e-01,  5.09793088e-02,  7.84810111e-02,\n",
       "        1.33912340e-01, -1.01014404e-02,  1.89166442e-02,  2.64207777e-02,\n",
       "        6.79706112e-02, -4.35874611e-02, -1.29576012e-01, -8.70122164e-02,\n",
       "       -1.82096884e-01,  4.46309336e-02, -1.17299274e-01,  3.77167277e-02,\n",
       "       -3.88863534e-02, -2.45066151e-01, -1.87534332e-01,  2.20529154e-01,\n",
       "        6.36389032e-02, -1.01048507e-01, -1.35440186e-01, -1.16922162e-01,\n",
       "        1.44033581e-01, -1.27552837e-01,  2.97309384e-02, -1.25345603e-01,\n",
       "        1.06949881e-01, -1.17857866e-01,  1.90954909e-01, -6.35724515e-02,\n",
       "       -5.19780181e-02, -2.10230052e-01,  1.70476816e-03, -1.13894492e-01,\n",
       "        2.99886197e-01, -1.62069380e-01,  1.92658380e-02,  9.49644148e-02,\n",
       "        9.87575427e-02, -4.26532999e-02,  2.28474110e-01, -1.34448886e-01,\n",
       "        1.58500552e-01,  2.11497173e-01, -8.89001936e-02,  1.02063715e-01,\n",
       "        1.37198254e-01, -2.67013878e-01, -8.74777660e-02, -1.69027708e-02,\n",
       "       -1.37707114e-01, -7.93759152e-03,  1.00760899e-01,  7.62946755e-02,\n",
       "       -1.18731819e-01,  2.82547951e-01,  2.17715099e-01, -1.05493709e-01,\n",
       "        6.44858852e-02, -2.61454701e-01,  1.25847042e-01,  1.22179225e-01,\n",
       "        3.76014709e-02,  1.25241011e-01, -1.03640847e-01,  4.53125872e-02,\n",
       "       -1.31566182e-01,  1.27016366e-01, -1.57463402e-01,  6.66322261e-02,\n",
       "       -1.92074068e-02, -5.36061339e-02,  5.34675233e-02, -1.89914554e-01,\n",
       "        2.10122645e-01, -7.17148185e-02, -2.31102780e-01,  4.24770229e-02,\n",
       "       -2.46526986e-01,  5.83986528e-02,  1.61555689e-02,  5.17586954e-02,\n",
       "        3.23508859e-01, -2.05446314e-02,  5.91667555e-02,  1.30677953e-01,\n",
       "       -1.60214588e-01, -2.71090586e-02, -4.58377786e-02,  3.77873719e-01,\n",
       "       -1.38294742e-01,  7.14147761e-02,  2.37868400e-03, -6.41019493e-02,\n",
       "        2.13527698e-02, -1.27448589e-01,  2.67654896e-01,  1.44851655e-01,\n",
       "       -8.62632692e-02, -1.08228736e-02, -1.40849218e-01, -2.13504080e-02,\n",
       "       -1.59361571e-01, -9.69883800e-02, -2.49132603e-01,  2.84627527e-01,\n",
       "       -1.36893779e-01, -1.99706122e-01, -1.17175259e-01, -2.02882886e-01,\n",
       "        5.75434044e-02,  7.21003627e-03, -1.52956799e-01, -6.81748763e-02,\n",
       "        6.00857362e-02, -1.15473412e-01,  7.03981519e-02,  1.27182864e-02,\n",
       "        3.24549302e-02,  1.76145777e-01,  1.16156638e-01, -9.31609869e-02,\n",
       "       -1.18926927e-01,  1.45309627e-01, -1.48864612e-01,  1.73471078e-01,\n",
       "       -1.60795242e-01,  5.53420037e-02, -1.31108433e-01, -1.58085808e-01,\n",
       "       -1.01256818e-01, -2.88691550e-01, -7.19053596e-02,  4.17757593e-03,\n",
       "       -1.77002147e-01,  1.40762199e-02,  1.34130955e-01, -1.35003671e-01,\n",
       "        1.79609850e-01, -2.62209058e-01, -5.17755747e-02,  9.39568281e-02,\n",
       "       -1.65320188e-02, -1.18108615e-02, -1.07000597e-01,  6.29000440e-02,\n",
       "       -1.35551589e-02, -2.48179406e-01,  1.55151635e-02, -1.18117826e-03,\n",
       "       -3.35017964e-02,  1.47400066e-01,  3.40186059e-01, -1.01138398e-01,\n",
       "       -2.45130002e-01,  9.47213173e-02, -1.09480530e-01,  1.31826978e-02,\n",
       "        4.42167595e-02, -8.13147426e-02,  1.17901586e-01,  1.06268965e-01,\n",
       "       -4.76260893e-02,  7.95427486e-02,  1.22003406e-01, -1.15327537e-02,\n",
       "       -2.11963758e-01,  9.73184034e-02,  2.80320141e-02,  1.96622103e-01,\n",
       "        3.22798848e-01,  2.83923298e-01, -1.75567597e-01,  1.18629485e-01,\n",
       "        6.49704784e-03, -1.92264870e-01, -2.13113129e-02, -2.45485306e-01,\n",
       "        4.53259721e-02, -1.22826183e-02,  1.26767740e-01,  3.08736414e-01,\n",
       "        1.16560005e-01,  1.69820383e-01, -7.79383704e-02, -1.58143472e-02,\n",
       "       -5.14583327e-02, -9.73841697e-02,  4.86377105e-02,  1.09253056e-01,\n",
       "       -8.64115432e-02, -1.84797086e-02,  1.34228483e-01, -2.22056285e-01,\n",
       "       -1.19417366e-02,  8.28799754e-02,  5.66081218e-02,  8.59775394e-02,\n",
       "        1.44447535e-01,  3.12787518e-02,  1.60036147e-01, -2.95985669e-01,\n",
       "       -5.11813462e-02, -1.69389751e-02, -2.12676987e-01,  1.42705813e-01,\n",
       "        3.49294022e-02, -1.42811483e-03, -9.54733416e-02, -2.31052879e-02,\n",
       "        5.70120700e-02, -1.35445714e-01,  5.50338924e-01,  7.72697181e-02,\n",
       "       -1.19592724e-02,  1.91009417e-01,  7.40399435e-02, -1.51180610e-01,\n",
       "       -1.51420340e-01,  1.24480002e-01, -1.25091836e-01,  5.08917272e-02,\n",
       "       -2.55895168e-01, -3.68797267e-03,  9.79349762e-02,  3.96112464e-02,\n",
       "        2.58496106e-01,  3.80375981e-01, -4.63236123e-02, -1.89377248e-01,\n",
       "        5.86954504e-02,  8.73492137e-02,  1.39813364e-01, -1.10157803e-01,\n",
       "       -1.20051078e-01,  1.00412235e-01, -2.29217693e-01, -3.04349989e-01,\n",
       "        1.57251030e-01,  1.51030526e-01,  1.49100140e-01, -1.59072772e-01,\n",
       "        1.25399426e-01,  8.41274709e-02,  5.80585524e-02, -6.63697183e-01,\n",
       "        1.64367631e-01,  7.99508393e-02, -2.25837871e-01, -2.82304585e-02,\n",
       "       -1.58650223e-02,  2.20335159e-03, -7.25863874e-02, -7.77470395e-02,\n",
       "        3.31715420e-02,  5.54826856e-02,  3.95065695e-01, -4.92114872e-02,\n",
       "       -1.72466319e-02,  2.91130394e-01, -1.95066556e-02, -1.43939704e-01,\n",
       "       -1.41817685e-02,  1.87685430e-01,  6.64478987e-02, -1.34196445e-01,\n",
       "       -9.59035680e-02, -2.66534626e-01, -2.49338061e-01,  4.23618667e-02,\n",
       "       -2.06814006e-01, -1.94247618e-01, -2.56970227e-01, -1.42646223e-01,\n",
       "       -4.10386026e-02,  3.12959397e-04,  9.59103853e-02, -7.80190974e-02,\n",
       "       -5.76289669e-02,  4.73880656e-02, -2.05827579e-02,  1.30178556e-01,\n",
       "       -9.21764746e-02,  7.65712708e-02, -1.16793692e-01, -4.30846587e-02,\n",
       "       -6.68711066e-02, -1.18916094e-01,  4.40712050e-02, -1.35401282e-02,\n",
       "        1.19346060e-01,  2.13747732e-02, -5.79990223e-02, -1.21241836e-02,\n",
       "       -3.32428932e-01, -1.46889195e-01,  1.74837694e-01, -5.53855039e-02,\n",
       "       -3.98915470e-01, -8.11550617e-02, -8.35338384e-02, -5.69072962e-02,\n",
       "        3.53379175e-04,  6.15659403e-03, -3.70497280e-03, -2.14934513e-01,\n",
       "        6.15228862e-02, -1.97883993e-01, -5.49507849e-02,  2.63958603e-01,\n",
       "        5.34903519e-02,  6.09385446e-02,  3.34474929e-02, -4.84753460e-01,\n",
       "       -1.45619279e-02, -5.50590232e-02,  1.80463463e-01,  4.77756411e-02,\n",
       "       -1.82667866e-01, -1.94752842e-01,  1.33406982e-01, -1.14517763e-01,\n",
       "        7.00355768e-02,  1.88618302e-02,  7.18427747e-02, -1.29473835e-01,\n",
       "        3.10152825e-02,  1.57463595e-01,  1.51576281e-01, -8.36681426e-02,\n",
       "        6.88148141e-02, -1.42585382e-01, -1.46974772e-01, -1.71273991e-01,\n",
       "       -3.25049758e-02, -7.28153884e-02, -9.37432945e-02,  3.78382094e-02,\n",
       "        9.99622047e-02,  1.45028800e-01, -2.66170651e-02, -2.46435046e-01,\n",
       "       -3.77629744e-03, -9.67756733e-02, -2.08405957e-01, -1.30262196e-01,\n",
       "        2.24822372e-01, -2.95501226e-03, -3.86448145e-01,  5.85453287e-02,\n",
       "        1.48551792e-01,  1.48492381e-01, -1.76373079e-01, -7.25177452e-02,\n",
       "       -2.97423273e-01,  1.61814719e-01, -1.51254416e-01,  2.41927177e-01,\n",
       "       -1.28169850e-01,  1.72182266e-02,  4.74244021e-02, -3.72367986e-02,\n",
       "       -1.17892660e-02,  8.82370397e-02,  8.69942978e-02, -2.24936083e-01,\n",
       "       -2.02840254e-01, -3.62236984e-03, -3.62037569e-02, -4.07649651e-02,\n",
       "       -2.47244194e-01, -6.20593689e-02,  8.22159871e-02, -9.17454213e-02,\n",
       "        7.52545660e-03,  1.75498411e-01,  2.61051238e-01, -1.83837954e-03,\n",
       "        1.46793306e-01, -9.89570469e-02,  1.07663922e-01,  2.96559315e-02,\n",
       "       -4.36837561e-02, -4.01128940e-02,  1.17828026e-01,  2.20035896e-01,\n",
       "        4.22716767e-01, -2.07496464e-01,  2.46519431e-01,  8.25454891e-02,\n",
       "        1.41057566e-01, -1.63682029e-01, -2.15859294e-01,  2.07297802e-01,\n",
       "       -2.37210199e-01, -1.57201409e-01, -1.74666181e-01, -3.29140007e-01,\n",
       "       -2.08511800e-01,  1.50378481e-01,  3.30278166e-02,  2.01108791e-02,\n",
       "        7.90676922e-02,  3.48603308e-01,  4.33170646e-02, -8.84876549e-02,\n",
       "       -1.41428664e-01,  9.43816919e-03, -1.20573007e-02, -6.61233366e-02,\n",
       "        5.18189929e-02, -1.93628445e-01,  1.52706653e-01, -1.80259362e-01,\n",
       "       -1.31120026e-01,  1.87241271e-01,  1.84272468e-01, -1.20678529e-01,\n",
       "        4.48332839e-02,  3.79848434e-03,  1.11018710e-01,  9.41974446e-02,\n",
       "       -9.30659473e-02,  3.41360539e-01, -2.55202111e-02, -9.00531486e-02,\n",
       "        1.36015534e-01,  5.23450226e-02,  4.80529340e-03, -8.57848953e-03,\n",
       "       -6.18371814e-02, -5.67674525e-02,  3.32676977e-01, -1.10308327e-01,\n",
       "        1.52698293e-01, -4.76897508e-02,  2.88870692e-01,  6.17532320e-02,\n",
       "       -2.04176739e-01,  2.20143065e-01, -2.79216260e-01,  2.75445562e-02,\n",
       "        2.51963306e-02, -1.41519144e-01,  7.87205696e-02, -7.62177515e-04,\n",
       "        1.56069715e-02,  1.76318496e-01, -2.10346267e-01,  1.05953433e-01,\n",
       "        4.88696694e-02,  2.30576560e-01,  2.68212631e-02, -6.63866848e-02,\n",
       "       -6.85416162e-02, -2.35331908e-01,  1.12286191e-02,  1.54745385e-01,\n",
       "       -6.46240115e-02, -2.45105132e-01,  3.26359533e-02, -9.81096998e-02,\n",
       "       -3.83139998e-02,  6.65527806e-02, -1.12985060e-01,  3.22700620e-01,\n",
       "        6.31113425e-02, -2.61750910e-02, -2.63952166e-01,  1.93499401e-01,\n",
       "       -1.25962526e-01,  1.24119788e-01,  1.51460320e-01, -9.81752723e-02,\n",
       "       -5.71636343e-03,  2.82017857e-01, -1.61131799e-01,  1.87547766e-02,\n",
       "        2.32546002e-01, -2.98158601e-02,  3.77906300e-02,  6.89797401e-02,\n",
       "        1.17919788e-01,  3.89745235e-02, -1.50872707e-01, -1.25426486e-01,\n",
       "        1.30815536e-01, -3.75367522e-01, -2.01353446e-01,  1.30743846e-01,\n",
       "        4.93924692e-03,  2.42017031e-01, -4.37282436e-02,  1.53132886e-01,\n",
       "       -3.82459700e-01,  1.07979782e-01,  5.55702765e-03, -2.89008599e-02,\n",
       "        4.62702438e-02, -2.04043034e-02, -1.99268572e-02,  1.00961961e-02,\n",
       "        1.10038621e-02, -4.99093384e-02, -1.56669039e-02,  2.35380694e-01,\n",
       "       -1.30733684e-01,  1.26870662e-01,  1.11415125e-01, -2.18507260e-01,\n",
       "        1.15436047e-01,  6.48216009e-02,  1.58280209e-02,  2.02070862e-01,\n",
       "       -1.73395514e-01,  1.19837284e-01,  2.25476474e-02, -2.10374184e-02,\n",
       "        7.80724958e-02,  2.71313131e-01,  1.66121766e-01, -4.99046966e-02,\n",
       "        2.29684245e-02,  1.75758719e-01,  1.94476873e-01, -2.14003190e-01,\n",
       "       -8.62722937e-03, -2.99050570e-01,  3.48488420e-01,  2.88924128e-01,\n",
       "        1.40544295e-01,  4.04889137e-02, -2.53713638e-01,  7.32113943e-02,\n",
       "       -1.08385906e-01, -3.90195325e-02,  1.36514619e-01,  1.18741475e-01,\n",
       "        2.92401593e-02,  7.23194852e-02, -2.12701216e-01, -1.37763411e-01,\n",
       "        1.69701025e-01,  2.68472970e-01,  4.72748047e-03, -1.87613033e-02,\n",
       "        2.26067260e-01, -1.30091995e-01,  1.25116661e-01,  7.78800668e-03,\n",
       "       -1.30925298e-01, -3.64674181e-01,  1.99093610e-01, -1.46996617e-01,\n",
       "       -1.63704097e-01, -7.96300843e-02,  3.30428898e-01, -6.80786520e-02,\n",
       "        3.39451671e-01,  1.24664918e-01,  3.27531174e-02, -1.19887181e-01,\n",
       "        9.16706473e-02,  1.38794705e-01,  1.67662561e-01, -4.29161936e-02,\n",
       "       -7.48246759e-02, -2.28567064e-01,  1.33547649e-01,  1.24837570e-01,\n",
       "       -1.12621740e-01,  4.65233624e-02,  2.90266238e-02, -1.45158514e-01,\n",
       "       -7.99269825e-02,  1.28665596e-01, -1.16637416e-01,  2.00558409e-01,\n",
       "       -2.32179537e-01,  3.82146910e-02,  1.26396582e-01,  2.19812244e-01,\n",
       "       -2.37927526e-01, -6.99899420e-02,  1.08704828e-01,  2.28230897e-02,\n",
       "        2.01843172e-01,  1.70324355e-01,  1.54075362e-02, -1.60579026e-01,\n",
       "       -3.15789767e-02, -3.88295352e-02,  1.86776266e-01, -1.38105024e-02,\n",
       "       -8.43140930e-02,  8.44220296e-02, -1.05548866e-01,  3.71171571e-02,\n",
       "       -6.40988722e-02, -2.38713443e-01,  4.78728175e-01, -3.68418902e-01,\n",
       "       -2.07646146e-01,  2.50790209e-01, -1.61472917e-01,  1.68151885e-01,\n",
       "       -1.01959221e-01, -1.63498744e-01, -3.67840193e-02,  1.75530329e-01,\n",
       "        9.87581387e-02,  1.52150439e-02, -7.07218237e-03, -2.04892769e-01,\n",
       "       -7.09911734e-02,  2.51629561e-01,  9.65607390e-02, -1.49066374e-01,\n",
       "        8.23123232e-02, -6.14526533e-02, -1.88201517e-01, -8.99339765e-02,\n",
       "        6.68504238e-02, -2.74901818e-02, -4.43679512e-01,  8.13135058e-02,\n",
       "        1.37395725e-01,  1.35274762e-02, -1.06067052e-02,  5.27201071e-02,\n",
       "        2.08846241e-01,  2.27673620e-01,  4.98879589e-02,  9.69289318e-02,\n",
       "       -1.95223823e-01, -1.42292708e-01, -1.23600848e-02, -5.66457547e-02],\n",
       "      dtype=float32)"
      ]
     },
     "execution_count": 89,
     "metadata": {},
     "output_type": "execute_result"
    }
   ],
   "source": [
    "mymine_vector"
   ]
  },
  {
   "cell_type": "code",
   "execution_count": 90,
   "id": "instant-washington",
   "metadata": {},
   "outputs": [
    {
     "data": {
      "text/plain": [
       "array([-6.64504850e-03,  1.59399619e-03,  1.01922872e-02, -4.77418769e-04,\n",
       "        8.55779741e-03,  1.99849857e-03,  7.43667316e-03,  1.27941836e-02,\n",
       "        3.82892089e-03,  1.16451085e-02, -1.00305828e-03,  5.58640715e-03,\n",
       "        1.42111350e-02,  3.48637556e-03,  2.81161442e-03,  8.20163451e-03,\n",
       "        1.11545753e-02,  1.52884666e-02, -2.22327770e-03, -2.09946535e-04,\n",
       "        6.76738238e-03, -2.95032887e-03,  5.02271578e-03, -2.61477032e-03,\n",
       "        1.30466698e-02, -3.66622233e-04,  1.36561282e-02,  4.97363228e-03,\n",
       "       -1.69718202e-04,  1.43448757e-02,  1.11149224e-02,  8.18712730e-03,\n",
       "        2.65743956e-03,  1.04279974e-02,  6.53420459e-04,  2.69812485e-03,\n",
       "        1.66947953e-03,  8.06423184e-03, -1.37605413e-03,  6.84852432e-03,\n",
       "        3.99290211e-03,  5.31728147e-03,  6.11834088e-03,  4.20280918e-03,\n",
       "       -5.73391933e-03,  8.72205012e-03,  1.40553177e-03,  2.76845507e-03,\n",
       "        8.03082995e-03,  6.59216102e-03,  5.03124436e-03,  1.05207227e-02,\n",
       "        2.95485486e-03,  1.36845512e-02,  8.14750697e-03,  7.21886614e-03,\n",
       "        6.01891801e-03,  3.29487561e-03,  4.04206431e-03,  8.20065383e-03,\n",
       "        8.07132106e-03,  7.65214488e-03, -8.51020974e-04,  3.27904429e-03,\n",
       "        9.37392097e-03,  8.24114960e-03,  5.39264036e-03,  8.07553157e-03,\n",
       "       -5.91529720e-03,  4.68096137e-03,  8.42633098e-03,  5.10940608e-03,\n",
       "       -2.26169635e-04, -1.72796799e-03,  1.04687186e-02, -4.96886019e-03,\n",
       "        7.84082711e-03,  1.52363637e-02, -3.22209392e-03,  2.07348424e-03,\n",
       "        5.54712676e-03,  2.51104333e-03,  1.39069259e-02, -6.67174486e-03,\n",
       "        2.12622508e-02, -6.38884772e-03,  3.63766192e-03, -3.55333555e-03,\n",
       "        7.84167554e-03,  5.60522778e-03,  1.87244976e-03,  8.22445843e-03,\n",
       "        9.06101987e-03,  7.56621687e-03,  5.42937638e-03,  9.24748182e-03,\n",
       "        4.20560176e-03,  1.16845025e-02, -6.21657062e-04,  4.72355401e-03,\n",
       "       -1.18972536e-03,  1.46870653e-03,  5.36642736e-03,  1.18748276e-02,\n",
       "        1.26755647e-02,  1.57937873e-02,  1.34893740e-02,  9.76661686e-03,\n",
       "        6.28561899e-03,  7.45225977e-03,  5.70150465e-03, -4.70049819e-03,\n",
       "        8.22161138e-03,  7.90196098e-03,  1.31439539e-02, -1.24953408e-02,\n",
       "        2.45101657e-03,  3.77729652e-03, -3.98687203e-04,  1.72150861e-02,\n",
       "       -4.41288995e-03,  6.27307734e-03, -3.40946775e-04,  8.78466666e-03,\n",
       "       -3.36918072e-03,  9.48646758e-03,  1.28447032e-02,  6.80234190e-03,\n",
       "        2.99067539e-03,  1.07945595e-02,  1.54079739e-02,  1.36696640e-02,\n",
       "        2.01360532e-03,  2.69315252e-03,  5.32367639e-03,  5.99232689e-03,\n",
       "        3.35330633e-03,  3.63203068e-03,  7.63932336e-03,  1.82756685e-05,\n",
       "       -1.03983085e-03,  5.17212134e-03,  1.21593075e-02,  1.21570118e-02,\n",
       "        4.93280031e-03,  3.85922450e-03,  1.68594606e-02, -1.90884501e-04,\n",
       "        2.29235529e-03,  1.29784914e-02,  2.13263091e-03,  8.89865402e-03,\n",
       "        4.25410038e-03,  7.18209846e-03,  1.28734931e-02,  1.05390465e-02,\n",
       "        6.81018131e-03, -7.18653202e-04,  1.51509102e-02,  6.46484364e-03,\n",
       "       -6.84006314e-04,  8.95795505e-03, -3.18958843e-03, -3.49944946e-03,\n",
       "        3.22862342e-03,  1.50282132e-02,  4.56055393e-03,  2.10362137e-03,\n",
       "        3.46795889e-03, -6.55831362e-04,  3.20136128e-03,  1.43804001e-02,\n",
       "        1.32598206e-02,  4.82239574e-03,  5.18828677e-03, -9.55562457e-04,\n",
       "        1.59047097e-02, -1.33570714e-03, -5.48325013e-03,  7.80854281e-03,\n",
       "        2.63862731e-03, -1.34846242e-03,  1.22761913e-03,  2.08853418e-03,\n",
       "       -2.13551358e-03,  3.23276105e-03,  7.55629642e-03,  1.04662287e-03,\n",
       "        7.39101041e-03,  1.13856904e-02, -4.98368684e-03,  3.39453481e-03,\n",
       "        5.35818981e-03,  1.00689540e-02,  5.42915938e-03,  9.03562829e-03,\n",
       "        8.15126579e-03,  7.03170942e-03,  1.40428189e-02,  1.17947785e-02,\n",
       "        1.24898395e-02, -3.31867882e-03, -8.11565667e-03,  7.76438043e-03,\n",
       "       -2.05624197e-03, -1.06786820e-03,  5.93028590e-03, -7.42733292e-03,\n",
       "       -7.44425517e-04,  8.42649676e-03,  7.94827845e-03, -6.34500990e-03,\n",
       "        3.70833813e-03,  1.58563983e-02,  2.11763266e-03,  1.49065172e-02,\n",
       "        7.96544738e-03, -5.16584085e-04,  5.54724690e-03,  9.59944073e-03,\n",
       "       -5.68550965e-03,  5.76042430e-03,  5.04478994e-05,  9.36653931e-03,\n",
       "        9.84688848e-03, -2.38155527e-03,  3.81667400e-03, -9.27472580e-03,\n",
       "        1.98702631e-03,  1.08389615e-03,  9.09723155e-03,  5.49404277e-03,\n",
       "        7.19549321e-03,  2.44761771e-03, -1.00295692e-05,  1.58421919e-02,\n",
       "       -3.38421995e-03,  2.48556631e-03,  2.28372612e-03,  5.45033161e-03,\n",
       "        1.26775792e-02,  3.88102676e-03,  8.93001165e-03, -9.85963969e-04,\n",
       "        6.86543109e-03,  7.24265352e-04,  9.33942199e-03,  8.18133820e-03,\n",
       "        6.35041855e-03,  1.36643294e-02,  6.14305586e-03,  3.65179870e-03,\n",
       "        8.89419857e-03,  1.31350113e-02,  2.77328282e-03,  1.63092688e-02,\n",
       "        1.07873213e-02,  6.82132877e-03,  8.70004646e-04,  7.03911018e-03,\n",
       "        1.10246548e-02,  6.10709703e-03,  1.05510540e-02,  7.46591901e-03,\n",
       "       -6.01355510e-04,  4.29536775e-03,  5.57149714e-03,  3.72079457e-03,\n",
       "        2.09157844e-03,  9.12079588e-03,  5.28152054e-03,  9.54583660e-03,\n",
       "        8.16032570e-03,  3.13596195e-03,  9.33648553e-03,  4.06124676e-03,\n",
       "        1.12561872e-02, -4.33863752e-04,  3.35355545e-03,  3.10985160e-05,\n",
       "        1.18436897e-02,  9.02019069e-03,  2.32915394e-03,  9.64752305e-03,\n",
       "        7.08331214e-03,  1.67168081e-02,  3.56140686e-03,  2.09218450e-03,\n",
       "       -1.34101172e-03,  1.02147348e-02, -5.59011009e-03, -5.15423017e-03,\n",
       "       -3.03153228e-03,  3.49337322e-04,  9.13247932e-03,  7.86584336e-03,\n",
       "        4.22554463e-03,  6.36164565e-03,  4.49888688e-03,  3.57257226e-03,\n",
       "        2.42330949e-03,  5.81011688e-03,  6.55828742e-03,  1.03328796e-02,\n",
       "        4.23806673e-03,  4.43127146e-03, -3.55179026e-03, -1.61330588e-03,\n",
       "        7.13914260e-03,  1.00920051e-02,  8.75846576e-03,  1.56623460e-02,\n",
       "        2.25505047e-02,  1.97150256e-03,  7.61249615e-03,  3.78271332e-03,\n",
       "        2.04749219e-03,  8.04930646e-03,  4.32610046e-03,  2.70370510e-04,\n",
       "        4.27433243e-03,  4.54131607e-03,  7.23457779e-04, -6.93847984e-03,\n",
       "        4.19661868e-03,  5.32991719e-04, -5.22390183e-04, -3.70385125e-03,\n",
       "       -9.17319115e-03, -1.05585539e-04,  1.28946844e-02,  4.98361001e-03,\n",
       "        1.07231820e-02, -3.57301207e-03,  1.32775272e-03,  4.30185255e-03,\n",
       "       -7.13444874e-03,  1.07471319e-02,  4.02844185e-03,  1.58245803e-03,\n",
       "        2.44803890e-03,  7.10608624e-03,  1.26654403e-02,  9.28800460e-03,\n",
       "        4.63972450e-04,  3.06374812e-03,  9.35549568e-03,  6.91234483e-04,\n",
       "        6.79949531e-03,  1.08822994e-02,  4.82312124e-03,  1.06910849e-02,\n",
       "        5.92496665e-03,  1.04578733e-02,  7.33659184e-03, -1.68070430e-03,\n",
       "       -2.55302992e-03, -3.03515745e-03,  9.69625637e-03,  3.39130010e-03,\n",
       "        1.34844398e-02,  4.58710408e-03,  2.27025673e-02,  1.39796990e-03,\n",
       "        2.02865060e-02,  5.71226701e-03,  1.52981607e-03,  1.12148914e-02,\n",
       "        2.94609694e-03,  1.59576570e-03,  7.40549201e-03,  5.34640998e-03,\n",
       "        9.32191790e-04, -1.88102748e-03,  5.45660080e-03,  5.91096003e-03,\n",
       "        9.82637983e-04,  5.78096369e-03,  4.44817560e-04,  5.66764828e-03,\n",
       "        2.48471927e-03,  1.16170337e-03, -4.69292328e-03,  4.47338010e-04,\n",
       "        6.43644901e-03, -2.25031376e-03,  1.09338416e-02,  1.57816673e-03,\n",
       "        5.65472245e-03,  1.32752014e-02,  6.53649261e-03,  1.00141997e-02,\n",
       "        3.03128880e-04, -1.15221716e-03,  8.95584654e-03, -4.59301099e-03,\n",
       "        1.57834720e-02,  1.35624083e-02,  1.10375101e-03,  4.21069842e-03,\n",
       "        8.29883106e-03,  4.76292288e-03,  7.06913648e-03,  3.13829485e-04,\n",
       "        2.24390556e-03,  1.86512619e-03,  7.20289955e-03,  6.21675421e-03,\n",
       "        9.46631469e-03, -3.09499959e-03,  5.83596295e-03,  2.50249193e-03,\n",
       "        1.32943984e-04,  3.29475082e-03,  9.57410783e-04, -9.22858380e-05,\n",
       "        5.65109029e-03,  3.60378763e-03, -8.98177677e-04, -9.96222487e-04,\n",
       "        6.19337382e-03, -6.03731489e-03,  5.64642437e-03,  1.02375848e-02,\n",
       "        2.84645194e-03, -3.34256096e-03, -2.71462929e-03,  4.29438474e-03,\n",
       "       -1.05963950e-03,  8.90716817e-03,  1.40838209e-03,  8.58654734e-03,\n",
       "        7.77506502e-03,  4.55465727e-03,  1.08130723e-02,  2.35616276e-03,\n",
       "        7.50413304e-03,  6.88726362e-03,  1.88099267e-03,  5.00744861e-03,\n",
       "       -6.44644676e-03,  1.35620264e-02,  6.27883524e-03,  2.32552714e-03,\n",
       "        1.26917865e-02,  4.48523648e-03,  3.64885828e-03, -3.54713434e-03,\n",
       "        7.70046143e-03,  9.58899595e-03,  1.08295642e-02,  8.77019297e-03,\n",
       "        1.65976919e-02,  6.08388381e-03,  1.34617416e-02,  8.63324571e-03,\n",
       "        2.21979944e-03, -1.25924614e-03,  1.45357111e-02,  9.30800661e-03,\n",
       "        2.58325040e-03,  8.01604893e-03, -3.30708572e-03,  6.33925060e-03,\n",
       "        4.10455512e-03,  9.43330303e-03, -1.73132936e-03,  1.55074736e-02,\n",
       "        4.51261119e-04, -3.91484471e-03,  1.02774259e-02, -4.14197886e-04,\n",
       "        5.36806462e-03,  1.46020961e-03,  1.01229979e-03, -1.61037278e-05,\n",
       "        6.60421327e-03,  1.74141303e-03,  2.99134688e-03,  6.56720484e-04,\n",
       "        9.09895450e-03,  4.31915140e-03,  1.28247570e-02, -5.01494156e-03,\n",
       "       -5.83488075e-03,  9.05682985e-03,  6.92459103e-03,  2.56621409e-02,\n",
       "        2.10649986e-03,  7.59375223e-04, -6.52651652e-04,  8.65445356e-04,\n",
       "        2.34752311e-03, -2.51882151e-03,  1.55204022e-03,  7.82860164e-03,\n",
       "        7.28047965e-03,  4.05253470e-03,  7.91645888e-03, -9.03004198e-04,\n",
       "        9.62289702e-03, -3.69446608e-03,  5.19380625e-03,  1.72745045e-02,\n",
       "        7.77026406e-03,  9.45888367e-03, -4.07994771e-03,  1.33860745e-02,\n",
       "        6.55229250e-03,  5.91639290e-03,  1.30863739e-02, -7.53929489e-04,\n",
       "        9.08823125e-03,  1.67381912e-02,  7.53310882e-03,  4.30042669e-03,\n",
       "       -8.60528555e-03,  1.67928496e-03,  7.11055985e-03,  9.03645437e-03,\n",
       "        9.48201865e-03,  9.40495450e-03,  1.05893109e-02,  3.26230819e-03,\n",
       "        8.17795098e-03,  9.29613598e-03,  1.42907246e-03,  4.35019890e-03,\n",
       "        2.21197307e-03,  2.92456849e-03,  9.60535463e-03,  1.09639727e-02,\n",
       "        1.58034172e-02,  1.39052924e-02, -8.14539660e-03,  1.14221610e-02,\n",
       "        4.99380659e-03, -4.10989393e-03,  3.57083417e-03,  2.43944163e-03,\n",
       "       -3.14219063e-03,  7.00337347e-03,  5.18880831e-03,  1.88674442e-02,\n",
       "        3.09104595e-04,  7.99898989e-03,  5.10565937e-03,  1.20251793e-02,\n",
       "        6.40516961e-03,  8.82280146e-05,  8.06785841e-03,  1.68850776e-02,\n",
       "       -2.69444263e-05,  1.26542216e-02,  4.51361155e-03,  9.89359338e-04,\n",
       "       -1.45576103e-03,  9.22848564e-03,  6.99281460e-03,  1.34934916e-03,\n",
       "        4.50083101e-03,  6.37730537e-03,  6.51400676e-03,  1.96118304e-03,\n",
       "        4.32998501e-03,  7.25890417e-03,  5.56672458e-03,  8.11425317e-03,\n",
       "        8.71283654e-03, -3.32612987e-03, -3.26707703e-03, -2.97741871e-03,\n",
       "       -2.20110931e-04,  6.01073122e-03,  1.41969379e-02,  2.28604674e-03,\n",
       "        2.58865952e-03,  4.81575448e-03,  4.04312415e-03, -2.60220678e-03,\n",
       "        3.76094715e-04,  7.98146985e-03,  1.54753188e-02,  5.47480397e-03,\n",
       "        4.41418588e-03,  4.90974309e-03,  1.82538328e-03,  6.85844058e-03,\n",
       "        5.05585130e-03,  1.75992250e-02,  4.47379611e-03, -1.12515024e-03,\n",
       "        5.98094426e-03,  1.11567630e-02,  5.60816936e-03, -9.49881098e-04,\n",
       "       -6.89969119e-03, -2.89783860e-03,  5.52212587e-03,  2.80865328e-03,\n",
       "        3.61534883e-03,  6.59950916e-03,  3.71701387e-03, -8.15989356e-03,\n",
       "       -5.19164954e-04,  9.53429192e-03,  5.28117362e-03, -1.23918420e-02,\n",
       "        1.61662896e-03, -2.90101860e-04, -7.12496927e-03,  8.54510255e-03,\n",
       "        7.60362111e-03,  1.39477812e-02,  5.28276898e-03, -5.38416486e-03,\n",
       "        1.19632669e-03,  1.70532372e-02,  6.07151305e-04,  5.61804837e-03,\n",
       "        6.73704036e-03,  1.01448810e-02,  2.03227182e-03,  1.23688243e-02,\n",
       "        1.13667864e-02,  1.44178467e-02,  9.33894981e-03,  1.28314900e-03,\n",
       "        2.90733203e-03,  1.09523523e-03, -5.22209285e-03, -2.76068528e-03,\n",
       "        2.16512196e-03, -3.84391774e-03,  1.58223009e-03, -5.09632658e-03,\n",
       "        1.03793796e-02,  4.23326716e-03,  1.32489502e-02,  1.10637322e-02,\n",
       "        1.01645887e-02,  8.51169322e-03,  1.30987158e-02,  5.39102638e-03,\n",
       "       -3.08814505e-03,  1.18032079e-02,  7.25439284e-03,  5.12809020e-05,\n",
       "        5.85595332e-03,  8.32458679e-03,  1.25532644e-02,  7.78762205e-03,\n",
       "        8.37774575e-03,  1.47551028e-02,  3.09267989e-03,  9.54606384e-03,\n",
       "       -6.81232149e-03,  1.34353130e-03,  4.32228949e-03,  2.50593701e-04,\n",
       "       -1.00804651e-02, -7.97482580e-03,  1.58220041e-03,  5.76472841e-04,\n",
       "        4.27884655e-03,  1.41273043e-03, -1.44478795e-03,  2.04810966e-03,\n",
       "        2.34372471e-03,  4.79861721e-03,  3.58293368e-03,  1.56141827e-02,\n",
       "        5.75391669e-03,  3.27478279e-03,  6.89552398e-03, -1.14625199e-02,\n",
       "       -1.17812073e-04,  4.34559130e-04,  1.58825740e-02,  7.16782967e-03,\n",
       "        7.91744050e-03, -6.93945261e-03,  7.40985340e-03,  5.50980738e-04,\n",
       "        3.69514129e-03,  7.13296048e-03,  6.33286731e-03,  4.37186891e-03,\n",
       "        1.08689088e-02,  1.03453156e-02, -1.60771271e-03,  1.93004473e-03,\n",
       "        1.05316946e-02,  1.45751005e-03,  3.12820682e-03,  9.95716895e-04,\n",
       "        1.00026503e-02, -4.90619848e-03, -4.94381355e-04, -7.41094770e-03,\n",
       "        6.08083537e-05,  9.11326706e-03,  1.54388801e-03,  8.17785691e-03,\n",
       "        2.09175772e-03,  3.52611952e-03,  6.12261984e-03,  9.36915725e-03,\n",
       "        5.27965883e-03,  1.83621643e-03, -3.90918367e-03,  4.56471462e-03,\n",
       "        1.48005104e-02,  8.42043012e-03,  1.97483762e-03,  8.03282764e-03,\n",
       "        1.38161157e-03,  5.46351681e-03,  2.97517865e-03,  1.39526790e-03,\n",
       "       -2.36287410e-03,  9.95185785e-03,  7.23334122e-03,  9.30901896e-03,\n",
       "       -9.71818226e-04,  2.05272622e-02,  1.17530562e-02, -1.16682576e-03,\n",
       "        2.90531339e-03,  9.01998393e-03, -3.62879073e-04,  8.76707956e-03,\n",
       "       -5.26173366e-03, -2.67006061e-03,  1.34301465e-02,  1.55150436e-03,\n",
       "       -5.80081949e-04,  1.43465847e-02,  1.09770838e-02, -2.80730892e-04,\n",
       "        9.89601668e-03,  7.62385083e-03,  1.73389257e-04,  1.85737794e-03,\n",
       "        5.53945499e-03,  5.96046867e-03,  3.10738757e-03,  1.77426301e-02,\n",
       "        1.33842109e-02, -1.83792901e-03,  5.15627349e-03,  1.33036384e-02,\n",
       "        1.00220328e-04, -1.08608429e-03,  4.51934570e-03,  8.57781991e-03,\n",
       "        3.68073932e-03,  2.20043748e-03, -4.43377905e-03,  3.15226638e-03,\n",
       "       -8.15821718e-03,  1.03786150e-02,  1.07106883e-02,  1.20590888e-02,\n",
       "        4.56184708e-03,  1.75414402e-02,  2.82913400e-03, -3.88735021e-03,\n",
       "       -1.47965935e-03, -2.50994926e-03, -1.60444155e-03, -2.92197056e-03,\n",
       "        1.29350340e-02,  3.95938661e-03,  6.49405504e-03,  1.76170981e-03,\n",
       "        1.81755502e-04,  4.46970109e-03,  1.78617518e-02,  5.12463646e-03,\n",
       "        7.59073207e-03,  1.74753107e-02,  9.24591441e-03,  6.58682827e-03,\n",
       "        4.89823148e-03,  1.54361967e-02,  3.40118073e-03,  8.41275323e-03,\n",
       "        1.15520805e-02,  5.45787299e-03,  1.44420704e-03,  1.46712093e-02,\n",
       "        1.20768212e-02,  1.02567850e-02,  2.52766127e-04, -4.34603216e-03,\n",
       "        5.40008722e-03,  2.22941395e-03,  4.27679671e-03,  1.08040338e-02,\n",
       "        6.12676656e-03,  6.59724092e-03,  3.30159627e-03,  6.42408663e-03,\n",
       "        3.89584363e-03,  1.01926252e-02,  9.21188295e-03,  1.63610447e-02,\n",
       "        5.94951771e-03,  9.73065104e-03,  2.23164476e-04,  4.56022378e-03,\n",
       "        1.36177463e-03,  8.96523148e-03,  5.88620175e-03,  1.16118109e-02,\n",
       "        2.76766694e-03,  9.72989015e-03,  4.12662746e-03,  1.31275970e-02,\n",
       "       -3.50430422e-03, -4.73310938e-03,  8.36607534e-03,  1.00691267e-03,\n",
       "        2.77589890e-04,  4.92136925e-03,  2.13865913e-03,  8.10594764e-03,\n",
       "        9.93905682e-03,  8.99337325e-03,  2.78039183e-03,  6.21057069e-03,\n",
       "       -3.26515851e-03,  9.74561740e-03, -1.90137874e-03,  1.84359495e-02,\n",
       "        6.12962991e-03,  1.97963510e-02,  5.69699053e-03,  2.05479981e-03,\n",
       "        8.13065469e-03,  7.58743379e-03,  1.13856429e-02,  2.54672510e-03,\n",
       "        2.13413360e-03,  1.30063538e-02,  1.02644544e-02,  8.60329717e-04,\n",
       "        4.87329764e-03, -4.58248751e-03,  2.47679022e-03,  7.69888749e-03,\n",
       "        1.03841089e-02,  1.48494849e-02,  4.10798145e-03,  1.80861577e-02,\n",
       "        3.79636697e-03,  3.04442202e-03,  9.25016962e-03,  2.47137109e-03,\n",
       "        1.75227411e-02,  5.11731161e-03,  1.23616932e-02, -1.43513188e-03,\n",
       "        3.85826733e-03, -2.60902103e-03,  5.73132560e-03,  1.38937291e-02,\n",
       "        2.08458677e-03,  5.35156764e-03, -1.31008285e-03,  6.28455821e-03,\n",
       "        9.01908055e-03,  9.55046900e-03,  4.07067826e-03,  5.70268556e-03,\n",
       "        3.35866143e-03, -3.28282802e-03,  4.14024107e-03, -1.87098200e-03,\n",
       "        7.46155391e-03,  4.80818003e-03,  1.25975693e-02,  3.45134246e-03,\n",
       "        7.16097187e-03,  5.45656681e-03,  1.21511146e-02, -7.21377181e-03,\n",
       "        6.02060044e-03, -4.18926077e-03,  1.75302085e-02,  8.52251239e-03,\n",
       "        2.86564999e-03,  9.51718166e-03, -3.87004577e-03,  7.45410891e-03,\n",
       "        4.10791906e-03,  3.29940743e-03,  9.88826901e-03,  9.56495386e-03,\n",
       "        3.62727838e-03,  1.11343795e-02,  1.04997950e-02,  9.44211148e-03,\n",
       "        9.80110839e-03,  3.26901744e-03,  1.57281496e-02,  5.09024248e-04,\n",
       "        6.18491694e-03,  5.78819483e-04,  4.16561309e-03,  1.52829774e-02,\n",
       "        4.95459419e-04,  9.90755972e-04,  1.22166993e-02, -2.34917086e-03,\n",
       "        7.43931439e-03,  3.75740393e-03,  1.05652362e-02,  3.00527754e-04,\n",
       "        1.16034336e-02, -8.18874378e-06,  1.01634003e-02,  3.04094329e-03,\n",
       "       -1.56485906e-03,  3.71208857e-03,  8.87594651e-03,  9.09350440e-03,\n",
       "        5.89037081e-03,  4.23911633e-03,  1.49947284e-02,  2.53781839e-03,\n",
       "        7.89121073e-03,  1.69124571e-04,  6.25924487e-03,  6.44391694e-04,\n",
       "        5.08191297e-03,  9.51763801e-03,  7.99831282e-03,  2.01011635e-02,\n",
       "        3.51864565e-03,  1.36791207e-02,  1.92232821e-02,  8.85777362e-03,\n",
       "        1.99895515e-03,  9.64823179e-03,  1.43543463e-02, -5.34844643e-04,\n",
       "        1.64762363e-02,  4.21250053e-03, -4.29827115e-03, -2.18902854e-03,\n",
       "       -5.18026715e-03,  1.08212011e-03,  4.09478648e-03,  6.31515076e-03,\n",
       "        1.14616088e-03,  7.82299228e-03,  4.32660338e-03,  1.68647822e-02,\n",
       "        7.61744985e-03, -3.20230261e-04,  6.95493584e-03,  1.76702742e-03,\n",
       "        1.64585002e-03,  7.99198914e-03,  5.45474980e-03,  7.56336469e-03,\n",
       "        3.25653679e-03,  1.41528598e-03,  7.34335603e-03,  3.34381405e-03,\n",
       "       -2.72026798e-03,  7.09105330e-03,  1.40186539e-03,  7.21140811e-03,\n",
       "        6.19853567e-03,  5.73926419e-03,  7.72749214e-03, -7.01723387e-03,\n",
       "        3.45673948e-03,  5.31920511e-03,  2.28049513e-03,  7.82406982e-03,\n",
       "        8.39429908e-04,  6.28361152e-03, -8.04240908e-03,  1.30919181e-03,\n",
       "        4.22012154e-03,  6.70506153e-03,  9.53604281e-03,  2.20908201e-03,\n",
       "        1.31515423e-02,  7.24059995e-03,  8.93538445e-03,  5.94502129e-03,\n",
       "        2.65268073e-03,  5.38686244e-03,  3.76573531e-03,  1.12081775e-02],\n",
       "      dtype=float32)"
      ]
     },
     "execution_count": 90,
     "metadata": {},
     "output_type": "execute_result"
    }
   ],
   "source": [
    "at_first_sight_vector"
   ]
  },
  {
   "cell_type": "code",
   "execution_count": 91,
   "id": "hollow-observation",
   "metadata": {},
   "outputs": [
    {
     "data": {
      "text/plain": [
       "0.4245981"
      ]
     },
     "execution_count": 91,
     "metadata": {},
     "output_type": "execute_result"
    }
   ],
   "source": [
    "# mymine (나의 영화)와 at_first_sight를 내적하는 코드\n",
    "np.dot(mymine_vector, at_first_sight_vector)"
   ]
  },
  {
   "cell_type": "markdown",
   "id": "elementary-walnut",
   "metadata": {},
   "source": [
    "##### 다른 영화와의 선호도 체크"
   ]
  },
  {
   "cell_type": "code",
   "execution_count": 104,
   "id": "bizarre-donna",
   "metadata": {},
   "outputs": [
    {
     "data": {
      "text/plain": [
       "0.01447559"
      ]
     },
     "execution_count": 104,
     "metadata": {},
     "output_type": "execute_result"
    }
   ],
   "source": [
    "waiting_to_exhale = movie_to_idx[267]\n",
    "waiting_to_exhale_vector = als_model.item_factors[waiting_to_exhale]\n",
    "np.dot(mymine_vector, waiting_to_exhale_vector)"
   ]
  },
  {
   "cell_type": "code",
   "execution_count": null,
   "id": "efficient-oxford",
   "metadata": {},
   "outputs": [],
   "source": []
  },
  {
   "cell_type": "markdown",
   "id": "tracked-browse",
   "metadata": {},
   "source": [
    "## 6) 모델 활용"
   ]
  },
  {
   "cell_type": "markdown",
   "id": "cubic-parent",
   "metadata": {},
   "source": [
    "##### 좋아하는 영화와 비슷한 영화를 추천받아 보자"
   ]
  },
  {
   "cell_type": "code",
   "execution_count": 105,
   "id": "private-switch",
   "metadata": {},
   "outputs": [
    {
     "data": {
      "text/plain": [
       "[(2850, 1.0),\n",
       " (2605, 0.62121457),\n",
       " (3534, 0.58684105),\n",
       " (3201, 0.58593863),\n",
       " (3323, 0.581492),\n",
       " (2694, 0.5749208),\n",
       " (2604, 0.574896),\n",
       " (3246, 0.5742601),\n",
       " (3587, 0.5739141),\n",
       " (3324, 0.5720017),\n",
       " (3548, 0.57156795),\n",
       " (3391, 0.5699417),\n",
       " (3329, 0.56840795),\n",
       " (3407, 0.5676251),\n",
       " (3477, 0.56751007)]"
      ]
     },
     "execution_count": 105,
     "metadata": {},
     "output_type": "execute_result"
    }
   ],
   "source": [
    "favorite_movie = 3225\n",
    "movieid = movie_to_idx[favorite_movie]\n",
    "similar_movie = als_model.similar_items(movieid, N=15)\n",
    "similar_movie"
   ]
  },
  {
   "cell_type": "code",
   "execution_count": 107,
   "id": "running-migration",
   "metadata": {},
   "outputs": [
    {
     "data": {
      "text/plain": [
       "[3225,\n",
       " 3743,\n",
       " 3779,\n",
       " 2244,\n",
       " 2172,\n",
       " 3149,\n",
       " 3454,\n",
       " 744,\n",
       " 98,\n",
       " 120,\n",
       " 3472,\n",
       " 1364,\n",
       " 2823,\n",
       " 3322,\n",
       " 2592]"
      ]
     },
     "execution_count": 107,
     "metadata": {},
     "output_type": "execute_result"
    }
   ],
   "source": [
    "#artist_to_idx 를 뒤집어, index로부터 artist 이름을 얻는 dict를 생성합니다. \n",
    "idx_to_movie = {v:k for k,v in movie_to_idx.items()}\n",
    "[idx_to_movie[i[0]] for i in similar_movie]"
   ]
  },
  {
   "cell_type": "code",
   "execution_count": 108,
   "id": "endless-avatar",
   "metadata": {},
   "outputs": [
    {
     "name": "stdout",
     "output_type": "stream",
     "text": [
      "슝=3\n"
     ]
    }
   ],
   "source": [
    "def get_similar_movie(movie_name: str):\n",
    "    movieid = movie_to_idx[movie_name]\n",
    "    similar_movie = als_model.similar_items(movieid)\n",
    "    similar_movie = [idx_to_movie[i[0]] for i in similar_movie]\n",
    "    return similar_movie\n",
    "\n",
    "print(\"슝=3\")"
   ]
  },
  {
   "cell_type": "code",
   "execution_count": 127,
   "id": "limiting-morris",
   "metadata": {},
   "outputs": [],
   "source": [
    "def get_similar_title(movie_name: str):\n",
    "    movieid = movie_to_idx[movie_name]\n",
    "    similar_movie = als_model.similar_items(movieid)\n",
    "    similar_movie = [idx_to_movie[i[0]] for i in similar_movie]\n",
    "    \n",
    "    title_list = []\n",
    "    for t in similar_movie:\n",
    "        title = movies[movies['movie_id'] == t]['title']\n",
    "        title_list.append(title)\n",
    "    \n",
    "    return title_list"
   ]
  },
  {
   "cell_type": "code",
   "execution_count": 128,
   "id": "every-warrant",
   "metadata": {
    "collapsed": true
   },
   "outputs": [
    {
     "data": {
      "text/plain": [
       "[262    like water for chocolate (como agua para choco...\n",
       " Name: title, dtype: object,\n",
       " 2129    modulations (1998)\n",
       " Name: title, dtype: object,\n",
       " 3015    home page (1999)\n",
       " Name: title, dtype: object,\n",
       " 104    nobody loves me (keiner liebt mich) (1994)\n",
       " Name: title, dtype: object,\n",
       " 2375    24 7: twenty four seven (1997)\n",
       " Name: title, dtype: object,\n",
       " 2891    beefcake (1999)\n",
       " Name: title, dtype: object,\n",
       " 2500    among giants (1998)\n",
       " Name: title, dtype: object,\n",
       " 1056    macao (1952)\n",
       " Name: title, dtype: object,\n",
       " 3143    born to win (1971)\n",
       " Name: title, dtype: object,\n",
       " 597    wooden man's bride, the (wu kui) (1994)\n",
       " Name: title, dtype: object]"
      ]
     },
     "execution_count": 128,
     "metadata": {},
     "output_type": "execute_result"
    }
   ],
   "source": [
    "get_similar_title(265)"
   ]
  },
  {
   "cell_type": "code",
   "execution_count": 110,
   "id": "complex-teaching",
   "metadata": {},
   "outputs": [
    {
     "data": {
      "text/plain": [
       "[265, 2198, 3084, 106, 2444, 2960, 2569, 1070, 3212, 601]"
      ]
     },
     "execution_count": 110,
     "metadata": {},
     "output_type": "execute_result"
    }
   ],
   "source": [
    "get_similar_artist(265)"
   ]
  },
  {
   "cell_type": "code",
   "execution_count": 111,
   "id": "simple-texas",
   "metadata": {},
   "outputs": [
    {
     "data": {
      "text/plain": [
       "[956, 3656, 1070, 687, 3517, 3603, 1538, 1555, 1842, 1510]"
      ]
     },
     "execution_count": 111,
     "metadata": {},
     "output_type": "execute_result"
    }
   ],
   "source": [
    "get_similar_artist(956)"
   ]
  },
  {
   "cell_type": "code",
   "execution_count": null,
   "id": "cooperative-swedish",
   "metadata": {},
   "outputs": [],
   "source": []
  },
  {
   "cell_type": "markdown",
   "id": "nuclear-consolidation",
   "metadata": {},
   "source": [
    "##### 가장 좋아할 만한 영화들을 추천받아 보자"
   ]
  },
  {
   "cell_type": "code",
   "execution_count": 130,
   "id": "incident-roman",
   "metadata": {},
   "outputs": [
    {
     "data": {
      "text/plain": [
       "[(1450, 0.28673673),\n",
       " (2112, 0.26264033),\n",
       " (481, 0.25966895),\n",
       " (792, 0.25403032),\n",
       " (2381, 0.2394364),\n",
       " (1499, 0.23858199),\n",
       " (1232, 0.23141205),\n",
       " (1318, 0.23000002),\n",
       " (1786, 0.22144505),\n",
       " (829, 0.21832585),\n",
       " (1829, 0.21684149),\n",
       " (2410, 0.21481536),\n",
       " (403, 0.2037984),\n",
       " (1476, 0.20010921),\n",
       " (1635, 0.19846016),\n",
       " (1498, 0.19601408),\n",
       " (2631, 0.19277312),\n",
       " (1316, 0.19236106),\n",
       " (737, 0.19219315),\n",
       " (1214, 0.190284)]"
      ]
     },
     "execution_count": 130,
     "metadata": {},
     "output_type": "execute_result"
    }
   ],
   "source": [
    "user = user_to_idx[3041]\n",
    "# recommend에서는 user*item CSR Matrix를 받습니다.\n",
    "movie_recommended = als_model.recommend(user, csr_data, N=20, filter_already_liked_items=True)\n",
    "movie_recommended"
   ]
  },
  {
   "cell_type": "code",
   "execution_count": 137,
   "id": "outdoor-functionality",
   "metadata": {
    "scrolled": true
   },
   "outputs": [
    {
     "data": {
      "text/plain": [
       "[3497    big kahuna, the (2000)\n",
       " Name: title, dtype: object,\n",
       " 3108    next friday (1999)\n",
       " Name: title, dtype: object,\n",
       " 1421    kolya (1996)\n",
       " Name: title, dtype: object,\n",
       " 3729    what lies beneath (2000)\n",
       " Name: title, dtype: object,\n",
       " 2525    open your eyes (abre los ojos) (1997)\n",
       " Name: title, dtype: object,\n",
       " 3232    whole nine yards, the (2000)\n",
       " Name: title, dtype: object,\n",
       " 3515    breathless (1983)\n",
       " Name: title, dtype: object,\n",
       " 3879    requiem for a dream (2000)\n",
       " Name: title, dtype: object,\n",
       " 3678    jesus' son (1999)\n",
       " Name: title, dtype: object,\n",
       " 2364    civil action, a (1998)\n",
       " Name: title, dtype: object,\n",
       " 2822    happy, texas (1999)\n",
       " Name: title, dtype: object,\n",
       " 3529    hamlet (2000)\n",
       " Name: title, dtype: object,\n",
       " 1847    buffalo 66 (1998)\n",
       " Name: title, dtype: object,\n",
       " 3443    return to me (2000)\n",
       " Name: title, dtype: object,\n",
       " 3546    dinosaur (2000)\n",
       " Name: title, dtype: object,\n",
       " 1451    smilla's sense of snow (1997)\n",
       " Name: title, dtype: object,\n",
       " 2555    after life (1998)\n",
       " Name: title, dtype: object,\n",
       " 1160    double life of veronique, the (la double vie d...\n",
       " Name: title, dtype: object,\n",
       " 3060    sweet and lowdown (1999)\n",
       " Name: title, dtype: object,\n",
       " 2837    random hearts (1999)\n",
       " Name: title, dtype: object]"
      ]
     },
     "execution_count": 137,
     "metadata": {},
     "output_type": "execute_result"
    }
   ],
   "source": [
    "reco = [idx_to_movie[i[0]] for i in movie_recommended]\n",
    "reco\n",
    "\n",
    "title_list = []\n",
    "for t in reco:\n",
    "    title = movies[movies['movie_id'] == t]['title']\n",
    "    title_list.append(title)\n",
    "    \n",
    "title_list"
   ]
  },
  {
   "cell_type": "code",
   "execution_count": 132,
   "id": "running-kidney",
   "metadata": {},
   "outputs": [],
   "source": [
    "what = movie_to_idx[3566]\n",
    "explain = als_model.explain(user, csr_data, itemid=what)"
   ]
  },
  {
   "cell_type": "code",
   "execution_count": 133,
   "id": "failing-yacht",
   "metadata": {},
   "outputs": [
    {
     "data": {
      "text/plain": [
       "[(3538, 0.050232977013887195),\n",
       " (3298, 0.04727906288721813),\n",
       " (1735, 0.036729132697437855),\n",
       " (2769, 0.03216005943750341),\n",
       " (3513, 0.03098740422380484),\n",
       " (3535, 0.030976673054698055),\n",
       " (1258, 0.027607723669111288),\n",
       " (3534, 0.02705373394336351),\n",
       " (306, 0.02651259954719978),\n",
       " (2340, 0.026208190108208185)]"
      ]
     },
     "execution_count": 133,
     "metadata": {},
     "output_type": "execute_result"
    }
   ],
   "source": [
    "[(idx_to_movie[i[0]], i[1]) for i in explain[1]]"
   ]
  },
  {
   "cell_type": "code",
   "execution_count": null,
   "id": "eligible-manufacturer",
   "metadata": {},
   "outputs": [],
   "source": []
  },
  {
   "cell_type": "markdown",
   "id": "polyphonic-terrace",
   "metadata": {},
   "source": [
    "## Result of Project  \n",
    "\n",
    "현재 다양한 도메인과 현업에서 공통적으로 활용되고 있는 **추천시스템 알고리즘** 관련한 개념과 내용을 학습하였다.   \n",
    "역시나, 이미지 / 음성 등과 마찬가지로 텍스트가 아닌 **정수** 표현으로 데이터 전처리 및 정제를 해야 했고,   \n",
    "아무래도 사용자들의 데이터를 기반으로 이루어지는 것이다 보니, 명시적 / 암묵적 평가 기준이 존재했다.    \n",
    "\n",
    "이를 숫자로 표현한 후에는, Matrix로 표현을 하게 되고, 이를 내적하고 연산하여 유사도를 측정하고, 추천이 이루어지게 되는 알고리즘인 것 같다.   \n",
    "\n",
    "추천시스템은 아마도 내가 실생활에서 많이 사용하고 있고, 특정 회사의 **사용자**로써 나의 데이터도 다른 사용자의 추천을 위한 데이터로 활용이 되고 있을 것이다.   \n",
    "\n",
    "하지만 나의 경우, 시간, 장소, 기분, 분위기 등 다양한 주관적이고 변화가 많은 요소들에 의해 선택하게 되는 것들이 많은데, 이러한 일정하지 않은 데이터가 특정 사용자의 추천을 위한 유효한 데이터로 활용이 될 수 있을지 의문이 든다.    \n",
    "\n",
    "나도 추천을 받는 입장에서 '도대체 왜 나한테 이걸 추천해 주지?'라는 의문이 들 때가 있으니,   \n",
    "어느 누군가도 그럴 수도 있겠다.    \n",
    "\n",
    "다양한 요소들이 엮여있고, 지극히 개인적이고 주관적인 요소의 데이터를 활용한 추천시스템에 대하여 관심이 생기는 workshop이었다."
   ]
  },
  {
   "cell_type": "markdown",
   "id": "broadband-coordination",
   "metadata": {},
   "source": [
    "## Good  \n",
    "\n",
    "데이터를 정제하여, 새로운 분석 단계를 거쳤다.   \n",
    "새로운 연산(?) 방법인 Matrix Fatorization / CSR Matrix 를 활용하여 연산이 가능했다.   \n",
    "아주 유용한 **implicit** 패키지를 활용하여 추천시스템 모델을 간단하게 생성할 수 있었다."
   ]
  },
  {
   "cell_type": "markdown",
   "id": "prospective-victory",
   "metadata": {},
   "source": [
    "## Difficulties / Challenges\n",
    "\n",
    "movie_id 와 title을 Dictionary 형태로 만드는 전처리 단계를 거치치 않아,   \n",
    "후작업으로 변경해주는 과정을 추가했더니, 형태가 이상해지는 부분이 생겼다.   \n",
    "\n",
    "이를 전처리 과정에서 merge한 DataFrame을 활용하여, Dictionary를 제대로 생성하여, 바로 movie_id와 title을 매칭해주는 단계를 거쳐서 수정해야 겠다.   \n",
    "\n",
    "과정은 어렵지 않았지만, 추천 시스템이 담고 있는 개념들에 대한 깊은 학습이 더 필요할 것 같다."
   ]
  }
 ],
 "metadata": {
  "kernelspec": {
   "display_name": "aiffel",
   "language": "python",
   "name": "aiffel"
  },
  "language_info": {
   "codemirror_mode": {
    "name": "ipython",
    "version": 3
   },
   "file_extension": ".py",
   "mimetype": "text/x-python",
   "name": "python",
   "nbconvert_exporter": "python",
   "pygments_lexer": "ipython3",
   "version": "3.7.9"
  }
 },
 "nbformat": 4,
 "nbformat_minor": 5
}
