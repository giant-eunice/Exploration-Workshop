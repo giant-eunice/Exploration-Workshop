{
 "cells": [
  {
   "cell_type": "markdown",
   "id": "three-freight",
   "metadata": {},
   "source": [
    "# Exploration_SSAC 11 News Text Abstractive Summarization Project\n",
    "\n",
    "Keywords : Text Summarization, Extractive/Abstractive Summarization, seq2seq(RNN Network), LSTM/Vanilla-RNN, SOS-EOS Token, Attention Mechanism, Encoder-Decoder "
   ]
  },
  {
   "cell_type": "markdown",
   "id": "normal-round",
   "metadata": {},
   "source": [
    "#### Text Summarization    \n",
    "텍스트의 전후 정보 손실 발생이 최소화되게 정보를 압축하여야 하며, 문서 원문이 담고 있는 정보를 최대한 보존하고 있어야 함.   \n",
    "\n",
    "#### Extractive Summarization    \n",
    "원문에서 그대로 문장을 추출해서 요약하는 방식. 이 방식은 문장 원문에서 중요도가 높은 문장일 수 있지만 추출한 문장끼리 연결이 어색할 수 있음.   \n",
    "\n",
    "#### Abstractive Summarization     \n",
    "원문으로부터 내용이 요약된 새로운 문장을 생성하는 방식.\n",
    "\n",
    "#### Seq2Seq (Sequence-to-Sequence)     \n",
    "첫번째 인코더로 데이터를 입력하면 그 데이터는 하나의 고정된 벡터로 변환하게 되며, 그 변환된 벡터는 문맥 정보를 가지고 있게 됨.(Context Vector) 이 문맥 정보를 가지고 있는 벡터를 계속 layer를 거치면서 요약 진행.\n",
    "\n",
    "##### SOS-EOS Token     \n",
    "seq2seq 구조에서 한 데이터의 시작과 종료를 알려주기 위해 앞/뒤에 토큰을 추가하여 전처리 과정을 거쳐야 함.\n",
    "\n",
    "##### Attention Mechanism    \n",
    "기존의 RNN 계열의 네트워크 구조는 네트워크 상의 마지막 time step의 hidden state의 정보만 가중합으로 계산되어 입력 시퀀스의 많은 정보가 손실이 되게 되는데,    \n",
    "이를 보완하기 위해 인코더의 컨텍스트 벡터에 각 state의 가중합을 고려하게 된다."
   ]
  },
  {
   "cell_type": "markdown",
   "id": "clinical-compiler",
   "metadata": {},
   "source": [
    "##### Process of Project        \n",
    "Newssummarymore.csv :: 뉴스 기사 데이터 요약    \n",
    "\n",
    "1) 데이터 수집/로드    \n",
    "2) 데이터 전처리 및 분석(추상적 요약)   \n",
    "3) 어텐션 메커니즘 적용(추상적 요약)    \n",
    "4) 실제 결과와 요약문 비교    \n",
    "5) Summa을 이용해서 추출적 요약   "
   ]
  },
  {
   "cell_type": "markdown",
   "id": "advanced-length",
   "metadata": {},
   "source": [
    "##### 필요한 모듈 import"
   ]
  },
  {
   "cell_type": "code",
   "execution_count": 1,
   "id": "announced-tunisia",
   "metadata": {},
   "outputs": [
    {
     "name": "stderr",
     "output_type": "stream",
     "text": [
      "[nltk_data] Downloading package stopwords to /home/ssac22/nltk_data...\n",
      "[nltk_data]   Package stopwords is already up-to-date!\n"
     ]
    }
   ],
   "source": [
    "import nltk #Natural Language ToolKit\n",
    "nltk.download('stopwords')\n",
    "\n",
    "import numpy as np\n",
    "import pandas as pd\n",
    "import os\n",
    "import re\n",
    "import matplotlib.pyplot as plt\n",
    "from nltk.corpus import stopwords\n",
    "from bs4 import BeautifulSoup \n",
    "from tensorflow.keras.preprocessing.text import Tokenizer \n",
    "from tensorflow.keras.preprocessing.sequence import pad_sequences\n",
    "import urllib.request"
   ]
  },
  {
   "cell_type": "markdown",
   "id": "extreme-flashing",
   "metadata": {},
   "source": [
    "## 1) 데이터 수집/로드"
   ]
  },
  {
   "cell_type": "code",
   "execution_count": 2,
   "id": "mature-ferry",
   "metadata": {},
   "outputs": [],
   "source": [
    "urllib.request.urlretrieve(\"https://raw.githubusercontent.com/sunnysai12345/News_Summary/master/news_summary_more.csv\", filename=\"news_summary_more.csv\")\n",
    "data = pd.read_csv('news_summary_more.csv', encoding='iso-8859-1')"
   ]
  },
  {
   "cell_type": "code",
   "execution_count": 3,
   "id": "gothic-scheme",
   "metadata": {},
   "outputs": [
    {
     "data": {
      "text/html": [
       "<div>\n",
       "<style scoped>\n",
       "    .dataframe tbody tr th:only-of-type {\n",
       "        vertical-align: middle;\n",
       "    }\n",
       "\n",
       "    .dataframe tbody tr th {\n",
       "        vertical-align: top;\n",
       "    }\n",
       "\n",
       "    .dataframe thead th {\n",
       "        text-align: right;\n",
       "    }\n",
       "</style>\n",
       "<table border=\"1\" class=\"dataframe\">\n",
       "  <thead>\n",
       "    <tr style=\"text-align: right;\">\n",
       "      <th></th>\n",
       "      <th>headlines</th>\n",
       "      <th>text</th>\n",
       "    </tr>\n",
       "  </thead>\n",
       "  <tbody>\n",
       "    <tr>\n",
       "      <th>95655</th>\n",
       "      <td>Rickshaw puller sexually assaulted, murdered i...</td>\n",
       "      <td>A 40-year-old rickshaw puller died after he wa...</td>\n",
       "    </tr>\n",
       "    <tr>\n",
       "      <th>79572</th>\n",
       "      <td>Ram Nath Kovind 1st President from UP; Know mo...</td>\n",
       "      <td>Elected India's 14th President, Ram Nath Kovin...</td>\n",
       "    </tr>\n",
       "    <tr>\n",
       "      <th>48432</th>\n",
       "      <td>Users misspelling 'Bitcoin' to bypass FB ban o...</td>\n",
       "      <td>Users on Facebook have been found advertising ...</td>\n",
       "    </tr>\n",
       "    <tr>\n",
       "      <th>39935</th>\n",
       "      <td>Rajeev Misra may succeed Masayoshi Son as Soft...</td>\n",
       "      <td>SoftBank Vision Fund's CEO Rajeev Misra, who h...</td>\n",
       "    </tr>\n",
       "    <tr>\n",
       "      <th>65398</th>\n",
       "      <td>Militants who surrender will be accepted: J&amp;K ...</td>\n",
       "      <td>Jammu and Kashmir Police on Monday said that t...</td>\n",
       "    </tr>\n",
       "    <tr>\n",
       "      <th>70708</th>\n",
       "      <td>Haryana begins probe into illegal abortions at...</td>\n",
       "      <td>The Haryana government has initiated a probe t...</td>\n",
       "    </tr>\n",
       "    <tr>\n",
       "      <th>79330</th>\n",
       "      <td>Watch meant for Putin fetches Ã¢ÂÂ¹7 crore in...</td>\n",
       "      <td>A Patek Philippe timepiece allegedly meant for...</td>\n",
       "    </tr>\n",
       "    <tr>\n",
       "      <th>86136</th>\n",
       "      <td>Trump Hotels partners with Chawla Hotels for n...</td>\n",
       "      <td>The Trump Organisation is partnering with an I...</td>\n",
       "    </tr>\n",
       "    <tr>\n",
       "      <th>23839</th>\n",
       "      <td>St Stephen's College cancels Mamata's event wi...</td>\n",
       "      <td>Delhi University's St Stephen's College has ca...</td>\n",
       "    </tr>\n",
       "    <tr>\n",
       "      <th>600</th>\n",
       "      <td>Humbled by this recognition: Actor Mohanlal on...</td>\n",
       "      <td>Malayalam actor Mohanlal, who was conferred wi...</td>\n",
       "    </tr>\n",
       "  </tbody>\n",
       "</table>\n",
       "</div>"
      ],
      "text/plain": [
       "                                               headlines  \\\n",
       "95655  Rickshaw puller sexually assaulted, murdered i...   \n",
       "79572  Ram Nath Kovind 1st President from UP; Know mo...   \n",
       "48432  Users misspelling 'Bitcoin' to bypass FB ban o...   \n",
       "39935  Rajeev Misra may succeed Masayoshi Son as Soft...   \n",
       "65398  Militants who surrender will be accepted: J&K ...   \n",
       "70708  Haryana begins probe into illegal abortions at...   \n",
       "79330  Watch meant for Putin fetches Ã¢ÂÂ¹7 crore in...   \n",
       "86136  Trump Hotels partners with Chawla Hotels for n...   \n",
       "23839  St Stephen's College cancels Mamata's event wi...   \n",
       "600    Humbled by this recognition: Actor Mohanlal on...   \n",
       "\n",
       "                                                    text  \n",
       "95655  A 40-year-old rickshaw puller died after he wa...  \n",
       "79572  Elected India's 14th President, Ram Nath Kovin...  \n",
       "48432  Users on Facebook have been found advertising ...  \n",
       "39935  SoftBank Vision Fund's CEO Rajeev Misra, who h...  \n",
       "65398  Jammu and Kashmir Police on Monday said that t...  \n",
       "70708  The Haryana government has initiated a probe t...  \n",
       "79330  A Patek Philippe timepiece allegedly meant for...  \n",
       "86136  The Trump Organisation is partnering with an I...  \n",
       "23839  Delhi University's St Stephen's College has ca...  \n",
       "600    Malayalam actor Mohanlal, who was conferred wi...  "
      ]
     },
     "execution_count": 3,
     "metadata": {},
     "output_type": "execute_result"
    }
   ],
   "source": [
    "data.sample(10)"
   ]
  },
  {
   "cell_type": "code",
   "execution_count": 66,
   "id": "affiliated-officer",
   "metadata": {},
   "outputs": [
    {
     "data": {
      "text/plain": [
       "98360"
      ]
     },
     "execution_count": 66,
     "metadata": {},
     "output_type": "execute_result"
    }
   ],
   "source": [
    "len(data)"
   ]
  },
  {
   "cell_type": "code",
   "execution_count": 4,
   "id": "metric-module",
   "metadata": {},
   "outputs": [
    {
     "data": {
      "text/plain": [
       "Index(['headlines', 'text'], dtype='object')"
      ]
     },
     "execution_count": 4,
     "metadata": {},
     "output_type": "execute_result"
    }
   ],
   "source": [
    "# text :: 본문, headlines :: 이미 요약된 데이터(제목)\n",
    "data.columns"
   ]
  },
  {
   "cell_type": "markdown",
   "id": "portuguese-corporation",
   "metadata": {},
   "source": [
    "## 2) 데이터 전처리 및 분석 (추상적 요약)     \n",
    "\n",
    "* 텍스트 정규화 및 정제    \n",
    "* 불용어 제거 유무 판단"
   ]
  },
  {
   "cell_type": "code",
   "execution_count": 5,
   "id": "found-headquarters",
   "metadata": {},
   "outputs": [
    {
     "name": "stdout",
     "output_type": "stream",
     "text": [
      "Headlines 열에서 중복을 배제한 유일한 샘플의 수 : 98280\n",
      "Text 열에서 중복을 배제한 유일한 샘플의 수 : 98360\n"
     ]
    }
   ],
   "source": [
    "print('Headlines 열에서 중복을 배제한 유일한 샘플의 수 :', data['headlines'].nunique())\n",
    "print('Text 열에서 중복을 배제한 유일한 샘플의 수 :', data['text'].nunique())"
   ]
  },
  {
   "cell_type": "markdown",
   "id": "systematic-toyota",
   "metadata": {},
   "source": [
    "* 두 컬럼의 중복을 제외한 데이터의 수가 다른 것을 확인 --> 중복을 제거해주고 데이터 수를 맞춰주는 과정 필요"
   ]
  },
  {
   "cell_type": "code",
   "execution_count": 6,
   "id": "adaptive-buffer",
   "metadata": {},
   "outputs": [
    {
     "name": "stdout",
     "output_type": "stream",
     "text": [
      "전체 샘플수 : 98360\n"
     ]
    }
   ],
   "source": [
    "data.drop_duplicates(subset = ['text'], inplace = True)\n",
    "print('전체 샘플수 :',(len(data)))"
   ]
  },
  {
   "cell_type": "markdown",
   "id": "breeding-sentence",
   "metadata": {},
   "source": [
    "* text 컬럼 데이터에 중복되는 데이터가 있다는 의미이기 때문에 text 기준으로 중복 제거"
   ]
  },
  {
   "cell_type": "code",
   "execution_count": 7,
   "id": "scenic-employer",
   "metadata": {},
   "outputs": [
    {
     "name": "stdout",
     "output_type": "stream",
     "text": [
      "headlines    0\n",
      "text         0\n",
      "dtype: int64\n"
     ]
    }
   ],
   "source": [
    "print(data.isnull().sum())"
   ]
  },
  {
   "cell_type": "markdown",
   "id": "acknowledged-cleveland",
   "metadata": {},
   "source": [
    "* 중복을 제거하고, null값을 확인하여 데이터 정제 "
   ]
  },
  {
   "cell_type": "code",
   "execution_count": 8,
   "id": "configured-reason",
   "metadata": {},
   "outputs": [
    {
     "data": {
      "text/html": [
       "<div>\n",
       "<style scoped>\n",
       "    .dataframe tbody tr th:only-of-type {\n",
       "        vertical-align: middle;\n",
       "    }\n",
       "\n",
       "    .dataframe tbody tr th {\n",
       "        vertical-align: top;\n",
       "    }\n",
       "\n",
       "    .dataframe thead th {\n",
       "        text-align: right;\n",
       "    }\n",
       "</style>\n",
       "<table border=\"1\" class=\"dataframe\">\n",
       "  <thead>\n",
       "    <tr style=\"text-align: right;\">\n",
       "      <th></th>\n",
       "      <th>headlines</th>\n",
       "      <th>text</th>\n",
       "    </tr>\n",
       "  </thead>\n",
       "  <tbody>\n",
       "    <tr>\n",
       "      <th>0</th>\n",
       "      <td>upGrad learner switches to career in ML &amp; Al w...</td>\n",
       "      <td>Saurav Kant, an alumnus of upGrad and IIIT-B's...</td>\n",
       "    </tr>\n",
       "    <tr>\n",
       "      <th>1</th>\n",
       "      <td>Delhi techie wins free food from Swiggy for on...</td>\n",
       "      <td>Kunal Shah's credit card bill payment platform...</td>\n",
       "    </tr>\n",
       "    <tr>\n",
       "      <th>2</th>\n",
       "      <td>New Zealand end Rohit Sharma-led India's 12-ma...</td>\n",
       "      <td>New Zealand defeated India by 8 wickets in the...</td>\n",
       "    </tr>\n",
       "    <tr>\n",
       "      <th>3</th>\n",
       "      <td>Aegon life iTerm insurance plan helps customer...</td>\n",
       "      <td>With Aegon Life iTerm Insurance plan, customer...</td>\n",
       "    </tr>\n",
       "    <tr>\n",
       "      <th>4</th>\n",
       "      <td>Have known Hirani for yrs, what if MeToo claim...</td>\n",
       "      <td>Speaking about the sexual harassment allegatio...</td>\n",
       "    </tr>\n",
       "  </tbody>\n",
       "</table>\n",
       "</div>"
      ],
      "text/plain": [
       "                                           headlines  \\\n",
       "0  upGrad learner switches to career in ML & Al w...   \n",
       "1  Delhi techie wins free food from Swiggy for on...   \n",
       "2  New Zealand end Rohit Sharma-led India's 12-ma...   \n",
       "3  Aegon life iTerm insurance plan helps customer...   \n",
       "4  Have known Hirani for yrs, what if MeToo claim...   \n",
       "\n",
       "                                                text  \n",
       "0  Saurav Kant, an alumnus of upGrad and IIIT-B's...  \n",
       "1  Kunal Shah's credit card bill payment platform...  \n",
       "2  New Zealand defeated India by 8 wickets in the...  \n",
       "3  With Aegon Life iTerm Insurance plan, customer...  \n",
       "4  Speaking about the sexual harassment allegatio...  "
      ]
     },
     "execution_count": 8,
     "metadata": {},
     "output_type": "execute_result"
    }
   ],
   "source": [
    "data.head()"
   ]
  },
  {
   "cell_type": "markdown",
   "id": "cardiac-circle",
   "metadata": {},
   "source": [
    "#### 텍스트 정규화 / 불용어 제거"
   ]
  },
  {
   "cell_type": "code",
   "execution_count": 9,
   "id": "deadly-advertising",
   "metadata": {},
   "outputs": [
    {
     "name": "stdout",
     "output_type": "stream",
     "text": [
      "정규화 사전의 수:  120\n"
     ]
    }
   ],
   "source": [
    "contractions = {\"ain't\": \"is not\", \"aren't\": \"are not\",\"can't\": \"cannot\", \"'cause\": \"because\", \"could've\": \"could have\", \"couldn't\": \"could not\",\n",
    "                           \"didn't\": \"did not\",  \"doesn't\": \"does not\", \"don't\": \"do not\", \"hadn't\": \"had not\", \"hasn't\": \"has not\", \"haven't\": \"have not\",\n",
    "                           \"he'd\": \"he would\",\"he'll\": \"he will\", \"he's\": \"he is\", \"how'd\": \"how did\", \"how'd'y\": \"how do you\", \"how'll\": \"how will\", \"how's\": \"how is\",\n",
    "                           \"I'd\": \"I would\", \"I'd've\": \"I would have\", \"I'll\": \"I will\", \"I'll've\": \"I will have\",\"I'm\": \"I am\", \"I've\": \"I have\", \"i'd\": \"i would\",\n",
    "                           \"i'd've\": \"i would have\", \"i'll\": \"i will\",  \"i'll've\": \"i will have\",\"i'm\": \"i am\", \"i've\": \"i have\", \"isn't\": \"is not\", \"it'd\": \"it would\",\n",
    "                           \"it'd've\": \"it would have\", \"it'll\": \"it will\", \"it'll've\": \"it will have\",\"it's\": \"it is\", \"let's\": \"let us\", \"ma'am\": \"madam\",\n",
    "                           \"mayn't\": \"may not\", \"might've\": \"might have\",\"mightn't\": \"might not\",\"mightn't've\": \"might not have\", \"must've\": \"must have\",\n",
    "                           \"mustn't\": \"must not\", \"mustn't've\": \"must not have\", \"needn't\": \"need not\", \"needn't've\": \"need not have\",\"o'clock\": \"of the clock\",\n",
    "                           \"oughtn't\": \"ought not\", \"oughtn't've\": \"ought not have\", \"shan't\": \"shall not\", \"sha'n't\": \"shall not\", \"shan't've\": \"shall not have\",\n",
    "                           \"she'd\": \"she would\", \"she'd've\": \"she would have\", \"she'll\": \"she will\", \"she'll've\": \"she will have\", \"she's\": \"she is\",\n",
    "                           \"should've\": \"should have\", \"shouldn't\": \"should not\", \"shouldn't've\": \"should not have\", \"so've\": \"so have\",\"so's\": \"so as\",\n",
    "                           \"this's\": \"this is\",\"that'd\": \"that would\", \"that'd've\": \"that would have\", \"that's\": \"that is\", \"there'd\": \"there would\",\n",
    "                           \"there'd've\": \"there would have\", \"there's\": \"there is\", \"here's\": \"here is\",\"they'd\": \"they would\", \"they'd've\": \"they would have\",\n",
    "                           \"they'll\": \"they will\", \"they'll've\": \"they will have\", \"they're\": \"they are\", \"they've\": \"they have\", \"to've\": \"to have\",\n",
    "                           \"wasn't\": \"was not\", \"we'd\": \"we would\", \"we'd've\": \"we would have\", \"we'll\": \"we will\", \"we'll've\": \"we will have\", \"we're\": \"we are\",\n",
    "                           \"we've\": \"we have\", \"weren't\": \"were not\", \"what'll\": \"what will\", \"what'll've\": \"what will have\", \"what're\": \"what are\",\n",
    "                           \"what's\": \"what is\", \"what've\": \"what have\", \"when's\": \"when is\", \"when've\": \"when have\", \"where'd\": \"where did\", \"where's\": \"where is\",\n",
    "                           \"where've\": \"where have\", \"who'll\": \"who will\", \"who'll've\": \"who will have\", \"who's\": \"who is\", \"who've\": \"who have\",\n",
    "                           \"why's\": \"why is\", \"why've\": \"why have\", \"will've\": \"will have\", \"won't\": \"will not\", \"won't've\": \"will not have\",\n",
    "                           \"would've\": \"would have\", \"wouldn't\": \"would not\", \"wouldn't've\": \"would not have\", \"y'all\": \"you all\",\n",
    "                           \"y'all'd\": \"you all would\",\"y'all'd've\": \"you all would have\",\"y'all're\": \"you all are\",\"y'all've\": \"you all have\",\n",
    "                           \"you'd\": \"you would\", \"you'd've\": \"you would have\", \"you'll\": \"you will\", \"you'll've\": \"you will have\",\n",
    "                           \"you're\": \"you are\", \"you've\": \"you have\"}\n",
    "\n",
    "print(\"정규화 사전의 수: \",len(contractions))"
   ]
  },
  {
   "cell_type": "code",
   "execution_count": 10,
   "id": "married-recovery",
   "metadata": {
    "scrolled": true
   },
   "outputs": [
    {
     "name": "stdout",
     "output_type": "stream",
     "text": [
      "불용어 개수 : 179\n",
      "['i', 'me', 'my', 'myself', 'we', 'our', 'ours', 'ourselves', 'you', \"you're\", \"you've\", \"you'll\", \"you'd\", 'your', 'yours', 'yourself', 'yourselves', 'he', 'him', 'his', 'himself', 'she', \"she's\", 'her', 'hers', 'herself', 'it', \"it's\", 'its', 'itself', 'they', 'them', 'their', 'theirs', 'themselves', 'what', 'which', 'who', 'whom', 'this', 'that', \"that'll\", 'these', 'those', 'am', 'is', 'are', 'was', 'were', 'be', 'been', 'being', 'have', 'has', 'had', 'having', 'do', 'does', 'did', 'doing', 'a', 'an', 'the', 'and', 'but', 'if', 'or', 'because', 'as', 'until', 'while', 'of', 'at', 'by', 'for', 'with', 'about', 'against', 'between', 'into', 'through', 'during', 'before', 'after', 'above', 'below', 'to', 'from', 'up', 'down', 'in', 'out', 'on', 'off', 'over', 'under', 'again', 'further', 'then', 'once', 'here', 'there', 'when', 'where', 'why', 'how', 'all', 'any', 'both', 'each', 'few', 'more', 'most', 'other', 'some', 'such', 'no', 'nor', 'not', 'only', 'own', 'same', 'so', 'than', 'too', 'very', 's', 't', 'can', 'will', 'just', 'don', \"don't\", 'should', \"should've\", 'now', 'd', 'll', 'm', 'o', 're', 've', 'y', 'ain', 'aren', \"aren't\", 'couldn', \"couldn't\", 'didn', \"didn't\", 'doesn', \"doesn't\", 'hadn', \"hadn't\", 'hasn', \"hasn't\", 'haven', \"haven't\", 'isn', \"isn't\", 'ma', 'mightn', \"mightn't\", 'mustn', \"mustn't\", 'needn', \"needn't\", 'shan', \"shan't\", 'shouldn', \"shouldn't\", 'wasn', \"wasn't\", 'weren', \"weren't\", 'won', \"won't\", 'wouldn', \"wouldn't\"]\n"
     ]
    }
   ],
   "source": [
    "print('불용어 개수 :', len(stopwords.words('english') ))\n",
    "print(stopwords.words('english'))"
   ]
  },
  {
   "cell_type": "code",
   "execution_count": 11,
   "id": "numerous-steps",
   "metadata": {},
   "outputs": [
    {
     "data": {
      "text/html": [
       "<div>\n",
       "<style scoped>\n",
       "    .dataframe tbody tr th:only-of-type {\n",
       "        vertical-align: middle;\n",
       "    }\n",
       "\n",
       "    .dataframe tbody tr th {\n",
       "        vertical-align: top;\n",
       "    }\n",
       "\n",
       "    .dataframe thead th {\n",
       "        text-align: right;\n",
       "    }\n",
       "</style>\n",
       "<table border=\"1\" class=\"dataframe\">\n",
       "  <thead>\n",
       "    <tr style=\"text-align: right;\">\n",
       "      <th></th>\n",
       "      <th>headlines</th>\n",
       "      <th>text</th>\n",
       "    </tr>\n",
       "  </thead>\n",
       "  <tbody>\n",
       "    <tr>\n",
       "      <th>60386</th>\n",
       "      <td>BarÃÂ§a go 10 points clear of Real after goal...</td>\n",
       "      <td>Cristiano Ronaldo extended his run without a g...</td>\n",
       "    </tr>\n",
       "    <tr>\n",
       "      <th>42660</th>\n",
       "      <td>US mom arrested after video shows baby smoking...</td>\n",
       "      <td>Police in US' North Carolina arrested a 20-yea...</td>\n",
       "    </tr>\n",
       "    <tr>\n",
       "      <th>547</th>\n",
       "      <td>Mom could say things and get away with it, I c...</td>\n",
       "      <td>Actress Sara Ali Khan, while talking about how...</td>\n",
       "    </tr>\n",
       "    <tr>\n",
       "      <th>92561</th>\n",
       "      <td>Don't take law into your hands: Adityanath tel...</td>\n",
       "      <td>Uttar Pradesh CM Yogi Adityanath on Thursday s...</td>\n",
       "    </tr>\n",
       "    <tr>\n",
       "      <th>96815</th>\n",
       "      <td>Jawan killed in accident saves lives by donati...</td>\n",
       "      <td>Twenty-two-year-old jawan Roshan Kumar, who pa...</td>\n",
       "    </tr>\n",
       "    <tr>\n",
       "      <th>32672</th>\n",
       "      <td>BJP caused biggest damage to Hinduism: Dwarka ...</td>\n",
       "      <td>Shankaracharya Swaroopanand Saraswati of Dwark...</td>\n",
       "    </tr>\n",
       "    <tr>\n",
       "      <th>89641</th>\n",
       "      <td>How much salary do the CEOs of India's top sta...</td>\n",
       "      <td>Among India's top startups' CEOs, Paytm's Vija...</td>\n",
       "    </tr>\n",
       "    <tr>\n",
       "      <th>96519</th>\n",
       "      <td>Air India staffer as equally at fault as Gaikw...</td>\n",
       "      <td>Congress leaders has defended Shiv Sena MP Rav...</td>\n",
       "    </tr>\n",
       "    <tr>\n",
       "      <th>12624</th>\n",
       "      <td>SC refuses urgent hearing of PIL for FIRs in #...</td>\n",
       "      <td>The Supreme Court has declined urgent hearing ...</td>\n",
       "    </tr>\n",
       "    <tr>\n",
       "      <th>36599</th>\n",
       "      <td>Don't know why India obsessed with impeachment...</td>\n",
       "      <td>Justice Chelameswar, one of the Supreme Court ...</td>\n",
       "    </tr>\n",
       "  </tbody>\n",
       "</table>\n",
       "</div>"
      ],
      "text/plain": [
       "                                               headlines  \\\n",
       "60386  BarÃÂ§a go 10 points clear of Real after goal...   \n",
       "42660  US mom arrested after video shows baby smoking...   \n",
       "547    Mom could say things and get away with it, I c...   \n",
       "92561  Don't take law into your hands: Adityanath tel...   \n",
       "96815  Jawan killed in accident saves lives by donati...   \n",
       "32672  BJP caused biggest damage to Hinduism: Dwarka ...   \n",
       "89641  How much salary do the CEOs of India's top sta...   \n",
       "96519  Air India staffer as equally at fault as Gaikw...   \n",
       "12624  SC refuses urgent hearing of PIL for FIRs in #...   \n",
       "36599  Don't know why India obsessed with impeachment...   \n",
       "\n",
       "                                                    text  \n",
       "60386  Cristiano Ronaldo extended his run without a g...  \n",
       "42660  Police in US' North Carolina arrested a 20-yea...  \n",
       "547    Actress Sara Ali Khan, while talking about how...  \n",
       "92561  Uttar Pradesh CM Yogi Adityanath on Thursday s...  \n",
       "96815  Twenty-two-year-old jawan Roshan Kumar, who pa...  \n",
       "32672  Shankaracharya Swaroopanand Saraswati of Dwark...  \n",
       "89641  Among India's top startups' CEOs, Paytm's Vija...  \n",
       "96519  Congress leaders has defended Shiv Sena MP Rav...  \n",
       "12624  The Supreme Court has declined urgent hearing ...  \n",
       "36599  Justice Chelameswar, one of the Supreme Court ...  "
      ]
     },
     "execution_count": 11,
     "metadata": {},
     "output_type": "execute_result"
    }
   ],
   "source": [
    "data.sample(10)"
   ]
  },
  {
   "cell_type": "code",
   "execution_count": 12,
   "id": "arabic-conditions",
   "metadata": {},
   "outputs": [],
   "source": [
    "#데이터 전처리 함수\n",
    "def preprocess_sentence(sentence, remove_stopwords=True):\n",
    "    sentence = sentence.lower() # 텍스트 소문자화\n",
    "    sentence = BeautifulSoup(sentence, \"lxml\").text # <br />, <a href = ...> 등의 html 태그 제거\n",
    "    sentence = re.sub(r'\\([^)]*\\)', '', sentence) # 괄호로 닫힌 문자열 (...) 제거 Ex) my husband (and myself!) for => my husband for\n",
    "    sentence = re.sub('\"','', sentence) # 쌍따옴표 \" 제거\n",
    "    sentence = ' '.join([contractions[t] if t in contractions else t for t in sentence.split(\" \")]) # 약어 정규화\n",
    "    sentence = re.sub(r\"'s\\b\",\"\",sentence) # 소유격 제거. Ex) roland's -> roland\n",
    "    sentence = re.sub(\"[^a-zA-Z]\", \" \", sentence) # 영어 외 문자(숫자, 특수문자 등) 공백으로 변환\n",
    "    sentence = re.sub('[m]{2,}', 'mm', sentence) # m이 3개 이상이면 2개로 변경. Ex) ummmmmmm yeah -> umm yeah\n",
    "    \n",
    "    # 불용어 제거 (Text)\n",
    "    if remove_stopwords:\n",
    "        tokens = ' '.join(word for word in sentence.split() if not word in stopwords.words('english') if len(word) > 1)\n",
    "    # 불용어 미제거 (headlines)\n",
    "    else:\n",
    "        tokens = ' '.join(word for word in sentence.split() if len(word) > 1)\n",
    "    return tokens"
   ]
  },
  {
   "cell_type": "markdown",
   "id": "correct-april",
   "metadata": {},
   "source": [
    "* 비교적 짧은 headlines 데이터는 불용어를 제거하지 않고 사용      \n",
    "* News는 Text를 요약하여 headlines를 작성하기 때문에 비교적 headlines가 짧을 것이다. 때문에, headlines에 관련된 불용어는 제거하지 않고 학습에 활용할 것"
   ]
  },
  {
   "cell_type": "markdown",
   "id": "advance-messaging",
   "metadata": {},
   "source": [
    "##### Text 컬럼의 경우 데이터 전처리 + 불용어 제거 실행"
   ]
  },
  {
   "cell_type": "code",
   "execution_count": 14,
   "id": "golden-vacuum",
   "metadata": {},
   "outputs": [
    {
     "data": {
      "text/plain": [
       "['saurav kant alumnus upgrad iiit pg program machine learning artificial intelligence sr systems engineer infosys almost years work experience program upgrad degree career support helped transition data scientist tech mahindra salary hike upgrad online power learning powered lakh careers',\n",
       " 'kunal shah credit card bill payment platform cred gave users chance win free food swiggy one year pranav kaushik delhi techie bagged reward spending cred coins users get one cred coin per rupee bill paid used avail rewards brands like ixigo bookmyshow ubereats cult fit',\n",
       " 'new zealand defeated india wickets fourth odi hamilton thursday win first match five match odi series india lost international match rohit sharma captaincy consecutive victories dating back march match witnessed india getting seventh lowest total odi cricket history',\n",
       " 'aegon life iterm insurance plan customers enjoy tax benefits premiums paid save taxes plan provides life cover age years also customers options insure critical illnesses disability accidental death benefit rider life cover age years',\n",
       " 'speaking sexual harassment allegations rajkumar hirani sonam kapoor said known hirani many years true metoo movement get derailed metoo movement always believe woman case need reserve judgment added hirani accused assistant worked sanju']"
      ]
     },
     "execution_count": 14,
     "metadata": {},
     "output_type": "execute_result"
    }
   ],
   "source": [
    "clean_text = []\n",
    "\n",
    "# 전체 Text 데이터에 대한 전처리\n",
    "for s in data['text']:\n",
    "    clean_text.append(preprocess_sentence(s))\n",
    "\n",
    "# 전처리 후 출력\n",
    "clean_text[:5]"
   ]
  },
  {
   "cell_type": "markdown",
   "id": "ecological-earth",
   "metadata": {},
   "source": [
    "##### Headlines 컬럼의 경우 데이터 전처리 + 불용어 제거 X"
   ]
  },
  {
   "cell_type": "code",
   "execution_count": 17,
   "id": "periodic-equation",
   "metadata": {},
   "outputs": [
    {
     "data": {
      "text/plain": [
       "['upgrad learner switches to career in ml al with salary hike',\n",
       " 'delhi techie wins free food from swiggy for one year on cred',\n",
       " 'new zealand end rohit sharma led india match winning streak',\n",
       " 'aegon life iterm insurance plan helps customers save tax',\n",
       " 'have known hirani for yrs what if metoo claims are not true sonam']"
      ]
     },
     "execution_count": 17,
     "metadata": {},
     "output_type": "execute_result"
    }
   ],
   "source": [
    "clean_headlines = []\n",
    "\n",
    "# 전체 Headlines 데이터에 대한 전처리\n",
    "for s in data['headlines']:\n",
    "    clean_headlines.append(preprocess_sentence(s, False))\n",
    "\n",
    "clean_headlines[:5]"
   ]
  },
  {
   "cell_type": "code",
   "execution_count": 18,
   "id": "dominant-programming",
   "metadata": {},
   "outputs": [],
   "source": [
    "data['text'] = clean_text\n",
    "data['headlines'] = clean_headlines\n",
    "\n",
    "# 빈 값을 Null 값으로 변환\n",
    "data.replace('', np.nan, inplace=True)"
   ]
  },
  {
   "cell_type": "code",
   "execution_count": 20,
   "id": "recreational-smile",
   "metadata": {},
   "outputs": [
    {
     "data": {
      "text/html": [
       "<div>\n",
       "<style scoped>\n",
       "    .dataframe tbody tr th:only-of-type {\n",
       "        vertical-align: middle;\n",
       "    }\n",
       "\n",
       "    .dataframe tbody tr th {\n",
       "        vertical-align: top;\n",
       "    }\n",
       "\n",
       "    .dataframe thead th {\n",
       "        text-align: right;\n",
       "    }\n",
       "</style>\n",
       "<table border=\"1\" class=\"dataframe\">\n",
       "  <thead>\n",
       "    <tr style=\"text-align: right;\">\n",
       "      <th></th>\n",
       "      <th>headlines</th>\n",
       "      <th>text</th>\n",
       "    </tr>\n",
       "  </thead>\n",
       "  <tbody>\n",
       "    <tr>\n",
       "      <th>81724</th>\n",
       "      <td>protesters clash with police ahead of summit i...</td>\n",
       "      <td>hundreds protesters clashed police torched pat...</td>\n",
       "    </tr>\n",
       "    <tr>\n",
       "      <th>8862</th>\n",
       "      <td>himalaya new ad promises wellness and happines...</td>\n",
       "      <td>himalaya drug company launched first brand cam...</td>\n",
       "    </tr>\n",
       "    <tr>\n",
       "      <th>7697</th>\n",
       "      <td>picture of george hw bush dog resting near his...</td>\n",
       "      <td>picture late us president george hw bush servi...</td>\n",
       "    </tr>\n",
       "    <tr>\n",
       "      <th>57469</th>\n",
       "      <td>maharashtra govt signs agreements on health ed...</td>\n",
       "      <td>maharashtra government signed agreements vario...</td>\n",
       "    </tr>\n",
       "    <tr>\n",
       "      <th>30335</th>\n",
       "      <td>website flaw exposes real time mobile phone lo...</td>\n",
       "      <td>flaw cellular location data collecting website...</td>\n",
       "    </tr>\n",
       "  </tbody>\n",
       "</table>\n",
       "</div>"
      ],
      "text/plain": [
       "                                               headlines  \\\n",
       "81724  protesters clash with police ahead of summit i...   \n",
       "8862   himalaya new ad promises wellness and happines...   \n",
       "7697   picture of george hw bush dog resting near his...   \n",
       "57469  maharashtra govt signs agreements on health ed...   \n",
       "30335  website flaw exposes real time mobile phone lo...   \n",
       "\n",
       "                                                    text  \n",
       "81724  hundreds protesters clashed police torched pat...  \n",
       "8862   himalaya drug company launched first brand cam...  \n",
       "7697   picture late us president george hw bush servi...  \n",
       "57469  maharashtra government signed agreements vario...  \n",
       "30335  flaw cellular location data collecting website...  "
      ]
     },
     "execution_count": 20,
     "metadata": {},
     "output_type": "execute_result"
    }
   ],
   "source": [
    "data.sample(5)"
   ]
  },
  {
   "cell_type": "code",
   "execution_count": 21,
   "id": "agreed-smoke",
   "metadata": {},
   "outputs": [
    {
     "data": {
      "text/plain": [
       "headlines    0\n",
       "text         0\n",
       "dtype: int64"
      ]
     },
     "execution_count": 21,
     "metadata": {},
     "output_type": "execute_result"
    }
   ],
   "source": [
    "data.isnull().sum()"
   ]
  },
  {
   "cell_type": "markdown",
   "id": "unavailable-appeal",
   "metadata": {},
   "source": [
    "* headlines / text 데이터 중복 제거 + Null 데이터 제거 + 불용어 제거 과정을 거치며 데이터 전처리"
   ]
  },
  {
   "cell_type": "markdown",
   "id": "decreased-petite",
   "metadata": {},
   "source": [
    "#### 전처리 완료된 데이터 분포 체크 후, 최대 길이 조정"
   ]
  },
  {
   "cell_type": "code",
   "execution_count": 23,
   "id": "economic-priority",
   "metadata": {},
   "outputs": [
    {
     "name": "stdout",
     "output_type": "stream",
     "text": [
      "텍스트의 최소 길이 : 1\n",
      "텍스트의 최대 길이 : 60\n",
      "텍스트의 평균 길이 : 35.09968483123221\n",
      "요약의 최소 길이 : 1\n",
      "요약의 최대 길이 : 16\n",
      "요약의 평균 길이 : 9.299532330215534\n"
     ]
    },
    {
     "data": {
      "image/png": "[encoded data removed]",
      "text/plain": [
       "<Figure size 432x288 with 2 Axes>"
      ]
     },
     "metadata": {
      "needs_background": "light"
     },
     "output_type": "display_data"
    },
    {
     "data": {
      "image/png": "[encoded data removed]",
      "text/plain": [
       "<Figure size 432x288 with 1 Axes>"
      ]
     },
     "metadata": {
      "needs_background": "light"
     },
     "output_type": "display_data"
    },
    {
     "data": {
      "image/png": "[encoded data removed]",
      "text/plain": [
       "<Figure size 432x288 with 1 Axes>"
      ]
     },
     "metadata": {
      "needs_background": "light"
     },
     "output_type": "display_data"
    }
   ],
   "source": [
    "# 길이 분포 출력\n",
    "import matplotlib.pyplot as plt\n",
    "\n",
    "text_len = [len(s.split()) for s in data['text']]\n",
    "headlines_len = [len(s.split()) for s in data['headlines']]\n",
    "\n",
    "print('텍스트의 최소 길이 : {}'.format(np.min(text_len)))\n",
    "print('텍스트의 최대 길이 : {}'.format(np.max(text_len)))\n",
    "print('텍스트의 평균 길이 : {}'.format(np.mean(text_len)))\n",
    "print('요약의 최소 길이 : {}'.format(np.min(headlines_len)))\n",
    "print('요약의 최대 길이 : {}'.format(np.max(headlines_len)))\n",
    "print('요약의 평균 길이 : {}'.format(np.mean(headlines_len)))\n",
    "\n",
    "plt.subplot(1,2,1)\n",
    "plt.boxplot(headlines_len)\n",
    "plt.title('Headlines')\n",
    "plt.subplot(1,2,2)\n",
    "plt.boxplot(text_len)\n",
    "plt.title('Text')\n",
    "plt.tight_layout()\n",
    "plt.show()\n",
    "\n",
    "plt.title('Headlines')\n",
    "plt.hist(headlines_len, bins = 40)\n",
    "plt.xlabel('length of samples')\n",
    "plt.ylabel('number of samples')\n",
    "plt.show()\n",
    "\n",
    "plt.title('Text')\n",
    "plt.hist(text_len, bins = 40)\n",
    "plt.xlabel('length of samples')\n",
    "plt.ylabel('number of samples')\n",
    "plt.show()"
   ]
  },
  {
   "cell_type": "markdown",
   "id": "noble-involvement",
   "metadata": {},
   "source": [
    "* 데이터가 정규분포를 이루기 때문에 샘플의 정제는 필요하지 않을 것으로 보임"
   ]
  },
  {
   "cell_type": "markdown",
   "id": "lonely-choir",
   "metadata": {},
   "source": [
    "#### SOS-EOS Token 추가    \n",
    "연속적인 벡터 정보를 저장하기 위해, seq2seq 네트워크 모델 훈련을 위해 디코더의 입력과 레이블에 시작/종료 토큰 추가"
   ]
  },
  {
   "cell_type": "code",
   "execution_count": 24,
   "id": "dying-asbestos",
   "metadata": {},
   "outputs": [
    {
     "data": {
      "text/html": [
       "<div>\n",
       "<style scoped>\n",
       "    .dataframe tbody tr th:only-of-type {\n",
       "        vertical-align: middle;\n",
       "    }\n",
       "\n",
       "    .dataframe tbody tr th {\n",
       "        vertical-align: top;\n",
       "    }\n",
       "\n",
       "    .dataframe thead th {\n",
       "        text-align: right;\n",
       "    }\n",
       "</style>\n",
       "<table border=\"1\" class=\"dataframe\">\n",
       "  <thead>\n",
       "    <tr style=\"text-align: right;\">\n",
       "      <th></th>\n",
       "      <th>headlines</th>\n",
       "      <th>text</th>\n",
       "      <th>decoder_input</th>\n",
       "      <th>decoder_target</th>\n",
       "    </tr>\n",
       "  </thead>\n",
       "  <tbody>\n",
       "    <tr>\n",
       "      <th>0</th>\n",
       "      <td>upgrad learner switches to career in ml al wit...</td>\n",
       "      <td>saurav kant alumnus upgrad iiit pg program mac...</td>\n",
       "      <td>sostoken upgrad learner switches to career in ...</td>\n",
       "      <td>upgrad learner switches to career in ml al wit...</td>\n",
       "    </tr>\n",
       "    <tr>\n",
       "      <th>1</th>\n",
       "      <td>delhi techie wins free food from swiggy for on...</td>\n",
       "      <td>kunal shah credit card bill payment platform c...</td>\n",
       "      <td>sostoken delhi techie wins free food from swig...</td>\n",
       "      <td>delhi techie wins free food from swiggy for on...</td>\n",
       "    </tr>\n",
       "    <tr>\n",
       "      <th>2</th>\n",
       "      <td>new zealand end rohit sharma led india match w...</td>\n",
       "      <td>new zealand defeated india wickets fourth odi ...</td>\n",
       "      <td>sostoken new zealand end rohit sharma led indi...</td>\n",
       "      <td>new zealand end rohit sharma led india match w...</td>\n",
       "    </tr>\n",
       "    <tr>\n",
       "      <th>3</th>\n",
       "      <td>aegon life iterm insurance plan helps customer...</td>\n",
       "      <td>aegon life iterm insurance plan customers enjo...</td>\n",
       "      <td>sostoken aegon life iterm insurance plan helps...</td>\n",
       "      <td>aegon life iterm insurance plan helps customer...</td>\n",
       "    </tr>\n",
       "    <tr>\n",
       "      <th>4</th>\n",
       "      <td>have known hirani for yrs what if metoo claims...</td>\n",
       "      <td>speaking sexual harassment allegations rajkuma...</td>\n",
       "      <td>sostoken have known hirani for yrs what if met...</td>\n",
       "      <td>have known hirani for yrs what if metoo claims...</td>\n",
       "    </tr>\n",
       "  </tbody>\n",
       "</table>\n",
       "</div>"
      ],
      "text/plain": [
       "                                           headlines  \\\n",
       "0  upgrad learner switches to career in ml al wit...   \n",
       "1  delhi techie wins free food from swiggy for on...   \n",
       "2  new zealand end rohit sharma led india match w...   \n",
       "3  aegon life iterm insurance plan helps customer...   \n",
       "4  have known hirani for yrs what if metoo claims...   \n",
       "\n",
       "                                                text  \\\n",
       "0  saurav kant alumnus upgrad iiit pg program mac...   \n",
       "1  kunal shah credit card bill payment platform c...   \n",
       "2  new zealand defeated india wickets fourth odi ...   \n",
       "3  aegon life iterm insurance plan customers enjo...   \n",
       "4  speaking sexual harassment allegations rajkuma...   \n",
       "\n",
       "                                       decoder_input  \\\n",
       "0  sostoken upgrad learner switches to career in ...   \n",
       "1  sostoken delhi techie wins free food from swig...   \n",
       "2  sostoken new zealand end rohit sharma led indi...   \n",
       "3  sostoken aegon life iterm insurance plan helps...   \n",
       "4  sostoken have known hirani for yrs what if met...   \n",
       "\n",
       "                                      decoder_target  \n",
       "0  upgrad learner switches to career in ml al wit...  \n",
       "1  delhi techie wins free food from swiggy for on...  \n",
       "2  new zealand end rohit sharma led india match w...  \n",
       "3  aegon life iterm insurance plan helps customer...  \n",
       "4  have known hirani for yrs what if metoo claims...  "
      ]
     },
     "execution_count": 24,
     "metadata": {},
     "output_type": "execute_result"
    }
   ],
   "source": [
    "#요약 데이터에는 시작 토큰과 종료 토큰을 추가한다.\n",
    "data['decoder_input'] = data['headlines'].apply(lambda x : 'sostoken '+ x)\n",
    "data['decoder_target'] = data['headlines'].apply(lambda x : x + ' eostoken')\n",
    "data.head()"
   ]
  },
  {
   "cell_type": "markdown",
   "id": "expected-accordance",
   "metadata": {},
   "source": [
    "* 시작/종료 토큰을 추가해 준 후, 디코더 관련 레이블을 numpy 타입으로 저장하여 벡터화/모델 생성/모델 훈련을 진행할 준비를 하자"
   ]
  },
  {
   "cell_type": "code",
   "execution_count": 25,
   "id": "auburn-danger",
   "metadata": {},
   "outputs": [],
   "source": [
    "encoder_input = np.array(data['text']) # 인코더의 입력\n",
    "decoder_input = np.array(data['decoder_input']) # 디코더의 입력\n",
    "decoder_target = np.array(data['decoder_target']) # 디코더의 레이블"
   ]
  },
  {
   "cell_type": "code",
   "execution_count": 26,
   "id": "available-anniversary",
   "metadata": {},
   "outputs": [
    {
     "name": "stdout",
     "output_type": "stream",
     "text": [
      "[46611  8977 62882 ... 51764 14150 95684]\n"
     ]
    }
   ],
   "source": [
    "indices = np.arange(encoder_input.shape[0])\n",
    "np.random.shuffle(indices)\n",
    "print(indices)"
   ]
  },
  {
   "cell_type": "code",
   "execution_count": 27,
   "id": "comparative-surprise",
   "metadata": {},
   "outputs": [],
   "source": [
    "encoder_input = encoder_input[indices]\n",
    "decoder_input = decoder_input[indices]\n",
    "decoder_target = decoder_target[indices]"
   ]
  },
  {
   "cell_type": "code",
   "execution_count": 28,
   "id": "coral-special",
   "metadata": {},
   "outputs": [
    {
     "name": "stdout",
     "output_type": "stream",
     "text": [
      "(98360,)\n",
      "(98360,)\n",
      "(98360,)\n"
     ]
    }
   ],
   "source": [
    "print(encoder_input.shape)\n",
    "print(decoder_input.shape)\n",
    "print(decoder_target.shape)"
   ]
  },
  {
   "cell_type": "code",
   "execution_count": 29,
   "id": "wired-addition",
   "metadata": {},
   "outputs": [
    {
     "name": "stdout",
     "output_type": "stream",
     "text": [
      "테스트 데이터의 수 : 19672\n"
     ]
    }
   ],
   "source": [
    "n_of_val = int(len(encoder_input)*0.2)\n",
    "print('테스트 데이터의 수 :',n_of_val)"
   ]
  },
  {
   "cell_type": "code",
   "execution_count": 30,
   "id": "rural-teddy",
   "metadata": {},
   "outputs": [
    {
     "name": "stdout",
     "output_type": "stream",
     "text": [
      "훈련 데이터의 개수 : 78688\n",
      "훈련 레이블의 개수 : 78688\n",
      "테스트 데이터의 개수 : 19672\n",
      "테스트 레이블의 개수 : 19672\n"
     ]
    }
   ],
   "source": [
    "encoder_input_train = encoder_input[:-n_of_val]\n",
    "decoder_input_train = decoder_input[:-n_of_val]\n",
    "decoder_target_train = decoder_target[:-n_of_val]\n",
    "\n",
    "encoder_input_test = encoder_input[-n_of_val:]\n",
    "decoder_input_test = decoder_input[-n_of_val:]\n",
    "decoder_target_test = decoder_target[-n_of_val:]\n",
    "\n",
    "print('훈련 데이터의 개수 :', len(encoder_input_train))\n",
    "print('훈련 레이블의 개수 :',len(decoder_input_train))\n",
    "print('테스트 데이터의 개수 :',len(encoder_input_test))\n",
    "print('테스트 레이블의 개수 :',len(decoder_input_test))"
   ]
  },
  {
   "cell_type": "markdown",
   "id": "constitutional-bikini",
   "metadata": {},
   "source": [
    "#### 정수 인코딩 :: 단어를 벡터화(?)하는 과정"
   ]
  },
  {
   "cell_type": "markdown",
   "id": "preceding-neutral",
   "metadata": {},
   "source": [
    "* keras의 Tokenizer() 함수를 활용하여 단어 집합 생성"
   ]
  },
  {
   "cell_type": "code",
   "execution_count": 31,
   "id": "marine-wings",
   "metadata": {},
   "outputs": [],
   "source": [
    "src_tokenizer = Tokenizer() # 토크나이저 정의\n",
    "src_tokenizer.fit_on_texts(encoder_input_train) # 입력된 데이터로부터 단어 집합 생성"
   ]
  },
  {
   "cell_type": "code",
   "execution_count": 35,
   "id": "egyptian-terrace",
   "metadata": {},
   "outputs": [
    {
     "name": "stdout",
     "output_type": "stream",
     "text": [
      "단어 집합(vocabulary)의 크기 : 69689\n",
      "등장 빈도가 8번 이하인 희귀 단어의 수: 50260\n",
      "단어 집합에서 희귀 단어를 제외시킬 경우의 단어 집합의 크기 19429\n",
      "단어 집합에서 희귀 단어의 비율: 72.12042072637001\n",
      "전체 등장 빈도에서 희귀 단어 등장 빈도 비율: 4.238734778244351\n"
     ]
    }
   ],
   "source": [
    "threshold = 9 # 위 분포도를 보았을 때, 적절하게 지정\n",
    "total_cnt = len(src_tokenizer.word_index) # 단어의 수\n",
    "rare_cnt = 0 # 등장 빈도수가 threshold보다 작은 단어의 개수를 카운트\n",
    "total_freq = 0 # 훈련 데이터의 전체 단어 빈도수 총 합\n",
    "rare_freq = 0 # 등장 빈도수가 threshold보다 작은 단어의 등장 빈도수의 총 합\n",
    "\n",
    "# 단어와 빈도수의 쌍(pair)을 key와 value로 받는다.\n",
    "for key, value in src_tokenizer.word_counts.items():\n",
    "    total_freq = total_freq + value\n",
    "\n",
    "    # 단어의 등장 빈도수가 threshold보다 작으면\n",
    "    if(value < threshold):\n",
    "        rare_cnt = rare_cnt + 1\n",
    "        rare_freq = rare_freq + value\n",
    "\n",
    "print('단어 집합(vocabulary)의 크기 :',total_cnt)\n",
    "print('등장 빈도가 %s번 이하인 희귀 단어의 수: %s'%(threshold - 1, rare_cnt))\n",
    "print('단어 집합에서 희귀 단어를 제외시킬 경우의 단어 집합의 크기 %s'%(total_cnt - rare_cnt))\n",
    "print(\"단어 집합에서 희귀 단어의 비율:\", (rare_cnt / total_cnt)*100)\n",
    "print(\"전체 등장 빈도에서 희귀 단어 등장 빈도 비율:\", (rare_freq / total_freq)*100)"
   ]
  },
  {
   "cell_type": "code",
   "execution_count": 36,
   "id": "invisible-ordinary",
   "metadata": {},
   "outputs": [],
   "source": [
    "src_vocab = 19000\n",
    "src_tokenizer = Tokenizer(num_words = src_vocab) # 단어 집합의 크기를 19,000으로 제한\n",
    "src_tokenizer.fit_on_texts(encoder_input_train) # 단어 집합 재생성."
   ]
  },
  {
   "cell_type": "code",
   "execution_count": 37,
   "id": "resident-burst",
   "metadata": {},
   "outputs": [
    {
     "name": "stdout",
     "output_type": "stream",
     "text": [
      "[[13793, 1016, 16646, 12271, 2978, 579, 7581, 2762, 1099, 3, 512, 751, 2703, 10982, 436, 14, 960, 2354, 1137, 6, 46, 4026, 3496, 1570, 2388, 8282, 1570, 319, 1762, 16646, 49, 2366, 3235, 2920, 2995, 27, 69, 152, 4278, 4132], [77, 3308, 1311, 194, 5658, 1914, 827, 60, 1624, 95, 288, 502, 22, 116, 11590, 19, 4969, 1450, 367, 1450, 4518, 1496, 718, 2704, 3497, 33, 8686, 14304, 10028, 8687, 31, 6801, 21, 5439, 746, 104, 11, 23, 14, 5003, 1], [586, 1647, 1901, 4279, 18399, 1451, 895, 196, 4313, 10246, 262, 1781, 937, 1921, 69, 344, 3526, 1901, 895, 262, 3526, 13794, 1280, 48, 1901, 895, 50, 4246, 1373]]\n"
     ]
    }
   ],
   "source": [
    "# 텍스트 시퀀스를 정수 시퀀스로 변환\n",
    "encoder_input_train = src_tokenizer.texts_to_sequences(encoder_input_train) \n",
    "encoder_input_test = src_tokenizer.texts_to_sequences(encoder_input_test)\n",
    "\n",
    "#잘 진행되었는지 샘플 출력\n",
    "print(encoder_input_train[:3])"
   ]
  },
  {
   "cell_type": "code",
   "execution_count": 38,
   "id": "severe-remark",
   "metadata": {},
   "outputs": [],
   "source": [
    "tar_tokenizer = Tokenizer()\n",
    "tar_tokenizer.fit_on_texts(decoder_input_train)"
   ]
  },
  {
   "cell_type": "code",
   "execution_count": 39,
   "id": "aerial-beatles",
   "metadata": {},
   "outputs": [
    {
     "name": "stdout",
     "output_type": "stream",
     "text": [
      "단어 집합(vocabulary)의 크기 : 30170\n",
      "등장 빈도가 7번 이하인 희귀 단어의 수: 21351\n",
      "단어 집합에서 희귀 단어를 제외시킬 경우의 단어 집합의 크기 8819\n",
      "단어 집합에서 희귀 단어의 비율: 70.76897580377859\n",
      "전체 등장 빈도에서 희귀 단어 등장 빈도 비율: 5.92842653874058\n"
     ]
    }
   ],
   "source": [
    "threshold = 8\n",
    "total_cnt = len(tar_tokenizer.word_index) # 단어의 수\n",
    "rare_cnt = 0 # 등장 빈도수가 threshold보다 작은 단어의 개수를 카운트\n",
    "total_freq = 0 # 훈련 데이터의 전체 단어 빈도수 총 합\n",
    "rare_freq = 0 # 등장 빈도수가 threshold보다 작은 단어의 등장 빈도수의 총 합\n",
    "\n",
    "# 단어와 빈도수의 쌍(pair)을 key와 value로 받는다.\n",
    "for key, value in tar_tokenizer.word_counts.items():\n",
    "    total_freq = total_freq + value\n",
    "\n",
    "    # 단어의 등장 빈도수가 threshold보다 작으면\n",
    "    if(value < threshold):\n",
    "        rare_cnt = rare_cnt + 1\n",
    "        rare_freq = rare_freq + value\n",
    "\n",
    "print('단어 집합(vocabulary)의 크기 :',total_cnt)\n",
    "print('등장 빈도가 %s번 이하인 희귀 단어의 수: %s'%(threshold - 1, rare_cnt))\n",
    "print('단어 집합에서 희귀 단어를 제외시킬 경우의 단어 집합의 크기 %s'%(total_cnt - rare_cnt))\n",
    "print(\"단어 집합에서 희귀 단어의 비율:\", (rare_cnt / total_cnt)*100)\n",
    "print(\"전체 등장 빈도에서 희귀 단어 등장 빈도 비율:\", (rare_freq / total_freq)*100)"
   ]
  },
  {
   "cell_type": "code",
   "execution_count": 40,
   "id": "modern-insight",
   "metadata": {},
   "outputs": [
    {
     "name": "stdout",
     "output_type": "stream",
     "text": [
      "input\n",
      "input  [[1, 39, 19, 1062, 3031, 3, 682, 22, 538], [1, 348, 717, 24, 21, 7628, 139, 28, 2916, 774, 34], [1, 165, 1744, 12, 3411, 902, 1884], [1, 120, 5, 4678, 3, 5642, 208, 4, 315], [1, 2542, 1155, 6, 1985, 89, 3, 520, 216, 164, 90]]\n",
      "target\n",
      "decoder  [[39, 19, 1062, 3031, 3, 682, 22, 538, 2], [348, 717, 24, 21, 7628, 139, 28, 2916, 774, 34, 2], [165, 1744, 12, 3411, 902, 1884, 2], [120, 5, 4678, 3, 5642, 208, 4, 315, 2], [2542, 1155, 6, 1985, 89, 3, 520, 216, 164, 90, 2]]\n"
     ]
    }
   ],
   "source": [
    "tar_vocab = 8000\n",
    "tar_tokenizer = Tokenizer(num_words = tar_vocab) \n",
    "tar_tokenizer.fit_on_texts(decoder_input_train)\n",
    "tar_tokenizer.fit_on_texts(decoder_target_train)\n",
    "\n",
    "# 텍스트 시퀀스를 정수 시퀀스로 변환\n",
    "decoder_input_train = tar_tokenizer.texts_to_sequences(decoder_input_train) \n",
    "decoder_target_train = tar_tokenizer.texts_to_sequences(decoder_target_train)\n",
    "decoder_input_test = tar_tokenizer.texts_to_sequences(decoder_input_test)\n",
    "decoder_target_test = tar_tokenizer.texts_to_sequences(decoder_target_test)\n",
    "\n",
    "#잘 변환되었는지 확인\n",
    "print('input')\n",
    "print('input ',decoder_input_train[:5])\n",
    "print('target')\n",
    "print('decoder ',decoder_target_train[:5])"
   ]
  },
  {
   "cell_type": "code",
   "execution_count": 41,
   "id": "reliable-brick",
   "metadata": {},
   "outputs": [
    {
     "name": "stdout",
     "output_type": "stream",
     "text": [
      "삭제할 훈련 데이터의 개수 : 1\n",
      "삭제할 테스트 데이터의 개수 : 0\n",
      "훈련 데이터의 개수 : 78687\n",
      "훈련 레이블의 개수 : 78687\n",
      "테스트 데이터의 개수 : 19672\n",
      "테스트 레이블의 개수 : 19672\n"
     ]
    },
    {
     "name": "stderr",
     "output_type": "stream",
     "text": [
      "/home/ssac22/Downloads/exit/envs/aiffel/lib/python3.7/site-packages/numpy/core/_asarray.py:83: VisibleDeprecationWarning: Creating an ndarray from ragged nested sequences (which is a list-or-tuple of lists-or-tuples-or ndarrays with different lengths or shapes) is deprecated. If you meant to do this, you must specify 'dtype=object' when creating the ndarray\n",
      "  return array(a, dtype, copy=False, order=order)\n"
     ]
    }
   ],
   "source": [
    "drop_train = [index for index, sentence in enumerate(decoder_input_train) if len(sentence) == 1]\n",
    "drop_test = [index for index, sentence in enumerate(decoder_input_test) if len(sentence) == 1]\n",
    "\n",
    "print('삭제할 훈련 데이터의 개수 :',len(drop_train))\n",
    "print('삭제할 테스트 데이터의 개수 :',len(drop_test))\n",
    "\n",
    "encoder_input_train = np.delete(encoder_input_train, drop_train, axis=0)\n",
    "decoder_input_train = np.delete(decoder_input_train, drop_train, axis=0)\n",
    "decoder_target_train = np.delete(decoder_target_train, drop_train, axis=0)\n",
    "\n",
    "encoder_input_test = np.delete(encoder_input_test, drop_test, axis=0)\n",
    "decoder_input_test = np.delete(decoder_input_test, drop_test, axis=0)\n",
    "decoder_target_test = np.delete(decoder_target_test, drop_test, axis=0)\n",
    "\n",
    "print('훈련 데이터의 개수 :', len(encoder_input_train))\n",
    "print('훈련 레이블의 개수 :',len(decoder_input_train))\n",
    "print('테스트 데이터의 개수 :',len(encoder_input_test))\n",
    "print('테스트 레이블의 개수 :',len(decoder_input_test))"
   ]
  },
  {
   "cell_type": "code",
   "execution_count": 43,
   "id": "beneficial-township",
   "metadata": {},
   "outputs": [],
   "source": [
    "text_max_len = 50\n",
    "summary_max_len = 12"
   ]
  },
  {
   "cell_type": "code",
   "execution_count": 44,
   "id": "recorded-norman",
   "metadata": {},
   "outputs": [],
   "source": [
    "encoder_input_train = pad_sequences(encoder_input_train, maxlen = text_max_len, padding='post')\n",
    "encoder_input_test = pad_sequences(encoder_input_test, maxlen = text_max_len, padding='post')\n",
    "decoder_input_train = pad_sequences(decoder_input_train, maxlen = summary_max_len, padding='post')\n",
    "decoder_target_train = pad_sequences(decoder_target_train, maxlen = summary_max_len, padding='post')\n",
    "decoder_input_test = pad_sequences(decoder_input_test, maxlen = summary_max_len, padding='post')\n",
    "decoder_target_test = pad_sequences(decoder_target_test, maxlen = summary_max_len, padding='post')"
   ]
  },
  {
   "cell_type": "markdown",
   "id": "documentary-permit",
   "metadata": {},
   "source": [
    "## 3) 어텐션 매커니즘 적용"
   ]
  },
  {
   "cell_type": "markdown",
   "id": "material-escape",
   "metadata": {},
   "source": [
    "* 모델 설계 ① 함수형 API를 이용해서 인코더 설계"
   ]
  },
  {
   "cell_type": "code",
   "execution_count": 47,
   "id": "private-laptop",
   "metadata": {},
   "outputs": [
    {
     "name": "stdout",
     "output_type": "stream",
     "text": [
      "WARNING:tensorflow:Layer lstm will not use cuDNN kernel since it doesn't meet the cuDNN kernel criteria. It will use generic GPU kernel as fallback when running on GPU\n",
      "WARNING:tensorflow:Layer lstm_1 will not use cuDNN kernel since it doesn't meet the cuDNN kernel criteria. It will use generic GPU kernel as fallback when running on GPU\n",
      "WARNING:tensorflow:Layer lstm_2 will not use cuDNN kernel since it doesn't meet the cuDNN kernel criteria. It will use generic GPU kernel as fallback when running on GPU\n"
     ]
    }
   ],
   "source": [
    "from tensorflow.keras.layers import Input, LSTM, Embedding, Dense, Concatenate\n",
    "from tensorflow.keras.models import Model\n",
    "from tensorflow.keras.callbacks import EarlyStopping, ModelCheckpoint\n",
    "\n",
    "\n",
    "# 인코더 설계 시작\n",
    "embedding_dim = 128\n",
    "hidden_size = 256\n",
    "\n",
    "# 인코더\n",
    "encoder_inputs = Input(shape=(text_max_len,))\n",
    "\n",
    "# 인코더의 임베딩 층\n",
    "enc_emb = Embedding(src_vocab, embedding_dim)(encoder_inputs)\n",
    "\n",
    "# 인코더의 LSTM 1\n",
    "encoder_lstm1 = LSTM(hidden_size, return_sequences=True, return_state=True ,dropout = 0.4, recurrent_dropout = 0.4)\n",
    "encoder_output1, state_h1, state_c1 = encoder_lstm1(enc_emb)\n",
    "\n",
    "# 인코더의 LSTM 2\n",
    "encoder_lstm2 = LSTM(hidden_size, return_sequences=True, return_state=True, dropout=0.4, recurrent_dropout=0.4)\n",
    "encoder_output2, state_h2, state_c2 = encoder_lstm2(encoder_output1)\n",
    "\n",
    "# 인코더의 LSTM 3\n",
    "encoder_lstm3 = LSTM(hidden_size, return_state=True, return_sequences=True, dropout=0.4, recurrent_dropout=0.4)\n",
    "encoder_outputs, state_h, state_c= encoder_lstm3(encoder_output2)"
   ]
  },
  {
   "cell_type": "markdown",
   "id": "charged-standing",
   "metadata": {},
   "source": [
    "* 모델 설계 ② 디코더 설계"
   ]
  },
  {
   "cell_type": "code",
   "execution_count": 48,
   "id": "classified-little",
   "metadata": {},
   "outputs": [
    {
     "name": "stdout",
     "output_type": "stream",
     "text": [
      "WARNING:tensorflow:Layer lstm_3 will not use cuDNN kernel since it doesn't meet the cuDNN kernel criteria. It will use generic GPU kernel as fallback when running on GPU\n"
     ]
    }
   ],
   "source": [
    "# 디코더 설계\n",
    "\n",
    "decoder_inputs = Input(shape=(None,))\n",
    "\n",
    "# 디코더의 임베딩 층\n",
    "dec_emb_layer = Embedding(tar_vocab, embedding_dim)\n",
    "dec_emb = dec_emb_layer(decoder_inputs)\n",
    "\n",
    "# 디코더의 LSTM\n",
    "decoder_lstm = LSTM(hidden_size, return_sequences = True, return_state = True, dropout = 0.4, recurrent_dropout=0.2)\n",
    "decoder_outputs, _, _ = decoder_lstm(dec_emb, initial_state = [state_h, state_c])"
   ]
  },
  {
   "cell_type": "code",
   "execution_count": 49,
   "id": "running-requirement",
   "metadata": {},
   "outputs": [
    {
     "name": "stdout",
     "output_type": "stream",
     "text": [
      "Model: \"model\"\n",
      "__________________________________________________________________________________________________\n",
      "Layer (type)                    Output Shape         Param #     Connected to                     \n",
      "==================================================================================================\n",
      "input_1 (InputLayer)            [(None, 50)]         0                                            \n",
      "__________________________________________________________________________________________________\n",
      "embedding (Embedding)           (None, 50, 128)      2432000     input_1[0][0]                    \n",
      "__________________________________________________________________________________________________\n",
      "lstm (LSTM)                     [(None, 50, 256), (N 394240      embedding[0][0]                  \n",
      "__________________________________________________________________________________________________\n",
      "input_2 (InputLayer)            [(None, None)]       0                                            \n",
      "__________________________________________________________________________________________________\n",
      "lstm_1 (LSTM)                   [(None, 50, 256), (N 525312      lstm[0][0]                       \n",
      "__________________________________________________________________________________________________\n",
      "embedding_1 (Embedding)         (None, None, 128)    1024000     input_2[0][0]                    \n",
      "__________________________________________________________________________________________________\n",
      "lstm_2 (LSTM)                   [(None, 50, 256), (N 525312      lstm_1[0][0]                     \n",
      "__________________________________________________________________________________________________\n",
      "lstm_3 (LSTM)                   [(None, None, 256),  394240      embedding_1[0][0]                \n",
      "                                                                 lstm_2[0][1]                     \n",
      "                                                                 lstm_2[0][2]                     \n",
      "__________________________________________________________________________________________________\n",
      "dense (Dense)                   (None, None, 8000)   2056000     lstm_3[0][0]                     \n",
      "==================================================================================================\n",
      "Total params: 7,351,104\n",
      "Trainable params: 7,351,104\n",
      "Non-trainable params: 0\n",
      "__________________________________________________________________________________________________\n"
     ]
    }
   ],
   "source": [
    "# 디코더의 출력층\n",
    "decoder_softmax_layer = Dense(tar_vocab, activation = 'softmax')\n",
    "decoder_softmax_outputs = decoder_softmax_layer(decoder_outputs) \n",
    "\n",
    "# 모델 정의\n",
    "model = Model([encoder_inputs, decoder_inputs], decoder_softmax_outputs)\n",
    "model.summary()"
   ]
  },
  {
   "cell_type": "code",
   "execution_count": 50,
   "id": "established-fields",
   "metadata": {},
   "outputs": [],
   "source": [
    "urllib.request.urlretrieve(\"https://raw.githubusercontent.com/thushv89/attention_keras/master/src/layers/attention.py\", filename=\"attention.py\")\n",
    "from attention import AttentionLayer"
   ]
  },
  {
   "cell_type": "code",
   "execution_count": 51,
   "id": "geographic-drama",
   "metadata": {},
   "outputs": [
    {
     "name": "stdout",
     "output_type": "stream",
     "text": [
      "Model: \"model_1\"\n",
      "__________________________________________________________________________________________________\n",
      "Layer (type)                    Output Shape         Param #     Connected to                     \n",
      "==================================================================================================\n",
      "input_1 (InputLayer)            [(None, 50)]         0                                            \n",
      "__________________________________________________________________________________________________\n",
      "embedding (Embedding)           (None, 50, 128)      2432000     input_1[0][0]                    \n",
      "__________________________________________________________________________________________________\n",
      "lstm (LSTM)                     [(None, 50, 256), (N 394240      embedding[0][0]                  \n",
      "__________________________________________________________________________________________________\n",
      "input_2 (InputLayer)            [(None, None)]       0                                            \n",
      "__________________________________________________________________________________________________\n",
      "lstm_1 (LSTM)                   [(None, 50, 256), (N 525312      lstm[0][0]                       \n",
      "__________________________________________________________________________________________________\n",
      "embedding_1 (Embedding)         (None, None, 128)    1024000     input_2[0][0]                    \n",
      "__________________________________________________________________________________________________\n",
      "lstm_2 (LSTM)                   [(None, 50, 256), (N 525312      lstm_1[0][0]                     \n",
      "__________________________________________________________________________________________________\n",
      "lstm_3 (LSTM)                   [(None, None, 256),  394240      embedding_1[0][0]                \n",
      "                                                                 lstm_2[0][1]                     \n",
      "                                                                 lstm_2[0][2]                     \n",
      "__________________________________________________________________________________________________\n",
      "attention_layer (AttentionLayer ((None, None, 256),  131328      lstm_2[0][0]                     \n",
      "                                                                 lstm_3[0][0]                     \n",
      "__________________________________________________________________________________________________\n",
      "concat_layer (Concatenate)      (None, None, 512)    0           lstm_3[0][0]                     \n",
      "                                                                 attention_layer[0][0]            \n",
      "__________________________________________________________________________________________________\n",
      "dense_1 (Dense)                 (None, None, 8000)   4104000     concat_layer[0][0]               \n",
      "==================================================================================================\n",
      "Total params: 9,530,432\n",
      "Trainable params: 9,530,432\n",
      "Non-trainable params: 0\n",
      "__________________________________________________________________________________________________\n"
     ]
    }
   ],
   "source": [
    "# 어텐션 층(어텐션 함수)\n",
    "attn_layer = AttentionLayer(name='attention_layer')\n",
    "# 인코더와 디코더의 모든 time step의 hidden state를 어텐션 층에 전달하고 결과를 리턴\n",
    "attn_out, attn_states = attn_layer([encoder_outputs, decoder_outputs])\n",
    "\n",
    "# 어텐션의 결과와 디코더의 hidden state들을 연결\n",
    "decoder_concat_input = Concatenate(axis = -1, name='concat_layer')([decoder_outputs, attn_out])\n",
    "\n",
    "# 디코더의 출력층\n",
    "decoder_softmax_layer = Dense(tar_vocab, activation='softmax')\n",
    "decoder_softmax_outputs = decoder_softmax_layer(decoder_concat_input)\n",
    "\n",
    "# 모델 정의\n",
    "model = Model([encoder_inputs, decoder_inputs], decoder_softmax_outputs)\n",
    "model.summary()"
   ]
  },
  {
   "cell_type": "markdown",
   "id": "broken-friendly",
   "metadata": {},
   "source": [
    "## 4) 모델 훈련"
   ]
  },
  {
   "cell_type": "code",
   "execution_count": 52,
   "id": "placed-latvia",
   "metadata": {},
   "outputs": [
    {
     "name": "stdout",
     "output_type": "stream",
     "text": [
      "Epoch 1/50\n",
      "308/308 [==============================] - 116s 377ms/step - loss: 5.4227 - val_loss: 5.0054\n",
      "Epoch 2/50\n",
      "308/308 [==============================] - 115s 372ms/step - loss: 4.8386 - val_loss: 4.6274\n",
      "Epoch 3/50\n",
      "308/308 [==============================] - 116s 375ms/step - loss: 4.5118 - val_loss: 4.3821\n",
      "Epoch 4/50\n",
      "308/308 [==============================] - 118s 383ms/step - loss: 4.2584 - val_loss: 4.1895\n",
      "Epoch 5/50\n",
      "308/308 [==============================] - 117s 379ms/step - loss: 4.0603 - val_loss: 4.0570\n",
      "Epoch 6/50\n",
      "308/308 [==============================] - 116s 375ms/step - loss: 3.8940 - val_loss: 3.9400\n",
      "Epoch 7/50\n",
      "308/308 [==============================] - 116s 376ms/step - loss: 3.7469 - val_loss: 3.8377\n",
      "Epoch 8/50\n",
      "308/308 [==============================] - 117s 380ms/step - loss: 3.6202 - val_loss: 3.7613\n",
      "Epoch 9/50\n",
      "308/308 [==============================] - 117s 380ms/step - loss: 3.5102 - val_loss: 3.7065\n",
      "Epoch 10/50\n",
      "308/308 [==============================] - 117s 379ms/step - loss: 3.4097 - val_loss: 3.6391\n",
      "Epoch 11/50\n",
      "308/308 [==============================] - 117s 381ms/step - loss: 3.3225 - val_loss: 3.5986\n",
      "Epoch 12/50\n",
      "308/308 [==============================] - 117s 378ms/step - loss: 3.2433 - val_loss: 3.5562\n",
      "Epoch 13/50\n",
      "308/308 [==============================] - 118s 383ms/step - loss: 3.1718 - val_loss: 3.5250\n",
      "Epoch 14/50\n",
      "308/308 [==============================] - 117s 381ms/step - loss: 3.1092 - val_loss: 3.5034\n",
      "Epoch 15/50\n",
      "308/308 [==============================] - 117s 380ms/step - loss: 3.0522 - val_loss: 3.4788\n",
      "Epoch 16/50\n",
      "308/308 [==============================] - 117s 380ms/step - loss: 2.9989 - val_loss: 3.4605\n",
      "Epoch 17/50\n",
      "308/308 [==============================] - 117s 381ms/step - loss: 2.9458 - val_loss: 3.4499\n",
      "Epoch 18/50\n",
      "308/308 [==============================] - 118s 382ms/step - loss: 2.8992 - val_loss: 3.4270\n",
      "Epoch 19/50\n",
      "308/308 [==============================] - 117s 381ms/step - loss: 2.8547 - val_loss: 3.4160\n",
      "Epoch 20/50\n",
      "308/308 [==============================] - 117s 379ms/step - loss: 2.8140 - val_loss: 3.4072\n",
      "Epoch 21/50\n",
      "308/308 [==============================] - 116s 377ms/step - loss: 2.7766 - val_loss: 3.4060\n",
      "Epoch 22/50\n",
      "308/308 [==============================] - 117s 379ms/step - loss: 2.7412 - val_loss: 3.3950\n",
      "Epoch 23/50\n",
      "308/308 [==============================] - 117s 381ms/step - loss: 2.7045 - val_loss: 3.3902\n",
      "Epoch 24/50\n",
      "308/308 [==============================] - 119s 385ms/step - loss: 2.6690 - val_loss: 3.3863\n",
      "Epoch 25/50\n",
      "308/308 [==============================] - 119s 385ms/step - loss: 2.6375 - val_loss: 3.3771\n",
      "Epoch 26/50\n",
      "308/308 [==============================] - 119s 386ms/step - loss: 2.6071 - val_loss: 3.3708\n",
      "Epoch 27/50\n",
      "308/308 [==============================] - 120s 391ms/step - loss: 2.5808 - val_loss: 3.3689\n",
      "Epoch 28/50\n",
      "308/308 [==============================] - 118s 382ms/step - loss: 2.5522 - val_loss: 3.3732\n",
      "Epoch 29/50\n",
      "308/308 [==============================] - 117s 380ms/step - loss: 2.5263 - val_loss: 3.3732\n",
      "Epoch 00029: early stopping\n"
     ]
    }
   ],
   "source": [
    "model.compile(optimizer='rmsprop', loss='sparse_categorical_crossentropy')\n",
    "es = EarlyStopping(monitor='val_loss', mode='min', verbose=1, patience = 2)\n",
    "history = model.fit(x = [encoder_input_train, decoder_input_train], y = decoder_target_train, \\\n",
    "          validation_data = ([encoder_input_test, decoder_input_test], decoder_target_test),\n",
    "          batch_size = 256, callbacks=[es], epochs = 50)"
   ]
  },
  {
   "cell_type": "code",
   "execution_count": 53,
   "id": "limited-columbia",
   "metadata": {},
   "outputs": [
    {
     "data": {
      "image/png": "[encoded data removed]",
      "text/plain": [
       "<Figure size 432x288 with 1 Axes>"
      ]
     },
     "metadata": {
      "needs_background": "light"
     },
     "output_type": "display_data"
    }
   ],
   "source": [
    "plt.plot(history.history['loss'], label='train')\n",
    "plt.plot(history.history['val_loss'], label='test')\n",
    "plt.legend()\n",
    "plt.show()"
   ]
  },
  {
   "cell_type": "markdown",
   "id": "palestinian-exclusion",
   "metadata": {},
   "source": [
    "## 5) 인퍼런스 모델 구현 및 테스트"
   ]
  },
  {
   "cell_type": "markdown",
   "id": "spare-olive",
   "metadata": {},
   "source": [
    "#### 인퍼런스 모델 구현"
   ]
  },
  {
   "cell_type": "code",
   "execution_count": 54,
   "id": "occasional-vegetarian",
   "metadata": {},
   "outputs": [],
   "source": [
    "src_index_to_word = src_tokenizer.index_word # 원문 단어 집합에서 정수 -> 단어를 얻음\n",
    "tar_word_to_index = tar_tokenizer.word_index # 요약 단어 집합에서 단어 -> 정수를 얻음\n",
    "tar_index_to_word = tar_tokenizer.index_word # 요약 단어 집합에서 정수 -> 단어를 얻음"
   ]
  },
  {
   "cell_type": "code",
   "execution_count": 55,
   "id": "acting-permit",
   "metadata": {},
   "outputs": [],
   "source": [
    "# 인코더 설계\n",
    "encoder_model = Model(inputs=encoder_inputs, outputs=[encoder_outputs, state_h, state_c])\n",
    "\n",
    "# 이전 시점의 상태들을 저장하는 텐서\n",
    "decoder_state_input_h = Input(shape=(hidden_size,))\n",
    "decoder_state_input_c = Input(shape=(hidden_size,))\n",
    "\n",
    "dec_emb2 = dec_emb_layer(decoder_inputs)\n",
    "# 문장의 다음 단어를 예측하기 위해서 초기 상태(initial_state)를 이전 시점의 상태로 사용. 이는 뒤의 함수 decode_sequence()에 구현\n",
    "# 훈련 과정에서와 달리 LSTM의 리턴하는 은닉 상태와 셀 상태인 state_h와 state_c를 버리지 않음.\n",
    "decoder_outputs2, state_h2, state_c2 = decoder_lstm(dec_emb2, initial_state=[decoder_state_input_h, decoder_state_input_c])"
   ]
  },
  {
   "cell_type": "code",
   "execution_count": 56,
   "id": "expanded-copper",
   "metadata": {},
   "outputs": [],
   "source": [
    "# 어텐션 함수\n",
    "decoder_hidden_state_input = Input(shape=(text_max_len, hidden_size))\n",
    "attn_out_inf, attn_states_inf = attn_layer([decoder_hidden_state_input, decoder_outputs2])\n",
    "decoder_inf_concat = Concatenate(axis=-1, name='concat')([decoder_outputs2, attn_out_inf])\n",
    "\n",
    "# 디코더의 출력층\n",
    "decoder_outputs2 = decoder_softmax_layer(decoder_inf_concat) \n",
    "\n",
    "# 최종 디코더 모델\n",
    "decoder_model = Model(\n",
    "    [decoder_inputs] + [decoder_hidden_state_input,decoder_state_input_h, decoder_state_input_c],\n",
    "    [decoder_outputs2] + [state_h2, state_c2])"
   ]
  },
  {
   "cell_type": "code",
   "execution_count": 57,
   "id": "threatened-hearts",
   "metadata": {},
   "outputs": [],
   "source": [
    "def decode_sequence(input_seq):\n",
    "    # 입력으로부터 인코더의 상태를 얻음\n",
    "    e_out, e_h, e_c = encoder_model.predict(input_seq)\n",
    "\n",
    "     # <SOS>에 해당하는 토큰 생성\n",
    "    target_seq = np.zeros((1,1))\n",
    "    target_seq[0, 0] = tar_word_to_index['sostoken']\n",
    "\n",
    "    stop_condition = False\n",
    "    decoded_sentence = ''\n",
    "    while not stop_condition: # stop_condition이 True가 될 때까지 루프 반복\n",
    "\n",
    "        output_tokens, h, c = decoder_model.predict([target_seq] + [e_out, e_h, e_c])\n",
    "        sampled_token_index = np.argmax(output_tokens[0, -1, :])\n",
    "        sampled_token = tar_index_to_word[sampled_token_index]\n",
    "\n",
    "        if(sampled_token!='eostoken'):\n",
    "            decoded_sentence += ' '+sampled_token\n",
    "\n",
    "        #  <eos>에 도달하거나 최대 길이를 넘으면 중단.\n",
    "        if (sampled_token == 'eostoken'  or len(decoded_sentence.split()) >= (summary_max_len-1)):\n",
    "            stop_condition = True\n",
    "\n",
    "        # 길이가 1인 타겟 시퀀스를 업데이트\n",
    "        target_seq = np.zeros((1,1))\n",
    "        target_seq[0, 0] = sampled_token_index\n",
    "\n",
    "        # 상태를 업데이트 합니다.\n",
    "        e_h, e_c = h, c\n",
    "\n",
    "    return decoded_sentence"
   ]
  },
  {
   "cell_type": "markdown",
   "id": "appreciated-chile",
   "metadata": {},
   "source": [
    "#### 모델 테스트"
   ]
  },
  {
   "cell_type": "code",
   "execution_count": 58,
   "id": "facial-centre",
   "metadata": {},
   "outputs": [],
   "source": [
    "# 원문의 정수 시퀀스를 텍스트 시퀀스로 변환\n",
    "def seq2text(input_seq):\n",
    "    temp=''\n",
    "    for i in input_seq:\n",
    "        if(i!=0):\n",
    "            temp = temp + src_index_to_word[i]+' '\n",
    "    return temp\n",
    "\n",
    "# 요약문의 정수 시퀀스를 텍스트 시퀀스로 변환\n",
    "def seq2summary(input_seq):\n",
    "    temp=''\n",
    "    for i in input_seq:\n",
    "        if((i!=0 and i!=tar_word_to_index['sostoken']) and i!=tar_word_to_index['eostoken']):\n",
    "            temp = temp + tar_index_to_word[i] + ' '\n",
    "    return temp"
   ]
  },
  {
   "cell_type": "code",
   "execution_count": 59,
   "id": "marine-capital",
   "metadata": {},
   "outputs": [
    {
     "name": "stdout",
     "output_type": "stream",
     "text": [
      "원문 : one israel leading newspapers described indian prime minister narendra modi important pm world ahead visit country huge expectations us president donald trump visit say much newspaper said added modi leader billion people deserves lot attention \n",
      "실제 요약 : narendra modi world most important pm israeli newspaper \n",
      "예측 요약 :  pm modi is good indian friend israel president\n",
      "\n",
      "\n",
      "원문 : congress vice president rahul gandhi would miss anti bjp rally patna rally gujarat travelling norway invitation country foreign ministry rahul said looking forward meeting exchanging ideas political business leaders research institutions norway recently sonia gandhi pulled patna rally \n",
      "실제 요약 : rahul gandhi heading to norway won attend anti bjp rally \n",
      "예측 요약 :  rahul gandhi leaders leaders attend bjp leaders\n",
      "\n",
      "\n",
      "원문 : flipkart owned phonepe alleged paytm claim largest upi misleading phonepe explained average phonepe customer transactions per month comparable figure paytm representative normal user behaviour phonepe added average value paytm transactions much lower average \n",
      "실제 요약 : paytm claim of largest upi is misleading \n",
      "예측 요약 :  airtel has no idea of paytm ceo\n",
      "\n",
      "\n",
      "원문 : us president donald trump dropped th place th forbes list richest americans trump net worth fell million billion microsoft founder bill gates topped list th consecutive year estimated net worth billion \n",
      "실제 요약 : donald trump falls nearly places on forbes us rich list \n",
      "예측 요약 :  trump highest ever ever quarterly profit at\n",
      "\n",
      "\n",
      "원문 : china based mobile voice search startup developed google assistant powered smart speaker mini also resistant speaker priced allows users control access smart devices home also offers hours battery life set google home app \n",
      "실제 요약 : startup makes speaker with google assistant \n",
      "예측 요약 :  google smart speaker to make smart speaker\n",
      "\n",
      "\n",
      "원문 : congress president rahul gandhi monday alleged prime minister narendra modi trs chief chandrashekar rao aimim leader asaduddin owaisi one speak twisted fooled added said owaisi aimim bjp team whose role split anti bjp kcr vote \n",
      "실제 요약 : modi kcr owaisi are one do not be by them rahul \n",
      "예측 요약 :  rahul has not to be owaisi\n",
      "\n",
      "\n",
      "원문 : anushka sharma varun dhawan starrer sui dhaaga made india film inspire follow heart wrote times sui dhaaga together strong performances said times india indian express called nice safe rated \n",
      "실제 요약 : anushka varun starrer sui dhaaga hits the theatres \n",
      "예측 요약 :  anushka has not our sui dhaaga anushka sharma\n",
      "\n",
      "\n",
      "원문 : facebook ceo mark zuckerberg testify us congress cambridge analytica data leak company data practices according reports cambridge analytica harvested million facebook users personal data exploited influence us elections earlier zuckerberg declined appear uk parliamentary committee undertaking similar investigation \n",
      "실제 요약 : zuckerberg to testify in fb data scandal inquiry reports \n",
      "예측 요약 :  zuckerberg data firm fb data scandal firm ceo\n",
      "\n",
      "\n",
      "원문 : shares vietnamese firm group produces sauce made fish widely used vietnamese cuisine doubled last six months founder become billionaire billion fortune estimated vietnam households use minimum one product according research firm \n",
      "실제 요약 : how did fish make vietnam businessman billionaire \n",
      "예측 요약 :  us firm recalls billion year old disaster\n",
      "\n",
      "\n",
      "원문 : google parent company alphabet posted revenues billion increase year year fiscal year however company posted loss billion fourth quarter due billion one time tax related charge also reported year year increase revenues billion quarter \n",
      "실제 요약 : google parent alphabet posts bn in for fy \n",
      "예측 요약 :  alphabet posts billion revenue in revenue in\n",
      "\n",
      "\n",
      "원문 : manisha koirala said portraying nargis dutt onscreen dream actress said discussing feels honoured played role nargis dutt sanju biopic nargis son sanjay dutt added small role special appearance really excited know audience reaction \n",
      "실제 요약 : it is dream of any actress to play nargis on screen manisha \n",
      "예측 요약 :  dutt was like hrithik on dutt manisha\n",
      "\n",
      "\n",
      "원문 : dubai based airline emirates clarified appears look diamond studded picture shared airline earlier week real presenting emirates image created sara shakeel airline captioned image later went viral many people considered image made artist sara shakeel real \n",
      "실제 요약 : it is not real emirates on diamond plane in viral photo \n",
      "예측 요약 :  airline lets users spend on mcdonald\n",
      "\n",
      "\n",
      "원문 : rocket powered car ssc first public test run thursday hit kmph speed eight seconds car ran km long runway technology formula race cars jets powered rolls royce jet engine reportedly aiming hit kmph speed \n",
      "실제 요약 : rocket powered car hits kmph speed in seconds \n",
      "예측 요약 :  car completes st goal of kmph in seconds\n",
      "\n",
      "\n",
      "원문 : finance minister arun jaitley tuesday said india needs decisive prime minister alliance leadership fulfil people aspirations added india emerged fastest growing economy pm narendra modi said though india fastest growing major economy world presently satisfied growth rate \n",
      "실제 요약 : india needs pm not leadership jaitley \n",
      "예측 요약 :  india has not to be india arun jaitley\n",
      "\n",
      "\n",
      "원문 : bhojpuri actor manoj tiwari said shoot comedian kapil sharma show cancelled due ongoing strike federation western india cine employees day shoot bhojpuri episode got call saying shooting cancelled added tiwari \n",
      "실제 요약 : could not shoot for kapil show due to strike tiwari \n",
      "예측 요약 :  kapil sharma show tamil lankan to go on tv show\n",
      "\n",
      "\n",
      "원문 : amid rewari gangrape case probe haryana cm manohar lal khattar ordered transfer rewari superintendent police rajesh year old girl way coaching centre kidnapped later allegedly raped group men including defence personnel one person taken police custody case \n",
      "실제 요약 : sp transferred amid yr old girl gangrape probe \n",
      "예측 요약 :  haryana cm orders rape victim rapes minor girl\n",
      "\n",
      "\n",
      "원문 : swedish professional boxer jack accidentally punched referee ian john lewis light heavyweight championship bout canada incident happened th round john lewis tried split boxers jack launched left hook intended ended clocking referee instead \n",
      "실제 요약 : boxer accidentally punches referee during title fight \n",
      "예측 요약 :  video shows spacex champion during race\n",
      "\n",
      "\n",
      "원문 : china based startup developed smart monitors users analysing activity real time device uses machine learning technology users nap time fall deep sleep playing music according activities device also provides users nap data app \n",
      "실제 요약 : smart to monitor users made \n",
      "예측 요약 :  smart that can prevent user using phone made\n",
      "\n",
      "\n",
      "원문 : poop transplant medical procedure poop collected tested donor placed patient helps treat problems replacing good bacteria killed inside body patient transplant occurs via tube capsule \n",
      "실제 요약 : poop can be to help remove \n",
      "예측 요약 :  snake found in blood of\n",
      "\n",
      "\n",
      "원문 : firefox web browser maker mozilla suspended facebook advertising citing platform current default settings leave access open lot data mozilla said consider returning facebook takes stronger action shares customer data comes facebook facing criticism exploitation users personal data \n",
      "실제 요약 : pulls ads from facebook over data access concerns \n",
      "예측 요약 :  fb ad ad on facebook ads\n",
      "\n",
      "\n",
      "원문 : puducherry lieutenant governor kiran bedi issued order withdrawing financial powers chief minister narayanasamy according reports order transfers powers chief secretary say financial matters order issued three months ago waiting approval home ministry reports added \n",
      "실제 요약 : kiran bedi tries to cut puducherry cm financial powers \n",
      "예측 요약 :  puducherry bedi seeks to quit as nda cm\n",
      "\n",
      "\n",
      "원문 : last us presidential election donald trump paid slightly higher advertisement prices days hillary clinton also contested post facebook executive andrew revealed covered period june november last weeks campaign trump rate stood clinton around \n",
      "실제 요약 : trump paid higher ad prices than hillary clinton facebook \n",
      "예측 요약 :  trump slams trump for saying he is not bad\n",
      "\n",
      "\n",
      "원문 : bjp spokesperson sambit patra tuesday claimed confession pakistan based imam zafar showed un report human rights violation kashmir conspiracy designed pakistan patra reacting reports claimed constant touch united nations commissioner human rights zeid ra ad al hussein report preparation \n",
      "실제 요약 : un report on kashmir conspiracy by pakistan bjp \n",
      "예측 요약 :  pak must be hindu terrorism bjp leader\n",
      "\n",
      "\n",
      "원문 : open letter comedian kapil sharma former manager wrote misled friends around like said us cried last month trapped added sister preeti kapil ex girlfriend ready clarify matters kapil influence alcohol \n",
      "실제 요약 : kapil cried told us he is trapped comedian former manager \n"
     ]
    },
    {
     "name": "stdout",
     "output_type": "stream",
     "text": [
      "예측 요약 :  kapil sharma reveals he he can never be tried to kiss\n",
      "\n",
      "\n",
      "원문 : delivering verdict supreme court decriminalising homosexuality india cji dipak misra said lgbt community rights ordinary citizen respect others rights others supreme humanity said views popular morality cannot dictate constitutional rights cji misra called section irrational \n",
      "실제 요약 : lgbt community has same rights as any citizen sc \n",
      "예측 요약 :  india will be sc judges if he is not cji\n",
      "\n",
      "\n",
      "원문 : security forces killed three lashkar taiba terrorists encounter district jammu kashmir saturday police personnel injured three ak rifles recovered terrorists comes days top let militant abu dujana aide killed forces state pulwama district \n",
      "실제 요약 : three lashkar terrorists killed in encounter in \n",
      "예측 요약 :  militants killed in encounter in encounter in kashmir\n",
      "\n",
      "\n",
      "원문 : government appointed idbi bank managing director ceo mahesh kumar jain deputy governor rbi jain years experience banking previously served ceo state run indian bank post rbi deputy governor fell vacant ss mundra retired end july \n",
      "실제 요약 : idbi bank ceo mahesh jain appointed rbi deputy governor \n",
      "예측 요약 :  sbi appoints as ceo as ceo as md ceo\n",
      "\n",
      "\n",
      "원문 : michael jackson doctor conrad murray claimed late singer father joe jackson boy prevent developing maintain high pitched voice murray added joe died cancer last month cruel children one worst fathers children history murray said \n",
      "실제 요약 : michael jackson was by dad doctor \n",
      "예측 요약 :  father of my daughter was abused by father\n",
      "\n",
      "\n",
      "원문 : seven year old female leopard rescued drowning foot well maharashtra village team wildlife state forest department video rescue operation went viral social media shows leopard sitting wooden ladder preventing drowning jumping trap cage \n",
      "실제 요약 : yr old leopard rescued from drowning in ft well in maha \n",
      "예측 요약 :  yr old crocodile found inside tree in maharashtra\n",
      "\n",
      "\n",
      "원문 : nordic prime ministers monday trolled united states president donald trump orb moment saudi arabia riyadh recreating viral picture football prime ministers denmark iceland finland norway sweden took picture meeting un sustainable development goals norway pm captioned rules world riyadh vs \n",
      "실제 요약 : five prime ministers troll trump saudi arabia moment \n",
      "예측 요약 :  malaysian pm tweets trump on trump summit\n",
      "\n",
      "\n",
      "원문 : tata group titan considering external internal candidates formal search find successor long time managing director bhaskar bhat external candidates could include tata group companies bhat said bhat jewellery watch retailer years set retire end \n",
      "실제 요약 : considering internal candidates to replace md \n",
      "예측 요약 :  tata steel to acquire rana india\n",
      "\n",
      "\n",
      "원문 : former us president barack obama canadian pm justin trudeau recently met dinner canadian city montreal user tweeted officially shipping trudeau obama best ever another user tweeted obama recommend trudeau hear covfefe pretty good jibe us president donald trump recent typo \n",
      "실제 요약 : twitter reacts to obama trudeau dinner date in \n",
      "예측 요약 :  michelle obama calls pm michelle obama for diwali\n",
      "\n",
      "\n",
      "원문 : fifa world cup viewership twice cricket world cup fifa spent million organise edition generated revenue million last cricket world cup organised icc expense million generated million revenue \n",
      "실제 요약 : how does the cricket world cup fare against fifa world cup \n",
      "예측 요약 :  fifa wc winning fifa wc trophy is the most fifa world\n",
      "\n",
      "\n",
      "원문 : bjp tuesday announced prem kumar chief ministerial candidate upcoming himachal pradesh assembly poll served himachal cm twice election state held november counting votes take place december \n",
      "실제 요약 : bjp announces prem kumar as cm candidate for himachal \n",
      "예측 요약 :  bjp candidate announces lakh for candidate candidate in himachal\n",
      "\n",
      "\n",
      "원문 : venezuela constituent assembly recently created president nicol maduro defiance international criticism given power pass laws assembly opposition led congress opposition believes assembly tasked country constitution help maduro consolidate dictatorship country \n",
      "실제 요약 : venezuelan assembly power amid criticism \n",
      "예측 요약 :  venezuela prez candidate venezuela prez\n",
      "\n",
      "\n",
      "원문 : quit india movement th anniversary prime minister narendra modi today asked people create new india free country poverty dirt corruption terrorism casteism communalism need hour free india today years later issues different modi added \n",
      "실제 요약 : work to create new india by pm modi \n",
      "예측 요약 :  india to be held for india to states\n",
      "\n",
      "\n",
      "원문 : first look poster amitabh bachchan rishi kapoor starrer released film feature two actors together onscreen years bachchan portraying year old father year old son played rishi directed oh god director umesh shukla film scheduled release may \n",
      "실제 요약 : st look poster of big rishi starrer not out released \n",
      "예측 요약 :  first look poster of rishi kapoor starrer unveiled\n",
      "\n",
      "\n",
      "원문 : actor akshay kumar recently tweeted picture prime minister narendra modi discussing upcoming film toilet ek prem katha akshay added pm modi smile title made day movie satirical comedy based governmental initiative swachh bharat abhiyan scheduled release august \n",
      "실제 요약 : akshay discusses film toilet ek prem katha with pm modi \n",
      "예측 요약 :  akshay reacts to pm modi akshay kumar biopic on pm modi\n",
      "\n",
      "\n",
      "원문 : around police personnel went karnataka village saturday arrest father son duo smuggled police surrounded broke open door house duo staying recovered kg pieces lakh cash police said duo full support village \n",
      "실제 요약 : policemen go to karnataka village to catch tree smugglers \n",
      "예측 요약 :  up cops son son duo bag from son\n",
      "\n",
      "\n",
      "원문 : american man sentenced life imprisonment rape cleared charge years prison judge overturned conviction argued trial lawyer provided ineffective assistance dna evidence excluded suspect year old mother said thank getting child place \n",
      "실제 요약 : man freed after yrs in prison for crime he did not commit \n",
      "예측 요약 :  man who yrs jail sentence for yrs jail sentence for yrs\n",
      "\n",
      "\n",
      "원문 : creating dna map elephant family international team scientists confirmed three species modern elephant apart commonly known african asian elephants earlier african listed new species distinct african forest elephants data revealed near complete isolation ancestors duration years \n",
      "실제 요약 : rd elephant species confirmed from asian african \n",
      "예측 요약 :  scientists discover new zealand species\n",
      "\n",
      "\n",
      "원문 : following wework wework wework new workspace located within walking distance train station mumbai making easily accessible building features beautiful workspace private offices conference rooms terrace lounges global community help business thrive \n",
      "실제 요약 : wework to open rd mumbai location in the of \n",
      "예측 요약 :  wework to launch new mumbai mumbai traffic park\n",
      "\n",
      "\n",
      "원문 : actress bhumi pednekar turned tuesday said got confirmation call debut film dum laga ke th birthday bhumi added know react remember going back sleep shock guess dum laga ke also starred ayushmann khurrana \n",
      "실제 요약 : got my debut film on my th birthday bhumi \n",
      "예측 요약 :  was to play in film on my career bhumi\n",
      "\n",
      "\n",
      "원문 : american fast food chain launched point sale system lets diners place orders using facial recognition technology diners required register face account using facial recognition software making first purchase kiosk automatically bring registered customers previous orders buy something later \n",
      "실제 요약 : burger chain lets place orders via facial recognition \n",
      "예측 요약 :  smart to face facial recognition for users\n",
      "\n",
      "\n",
      "원문 : national conference leader former cm omar abdullah tuesday slammed pm narendra modi breaching security protocol travelling single engine allowed fly single engine aircraft much less pm country said abdullah questioned decision foreign pilot fly \n",
      "실제 요약 : pm violated security protocol by flying in omar \n",
      "예측 요약 :  pm modi is lost airport ex cm farooq abdullah\n",
      "\n",
      "\n",
      "원문 : chinese bike sharing startup sued crore year old boy died accident riding bike victim reportedly riding traffic run bus claiming minor managed open mechanical lock startup bike parents accused inadequate locks \n",
      "실제 요약 : chinese bike sharing startup sued for cr on boy death \n",
      "예측 요약 :  startup pays crore for road accident after accident\n",
      "\n",
      "\n",
      "원문 : chennai based digital logistics startup raised crore seed round led venture capital firm nexus venture partners kashyap girish mathrubootham freshdesk ex linkedin india md nishant rao balaji vodafone also participated round founded allows users information transactions communication documentation \n",
      "실제 요약 : chennai digital logistics startup raises crore \n"
     ]
    },
    {
     "name": "stdout",
     "output_type": "stream",
     "text": [
      "예측 요약 :  flipkart co founder invests in startup\n",
      "\n",
      "\n",
      "원문 : following alleged suicide linkin park singer chester bennington posts wife bennington verified twitter account reportedly hacked claimed cheating husband mike one tweets read kill already proof series tweets deleted \n",
      "실제 요약 : tweet by linkin park singer wife claims she cheated on him \n",
      "예측 요약 :  singer suicide rihanna after her affair with him\n",
      "\n",
      "\n",
      "원문 : prime minister narendra modi tuesday visited rajasthan launched road projects worth crore promising change face state modi said work make empty election promises comes ahead rajasthan assembly polls due \n",
      "실제 요약 : pm modi launches road projects worth crore in rajasthan \n",
      "예측 요약 :  pm modi announces cr for projects in assam\n",
      "\n",
      "\n",
      "원문 : hina khan accused fraud jewellery brand denied charges sent counter legal notice company defamation tv actress demanded unconditional public apology within five days receiving notice hina took twitter share copy courier receipt notice \n",
      "실제 요약 : hina sends counter notice to jewellery brand for defamation \n",
      "예측 요약 :  hina khan sues media for defamation case\n",
      "\n",
      "\n"
     ]
    }
   ],
   "source": [
    "for i in range(50, 100):\n",
    "    print(\"원문 :\", seq2text(encoder_input_test[i]))\n",
    "    print(\"실제 요약 :\", seq2summary(decoder_input_test[i]))\n",
    "    print(\"예측 요약 :\", decode_sequence(encoder_input_test[i].reshape(1, text_max_len)))\n",
    "    print(\"\\n\")"
   ]
  },
  {
   "cell_type": "markdown",
   "id": "configured-communist",
   "metadata": {},
   "source": [
    "## 6) Summa를 이용한 추출적 요약"
   ]
  },
  {
   "cell_type": "code",
   "execution_count": 60,
   "id": "vulnerable-premiere",
   "metadata": {},
   "outputs": [],
   "source": [
    "import requests\n",
    "from summa.summarizer import summarize"
   ]
  },
  {
   "cell_type": "code",
   "execution_count": 61,
   "id": "prerequisite-found",
   "metadata": {},
   "outputs": [],
   "source": [
    "text = requests.get('http://rare-technologies.com/the_matrix_synopsis.txt').text"
   ]
  },
  {
   "cell_type": "code",
   "execution_count": 62,
   "id": "durable-puppy",
   "metadata": {},
   "outputs": [
    {
     "name": "stdout",
     "output_type": "stream",
     "text": [
      "The screen is filled with green, cascading code which gives way to the title, The Matrix.\r\n",
      "\r\n",
      "A phone rings and text appears on the screen: \"Call trans opt: received. 2-19-98 13:24:18 REC: Log>\" As a conversation takes place between Trinity (Carrie-Anne Moss) and Cypher (Joe Pantoliano), two free humans, a table of random green numbers are being scanned and individual numbers selected, creating a series of digits not unlike an ordinary phone number, as if a code is being deciphered or a call is being traced.\r\n",
      "\r\n",
      "Trinity discusses some unknown person. Cypher taunts Trinity, suggesting she enjoys watching him. Trinity counters that \"Morpheus (Laurence Fishburne) says he may be 'the One',\" just as the sound of a number being selected alerts Trinity that someone may be tracing their call. She ends the call.\r\n",
      "\r\n",
      "Armed policemen move down a darkened, decrepit hallway in the Heart O' the City Hotel, their flashlight beam bouncing just ahead of them. They come to room 303, kick down the door and find a woman dressed in black, facing away from them. It's Trinity. She brings her hands up from the laptop she's working on at their command.\r\n",
      "\r\n",
      "Outside the hotel a car drives up and three agents appear in neatly pressed black suits. They are Agent Smith (Hugo Weaving), Agent Brown (Paul Goddard), and Agent Jones (Robert Taylor). Agent Smith and the presiding police lieutenant argue. Agent Smith admonishes the policeman that they were given specific orders to contact the agents first, for their\n"
     ]
    }
   ],
   "source": [
    "print(text[:1500])"
   ]
  },
  {
   "cell_type": "code",
   "execution_count": 63,
   "id": "historic-subscription",
   "metadata": {
    "scrolled": true
   },
   "outputs": [
    {
     "name": "stdout",
     "output_type": "stream",
     "text": [
      "Summary:\n",
      "Morpheus, Trinity, Neo, Apoc, Switch, Mouse and Cypher are jacked into the Matrix.\n",
      "Trinity brings the helicopter down to the floor that Morpheus is on and Neo opens fire on the three Agents.\n"
     ]
    }
   ],
   "source": [
    "print('Summary:')\n",
    "print(summarize(text, ratio=0.005))"
   ]
  },
  {
   "cell_type": "code",
   "execution_count": 64,
   "id": "social-italic",
   "metadata": {},
   "outputs": [
    {
     "name": "stdout",
     "output_type": "stream",
     "text": [
      "Summary:\n",
      "['Morpheus, Trinity, Neo, Apoc, Switch, Mouse and Cypher are jacked into the Matrix.', 'Trinity brings the helicopter down to the floor that Morpheus is on and Neo opens fire on the three Agents.']\n"
     ]
    }
   ],
   "source": [
    "print('Summary:')\n",
    "print(summarize(text, ratio=0.005, split=True))"
   ]
  },
  {
   "cell_type": "code",
   "execution_count": 65,
   "id": "copyrighted-palestine",
   "metadata": {},
   "outputs": [
    {
     "name": "stdout",
     "output_type": "stream",
     "text": [
      "Summary:\n",
      "Trinity takes Neo to Morpheus.\n",
      "Morpheus, Trinity, Neo, Apoc, Switch, Mouse and Cypher are jacked into the Matrix.\n",
      "Trinity brings the helicopter down to the floor that Morpheus is on and Neo opens fire on the three Agents.\n"
     ]
    }
   ],
   "source": [
    "print('Summary:')\n",
    "print(summarize(text, words=50))"
   ]
  },
  {
   "cell_type": "code",
   "execution_count": null,
   "id": "incorrect-provision",
   "metadata": {},
   "outputs": [],
   "source": []
  },
  {
   "cell_type": "markdown",
   "id": "recovered-relaxation",
   "metadata": {},
   "source": [
    "## Result of Project   \n",
    "\n",
    "자연어 처리 분야의 프로젝트를 하면, 항상 신기하면서도 (아직은 영어 텍스트를 활용하는 것이 익숙하지만) 텍스트를 정수로 변환하여 그 데이터를 훈련시켜 다시 텍스트로 예측할 수 있는 과정이 신기하게 다가온다.    \n",
    "\n",
    "모든 분야에서 데이터 전처리 과정이 중요하지만, 텍스트 관련 데이터는 데이터 파악 -> 정제 -> 전처리 과정이 가장 중요하게 다가온다.    \n",
    "\n",
    "요약에서는 추상적 요약/추출적 요약의 기법에 따라 전처리 과정이 다르게 적용이 될 것이고, 이번 프로젝트에서는 추상적 요약을 했기 때문에 정제하는 과정에서 불용어 제거나 다양한 전처리 과정이 최소화되어야 다양한 데이터를 활용하여 훈련시켜 다양한 방식으로 **추상적 요약**이 가능할 것 같아 필요에 의한 전처리 과정만 거쳤다.   \n",
    "\n",
    "발전한 RNN 기법인 Attention 기법을 활용하여 맥락을 모두 저장할 수 있게 진행하였고, 모델 생성 -> 모델 훈련 -> 모델 예측의 과정을 거쳤다.    \n",
    "\n",
    "또한, **Summa** 라이브러리를 활용하여 추상적 요약을 더 적절하게 도전해 볼 수 있었다.  \n",
    "\n",
    "## Good   \n",
    "\n",
    "꽤나 관심있고, 흥미로웠던 RNN 네트워크를 다시 학습하고, 기반으로 한 Attention 기법을 학습할 수 있었다. \n",
    "\n",
    "## Difficulties / Challenges  \n",
    "\n",
    "데이터 전처리 과정에서 어떠한 부분이 필요한지, 어떻게 진행해야 할지 맥락이 잘 안 잡히는 부분이 있었다. 기본적인 정제 과정은 진행할 수 있었지만, 뉴스 내용에 내한 제목 데이터를 처리할 때 어떠한 요소를 중요하게 고려해야 할 지 파악하는 부분에서 어려움이 있었다."
   ]
  }
 ],
 "metadata": {
  "kernelspec": {
   "display_name": "aiffel",
   "language": "python",
   "name": "aiffel"
  },
  "language_info": {
   "codemirror_mode": {
    "name": "ipython",
    "version": 3
   },
   "file_extension": ".py",
   "mimetype": "text/x-python",
   "name": "python",
   "nbconvert_exporter": "python",
   "pygments_lexer": "ipython3",
   "version": "3.7.9"
  }
 },
 "nbformat": 4,
 "nbformat_minor": 5
}
